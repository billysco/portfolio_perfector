{
 "cells": [
  {
   "cell_type": "code",
   "execution_count": 1,
   "metadata": {},
   "outputs": [],
   "source": [
    "import pandas as pd\n",
    "import json\n",
    "import os\n",
    "import numpy as np\n",
    "import requests\n",
    "import sqlalchemy as sql\n",
    "import alpaca_trade_api as tradeapi\n",
    "from MCForecastTools import MCSimulation\n",
    "from dotenv import load_dotenv\n",
    "from pathlib import Path\n",
    "import datetime\n",
    "%matplotlib inline"
   ]
  },
  {
   "cell_type": "code",
   "execution_count": 2,
   "metadata": {},
   "outputs": [
    {
     "data": {
      "text/plain": [
       "True"
      ]
     },
     "execution_count": 2,
     "metadata": {},
     "output_type": "execute_result"
    }
   ],
   "source": [
    "# Load the environment variables from the .env file by calling the load_dotenv function\n",
    "load_dotenv()"
   ]
  },
  {
   "cell_type": "code",
   "execution_count": 3,
   "metadata": {},
   "outputs": [],
   "source": [
    "# Set response URLs\n",
    "btc_url = \"https://api.alternative.me/v2/ticker/Bitcoin/?convert=USD\"\n",
    "eth_url = \"https://api.alternative.me/v2/ticker/Ethereum/?convert=USD\"\n",
    "ltc_url = \"https://api.alternative.me/v2/ticker/Litecoin/?convert=USD\""
   ]
  },
  {
   "cell_type": "code",
   "execution_count": 4,
   "metadata": {},
   "outputs": [
    {
     "name": "stdout",
     "output_type": "stream",
     "text": [
      "{\n",
      "    \"data\": {\n",
      "        \"1\": {\n",
      "            \"circulating_supply\": 18635181,\n",
      "            \"id\": 1,\n",
      "            \"last_updated\": 1613956116,\n",
      "            \"max_supply\": 21000000,\n",
      "            \"name\": \"Bitcoin\",\n",
      "            \"quotes\": {\n",
      "                \"USD\": {\n",
      "                    \"market_cap\": 1056342635371,\n",
      "                    \"percent_change_1h\": -1.34640710792664,\n",
      "                    \"percent_change_24h\": 0.309960629289908,\n",
      "                    \"percent_change_7d\": 16.3124533081465,\n",
      "                    \"percentage_change_1h\": -1.34640710792664,\n",
      "                    \"percentage_change_24h\": 0.309960629289908,\n",
      "                    \"percentage_change_7d\": 16.3124533081465,\n",
      "                    \"price\": 56537.0,\n",
      "                    \"volume_24h\": 60347995474\n",
      "                }\n",
      "            },\n",
      "            \"rank\": 1,\n",
      "            \"symbol\": \"BTC\",\n",
      "            \"total_supply\": 18635181,\n",
      "            \"website_slug\": \"bitcoin\"\n",
      "        }\n",
      "    },\n",
      "    \"metadata\": {\n",
      "        \"error\": null,\n",
      "        \"num_cryptocurrencies\": 1361,\n",
      "        \"timestamp\": 1613956116\n",
      "    }\n",
      "}\n"
     ]
    }
   ],
   "source": [
    "# Using the Python requests library, make an API call to access the current price of BTC\n",
    "btc_response = requests.get(btc_url).json()\n",
    "\n",
    "# Use the json.dumps function to review the response data from the API call\n",
    "# Use the indent and sort_keys parameters to make the response object readable\n",
    "print(json.dumps(btc_response,indent=4,sort_keys=True))"
   ]
  },
  {
   "cell_type": "code",
   "execution_count": 5,
   "metadata": {},
   "outputs": [
    {
     "name": "stdout",
     "output_type": "stream",
     "text": [
      "{\n",
      "    \"data\": {\n",
      "        \"1027\": {\n",
      "            \"circulating_supply\": 114769083,\n",
      "            \"id\": 1027,\n",
      "            \"last_updated\": 1613956107,\n",
      "            \"max_supply\": 0,\n",
      "            \"name\": \"Ethereum\",\n",
      "            \"quotes\": {\n",
      "                \"USD\": {\n",
      "                    \"market_cap\": 218780660227,\n",
      "                    \"percent_change_1h\": -1.16178955489627,\n",
      "                    \"percent_change_24h\": -1.88116793025551,\n",
      "                    \"percent_change_7d\": 5.41000783100007,\n",
      "                    \"percentage_change_1h\": -1.16178955489627,\n",
      "                    \"percentage_change_24h\": -1.88116793025551,\n",
      "                    \"percentage_change_7d\": 5.41000783100007,\n",
      "                    \"price\": 1902.63,\n",
      "                    \"volume_24h\": 32364718411\n",
      "                }\n",
      "            },\n",
      "            \"rank\": 2,\n",
      "            \"symbol\": \"ETH\",\n",
      "            \"total_supply\": 114769083,\n",
      "            \"website_slug\": \"ethereum\"\n",
      "        }\n",
      "    },\n",
      "    \"metadata\": {\n",
      "        \"error\": null,\n",
      "        \"num_cryptocurrencies\": 1361,\n",
      "        \"timestamp\": 1613956107\n",
      "    }\n",
      "}\n"
     ]
    }
   ],
   "source": [
    "# Using the Python requests library, make an API call to access the current price ETH\n",
    "eth_response = requests.get(eth_url).json()\n",
    "\n",
    "# Use the json.dumps function to review the response data from the API call\n",
    "# Use the indent and sort_keys parameters to make the response object readable\n",
    "print(json.dumps(eth_response,indent=4,sort_keys=True))"
   ]
  },
  {
   "cell_type": "code",
   "execution_count": 6,
   "metadata": {},
   "outputs": [
    {
     "name": "stdout",
     "output_type": "stream",
     "text": [
      "{\n",
      "    \"data\": {\n",
      "        \"2\": {\n",
      "            \"circulating_supply\": 66528353,\n",
      "            \"id\": 2,\n",
      "            \"last_updated\": 1613956114,\n",
      "            \"max_supply\": 84000000,\n",
      "            \"name\": \"Litecoin\",\n",
      "            \"quotes\": {\n",
      "                \"USD\": {\n",
      "                    \"market_cap\": 14822875005,\n",
      "                    \"percent_change_1h\": -1.01666413328357,\n",
      "                    \"percent_change_24h\": -2.81878935541824,\n",
      "                    \"percent_change_7d\": 3.91583493822493,\n",
      "                    \"percentage_change_1h\": -1.01666413328357,\n",
      "                    \"percentage_change_24h\": -2.81878935541824,\n",
      "                    \"percentage_change_7d\": 3.91583493822493,\n",
      "                    \"price\": 223.44,\n",
      "                    \"volume_24h\": 8563756219\n",
      "                }\n",
      "            },\n",
      "            \"rank\": 8,\n",
      "            \"symbol\": \"LTC\",\n",
      "            \"total_supply\": 66528353,\n",
      "            \"website_slug\": \"litecoin\"\n",
      "        }\n",
      "    },\n",
      "    \"metadata\": {\n",
      "        \"error\": null,\n",
      "        \"num_cryptocurrencies\": 1361,\n",
      "        \"timestamp\": 1613956114\n",
      "    }\n",
      "}\n"
     ]
    }
   ],
   "source": [
    "# Using the Python requests library, make an API call to access the current price LTC\n",
    "ltc_response = requests.get(ltc_url).json()\n",
    "\n",
    "# Use the json.dumps function to review the response data from the API call\n",
    "# Use the indent and sort_keys parameters to make the response object readable\n",
    "print(json.dumps(ltc_response,indent=4,sort_keys=True))"
   ]
  },
  {
   "cell_type": "code",
   "execution_count": 7,
   "metadata": {},
   "outputs": [],
   "source": [
    "# Navigate the BTC response object to access the current price of BTC\n",
    "btc_price = btc_response['data']['1']['quotes']['USD']['price']"
   ]
  },
  {
   "cell_type": "code",
   "execution_count": 8,
   "metadata": {},
   "outputs": [],
   "source": [
    "# Navigate the ETH response object to access the current price of ETH\n",
    "eth_price = eth_response['data']['1027']['quotes']['USD']['price']"
   ]
  },
  {
   "cell_type": "code",
   "execution_count": 9,
   "metadata": {},
   "outputs": [],
   "source": [
    "# Navigate the LTC response object to access the current price of LTC\n",
    "ltc_price = ltc_response['data']['2']['quotes']['USD']['price']"
   ]
  },
  {
   "cell_type": "code",
   "execution_count": 10,
   "metadata": {},
   "outputs": [],
   "source": [
    "# remember to update date\n",
    "today_date = str(datetime.datetime.now()).split()[0]\n",
    "one_year_ago = str(datetime.datetime.now() - datetime.timedelta(days=1*365)).split()[0]\n",
    "three_year_ago = str(datetime.datetime.now() - datetime.timedelta(days=3*365)).split()[0]\n",
    "str(datetime.datetime.now()).split(\" \")[0]\n",
    "# Format current date as ISO format\n",
    "today = pd.Timestamp(today_date, tz=\"America/New_York\").isoformat()\n",
    "today\n",
    "# Format start and end dates as ISO format for one year period\n",
    "start = pd.Timestamp(one_year_ago, tz=\"America/New_York\").isoformat()\n",
    "end = pd.Timestamp(today_date, tz=\"America/New_York\").isoformat()\n",
    "# Included for example\n",
    "# # Get closing prices for FB and TWTR from the last year\n",
    "# df_portfolio_year = alpaca.get_barset(\n",
    "#     tickers,\n",
    "#     timeframe,\n",
    "#     start = start,\n",
    "#     end = end\n",
    "# ).df"
   ]
  },
  {
   "cell_type": "code",
   "execution_count": 11,
   "metadata": {},
   "outputs": [
    {
     "data": {
      "text/plain": [
       "str"
      ]
     },
     "metadata": {},
     "output_type": "display_data"
    },
    {
     "data": {
      "text/plain": [
       "str"
      ]
     },
     "metadata": {},
     "output_type": "display_data"
    }
   ],
   "source": [
    "# Set the variables for the Alpaca API and secret keys\n",
    "alpaca_api_key = os.getenv('ALPACA_API_KEY')\n",
    "alpaca_secret_key = os.getenv('ALPACA_SECRET_KEY')\n",
    "\n",
    "# Create the Alpaca tradeapi.REST object\n",
    "alpaca = tradeapi.REST(alpaca_api_key,alpaca_secret_key,api_version='v2')\n",
    "display(type(alpaca_api_key)) # test to make sure api key imported successfully, str indicates import successful\n",
    "display(type(alpaca_secret_key)) # test to make sure api key imported successfully, str indicates import successful"
   ]
  },
  {
   "cell_type": "code",
   "execution_count": 12,
   "metadata": {},
   "outputs": [],
   "source": [
    "# # Set the tickers to be used\n",
    "# large_company_stocks=['QQQ']\n",
    "\n",
    "# medium_company_stocks=['ARKK']\n",
    "\n",
    "# small_company_stocks=[\n",
    "# 'XSTLA',\n",
    "# 'CLF',\n",
    "# 'MSTR',\n",
    "# 'NEO',\n",
    "# 'DDD',\n",
    "# 'OMCL']\n",
    "\n",
    "# bonds = ['AGG']"
   ]
  },
  {
   "cell_type": "code",
   "execution_count": 13,
   "metadata": {},
   "outputs": [],
   "source": [
    "tickers = ['AGG','QQQ']\n",
    "\n",
    "# Set timeframe to 1D \n",
    "timeframe = '1D'\n",
    "\n",
    "# Format current date as ISO format\n",
    "# Set both the start and end date at the date of your prior weekday \n",
    "# This will give you the closing price of the previous trading day\n",
    "start_date = pd.Timestamp('2021-02-19',tz='America/New_York').isoformat() # remember to update date\n",
    "end_date = pd.Timestamp('2021-02-19',tz='America/New_York').isoformat() # remember to update date"
   ]
  },
  {
   "cell_type": "code",
   "execution_count": 14,
   "metadata": {},
   "outputs": [
    {
     "data": {
      "text/html": [
       "<div>\n",
       "<style scoped>\n",
       "    .dataframe tbody tr th:only-of-type {\n",
       "        vertical-align: middle;\n",
       "    }\n",
       "\n",
       "    .dataframe tbody tr th {\n",
       "        vertical-align: top;\n",
       "    }\n",
       "\n",
       "    .dataframe thead tr th {\n",
       "        text-align: left;\n",
       "    }\n",
       "</style>\n",
       "<table border=\"1\" class=\"dataframe\">\n",
       "  <thead>\n",
       "    <tr>\n",
       "      <th></th>\n",
       "      <th colspan=\"5\" halign=\"left\">AGG</th>\n",
       "      <th colspan=\"5\" halign=\"left\">QQQ</th>\n",
       "    </tr>\n",
       "    <tr>\n",
       "      <th></th>\n",
       "      <th>open</th>\n",
       "      <th>high</th>\n",
       "      <th>low</th>\n",
       "      <th>close</th>\n",
       "      <th>volume</th>\n",
       "      <th>open</th>\n",
       "      <th>high</th>\n",
       "      <th>low</th>\n",
       "      <th>close</th>\n",
       "      <th>volume</th>\n",
       "    </tr>\n",
       "  </thead>\n",
       "  <tbody>\n",
       "    <tr>\n",
       "      <th>2021-02-19 00:00:00-05:00</th>\n",
       "      <td>116.0187</td>\n",
       "      <td>116.06</td>\n",
       "      <td>115.7515</td>\n",
       "      <td>115.83</td>\n",
       "      <td>4416681</td>\n",
       "      <td>333.86</td>\n",
       "      <td>333.99</td>\n",
       "      <td>329.97</td>\n",
       "      <td>331.04</td>\n",
       "      <td>36173201</td>\n",
       "    </tr>\n",
       "  </tbody>\n",
       "</table>\n",
       "</div>"
      ],
      "text/plain": [
       "                                AGG                                     \\\n",
       "                               open    high       low   close   volume   \n",
       "2021-02-19 00:00:00-05:00  116.0187  116.06  115.7515  115.83  4416681   \n",
       "\n",
       "                              QQQ                                    \n",
       "                             open    high     low   close    volume  \n",
       "2021-02-19 00:00:00-05:00  333.86  333.99  329.97  331.04  36173201  "
      ]
     },
     "execution_count": 14,
     "metadata": {},
     "output_type": "execute_result"
    }
   ],
   "source": [
    "# Use the Alpaca get_barset function to get current closing prices the portfolio\n",
    "# Be sure to set the `df` property after the function to format the response object as a DataFrame\n",
    "prices_df = alpaca.get_barset(tickers,timeframe,start=start_date,end=end_date).df\n",
    "\n",
    "# Review the first 5 rows of the Alpaca DataFrame\n",
    "prices_df.head()"
   ]
  },
  {
   "cell_type": "code",
   "execution_count": 15,
   "metadata": {},
   "outputs": [],
   "source": [
    "# Access the closing price for AGG from the Alpaca DataFrame\n",
    "# Converting the value to a floating point number\n",
    "agg_close_price = prices_df['AGG']['close'].item()"
   ]
  },
  {
   "cell_type": "code",
   "execution_count": 16,
   "metadata": {},
   "outputs": [],
   "source": [
    "# Access the closing price for SPY from the Alpaca DataFrame\n",
    "# Converting the value to a floating point number\n",
    "# spy_close_price = prices_df['SPY']['close'].item()"
   ]
  },
  {
   "cell_type": "code",
   "execution_count": 17,
   "metadata": {},
   "outputs": [],
   "source": [
    "# Access the closing price for QQQ from the Alpaca DataFrame\n",
    "# Converting the value to a floating point number\n",
    "qqq_close_price = prices_df['QQQ']['close'].item()"
   ]
  },
  {
   "cell_type": "code",
   "execution_count": 18,
   "metadata": {},
   "outputs": [],
   "source": [
    "# Access the closing price for ARKK from the Alpaca DataFrame\n",
    "# Converting the value to a floating point number\n",
    "# arkk_close_price = prices_df['ARKK']['close'].item()"
   ]
  },
  {
   "cell_type": "code",
   "execution_count": 19,
   "metadata": {},
   "outputs": [],
   "source": [
    "# Access the closing price for O from the Alpaca DataFrame\n",
    "# Converting the value to a floating point number\n",
    "# o_close_price = prices_df['O']['close'].item()"
   ]
  },
  {
   "cell_type": "code",
   "execution_count": 20,
   "metadata": {},
   "outputs": [],
   "source": [
    "# Access the closing price for VNQ from the Alpaca DataFrame\n",
    "# Converting the value to a floating point number\n",
    "# vnq_close_price = prices_df['VNQ']['close'].item()\n",
    "# print(vnq_close_price)"
   ]
  },
  {
   "cell_type": "code",
   "execution_count": 21,
   "metadata": {},
   "outputs": [],
   "source": [
    "# Get user info\n",
    "user_info = pd.read_csv(Path('data/user_info.csv'))"
   ]
  },
  {
   "cell_type": "code",
   "execution_count": 22,
   "metadata": {},
   "outputs": [
    {
     "data": {
      "text/html": [
       "<div>\n",
       "<style scoped>\n",
       "    .dataframe tbody tr th:only-of-type {\n",
       "        vertical-align: middle;\n",
       "    }\n",
       "\n",
       "    .dataframe tbody tr th {\n",
       "        vertical-align: top;\n",
       "    }\n",
       "\n",
       "    .dataframe thead th {\n",
       "        text-align: right;\n",
       "    }\n",
       "</style>\n",
       "<table border=\"1\" class=\"dataframe\">\n",
       "  <thead>\n",
       "    <tr style=\"text-align: right;\">\n",
       "      <th></th>\n",
       "      <th>current_age</th>\n",
       "      <th>yearly_retirement_income</th>\n",
       "      <th>retirement_age</th>\n",
       "      <th>current_savings</th>\n",
       "      <th>retirement_goal</th>\n",
       "      <th>portfolio_allocation</th>\n",
       "    </tr>\n",
       "  </thead>\n",
       "  <tbody>\n",
       "    <tr>\n",
       "      <th>0</th>\n",
       "      <td>23</td>\n",
       "      <td>50</td>\n",
       "      <td>50</td>\n",
       "      <td>50</td>\n",
       "      <td>2450</td>\n",
       "      <td>[0.0, 0.7, 0.3]</td>\n",
       "    </tr>\n",
       "  </tbody>\n",
       "</table>\n",
       "</div>"
      ],
      "text/plain": [
       "   current_age  yearly_retirement_income  retirement_age  current_savings  \\\n",
       "0           23                        50              50               50   \n",
       "\n",
       "   retirement_goal portfolio_allocation  \n",
       "0             2450      [0.0, 0.7, 0.3]  "
      ]
     },
     "execution_count": 22,
     "metadata": {},
     "output_type": "execute_result"
    }
   ],
   "source": [
    "# Start to build portfolio options\n",
    "user_info"
   ]
  },
  {
   "cell_type": "code",
   "execution_count": 23,
   "metadata": {},
   "outputs": [],
   "source": [
    "age = user_info['current_age']"
   ]
  },
  {
   "cell_type": "code",
   "execution_count": 24,
   "metadata": {},
   "outputs": [
    {
     "name": "stdout",
     "output_type": "stream",
     "text": [
      "0    [0.0, 0.7, 0.3]\n",
      "Name: portfolio_allocation, dtype: object\n"
     ]
    }
   ],
   "source": [
    "# Calculate the % of the portfolio that will be allocated to stocks based on user age if the user doesn't want crypto\n",
    "user_info.loc[:,'portfolio_allocation'] = user_info.loc[:,'portfolio_allocation'].str.replace(\"'\",\"\")\n",
    "portfolio_allocation = str(user_info['portfolio_allocation'])\n",
    "print(portfolio_allocation)"
   ]
  },
  {
   "cell_type": "code",
   "execution_count": 25,
   "metadata": {},
   "outputs": [
    {
     "ename": "SyntaxError",
     "evalue": "invalid syntax (<ipython-input-25-e595ac9df948>, line 2)",
     "output_type": "error",
     "traceback": [
      "\u001b[1;36m  File \u001b[1;32m\"<ipython-input-25-e595ac9df948>\"\u001b[1;36m, line \u001b[1;32m2\u001b[0m\n\u001b[1;33m    if portfolio_allocation == [0.0,0.7,0.3]\u001b[0m\n\u001b[1;37m                                            ^\u001b[0m\n\u001b[1;31mSyntaxError\u001b[0m\u001b[1;31m:\u001b[0m invalid syntax\n"
     ]
    }
   ],
   "source": [
    "# Calculate the % of the portfolio that will be allocated to stocks based on user age if the user does want crypto\n",
    "if portfolio_allocation == '0    [0.0, 0.7, 0.3]', '0    [0.2,0.6,0.2]','0    [0.4,0.4,0.2]'\n",
    "\n",
    "percent_bonds = portfolio_allocation[6:8]\n",
    "print(percent_bonds)"
   ]
  },
  {
   "cell_type": "code",
   "execution_count": null,
   "metadata": {},
   "outputs": [],
   "source": [
    "percent_stocks = portfolio_allocation[10:12]\n",
    "print(percent_stocks)"
   ]
  },
  {
   "cell_type": "code",
   "execution_count": null,
   "metadata": {},
   "outputs": [],
   "source": [
    "percent_crypto = portfolio_allocation[14:16]\n",
    "print(percent_crypto)"
   ]
  },
  {
   "cell_type": "code",
   "execution_count": null,
   "metadata": {},
   "outputs": [],
   "source": [
    "aggressive_stock_amt = .7*(user_info['current_savings'])\n",
    "# stock_amt = .7*(stock_int)\n",
    "print(stock_amt)"
   ]
  },
  {
   "cell_type": "code",
   "execution_count": null,
   "metadata": {},
   "outputs": [],
   "source": [
    "btc_amt = .3*(user_info['current_savings'])"
   ]
  },
  {
   "cell_type": "code",
   "execution_count": null,
   "metadata": {},
   "outputs": [],
   "source": []
  },
  {
   "cell_type": "code",
   "execution_count": null,
   "metadata": {},
   "outputs": [],
   "source": [
    "# GOAL: finish MVP by Tuesday, full by Thursday\n",
    "# Build portfolios with each allocation\n",
    "# Run monte carlos and graphs\n",
    "# Finish CLI\n",
    "# Test for bugs\n",
    "# "
   ]
  }
 ],
 "metadata": {
  "kernelspec": {
   "display_name": "Python 3",
   "language": "python",
   "name": "python3"
  },
  "language_info": {
   "codemirror_mode": {
    "name": "ipython",
    "version": 3
   },
   "file_extension": ".py",
   "mimetype": "text/x-python",
   "name": "python",
   "nbconvert_exporter": "python",
   "pygments_lexer": "ipython3",
   "version": "3.8.3"
  }
 },
 "nbformat": 4,
 "nbformat_minor": 4
}
