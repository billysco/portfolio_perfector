{
 "cells": [
  {
   "cell_type": "code",
   "execution_count": 1,
   "metadata": {},
   "outputs": [],
   "source": [
    "import pandas as pd\n",
    "import json\n",
    "import os\n",
    "import numpy as np\n",
    "import requests\n",
    "import sqlalchemy as sql\n",
    "import alpaca_trade_api as tradeapi\n",
    "from MCForecastTools import MCSimulation\n",
    "from dotenv import load_dotenv\n",
    "from pathlib import Path\n",
    "import datetime\n",
    "%matplotlib inline"
   ]
  },
  {
   "cell_type": "code",
   "execution_count": 2,
   "metadata": {},
   "outputs": [
    {
     "data": {
      "text/plain": [
       "True"
      ]
     },
     "execution_count": 2,
     "metadata": {},
     "output_type": "execute_result"
    }
   ],
   "source": [
    "# Load the environment variables from the .env file by calling the load_dotenv function\n",
    "load_dotenv()"
   ]
  },
  {
   "cell_type": "code",
   "execution_count": 3,
   "metadata": {},
   "outputs": [],
   "source": [
    "# Set response URLs\n",
    "btc_url = \"https://api.alternative.me/v2/ticker/Bitcoin/?convert=USD\"\n",
    "eth_url = \"https://api.alternative.me/v2/ticker/Ethereum/?convert=USD\"\n",
    "ltc_url = \"https://api.alternative.me/v2/ticker/Litecoin/?convert=USD\""
   ]
  },
  {
   "cell_type": "code",
   "execution_count": 4,
   "metadata": {},
   "outputs": [
    {
     "name": "stdout",
     "output_type": "stream",
     "text": [
      "{\n",
      "    \"data\": {\n",
      "        \"1\": {\n",
      "            \"circulating_supply\": 18635218,\n",
      "            \"id\": 1,\n",
      "            \"last_updated\": 1613960969,\n",
      "            \"max_supply\": 21000000,\n",
      "            \"name\": \"Bitcoin\",\n",
      "            \"quotes\": {\n",
      "                \"USD\": {\n",
      "                    \"market_cap\": 1058889486262,\n",
      "                    \"percent_change_1h\": 0.345224346693775,\n",
      "                    \"percent_change_24h\": 0.549658322203009,\n",
      "                    \"percent_change_7d\": 17.6724206477506,\n",
      "                    \"percentage_change_1h\": 0.345224346693775,\n",
      "                    \"percentage_change_24h\": 0.549658322203009,\n",
      "                    \"percentage_change_7d\": 17.6724206477506,\n",
      "                    \"price\": 57198.0,\n",
      "                    \"volume_24h\": 61696223124\n",
      "                }\n",
      "            },\n",
      "            \"rank\": 1,\n",
      "            \"symbol\": \"BTC\",\n",
      "            \"total_supply\": 18635218,\n",
      "            \"website_slug\": \"bitcoin\"\n",
      "        }\n",
      "    },\n",
      "    \"metadata\": {\n",
      "        \"error\": null,\n",
      "        \"num_cryptocurrencies\": 1361,\n",
      "        \"timestamp\": 1613960969\n",
      "    }\n",
      "}\n"
     ]
    }
   ],
   "source": [
    "# Using the Python requests library, make an API call to access the current price of BTC\n",
    "btc_response = requests.get(btc_url).json()\n",
    "\n",
    "# Use the json.dumps function to review the response data from the API call\n",
    "# Use the indent and sort_keys parameters to make the response object readable\n",
    "print(json.dumps(btc_response,indent=4,sort_keys=True))"
   ]
  },
  {
   "cell_type": "code",
   "execution_count": 5,
   "metadata": {},
   "outputs": [
    {
     "name": "stdout",
     "output_type": "stream",
     "text": [
      "{\n",
      "    \"data\": {\n",
      "        \"1027\": {\n",
      "            \"circulating_supply\": 114769779,\n",
      "            \"id\": 1027,\n",
      "            \"last_updated\": 1613960870,\n",
      "            \"max_supply\": 0,\n",
      "            \"name\": \"Ethereum\",\n",
      "            \"quotes\": {\n",
      "                \"USD\": {\n",
      "                    \"market_cap\": 219117775760,\n",
      "                    \"percent_change_1h\": -0.356256815075714,\n",
      "                    \"percent_change_24h\": -2.62148050263032,\n",
      "                    \"percent_change_7d\": 5.84654238236493,\n",
      "                    \"percentage_change_1h\": -0.356256815075714,\n",
      "                    \"percentage_change_24h\": -2.62148050263032,\n",
      "                    \"percentage_change_7d\": 5.84654238236493,\n",
      "                    \"price\": 1910.51,\n",
      "                    \"volume_24h\": 32634391620\n",
      "                }\n",
      "            },\n",
      "            \"rank\": 2,\n",
      "            \"symbol\": \"ETH\",\n",
      "            \"total_supply\": 114769779,\n",
      "            \"website_slug\": \"ethereum\"\n",
      "        }\n",
      "    },\n",
      "    \"metadata\": {\n",
      "        \"error\": null,\n",
      "        \"num_cryptocurrencies\": 1361,\n",
      "        \"timestamp\": 1613960870\n",
      "    }\n",
      "}\n"
     ]
    }
   ],
   "source": [
    "# Using the Python requests library, make an API call to access the current price ETH\n",
    "eth_response = requests.get(eth_url).json()\n",
    "\n",
    "# Use the json.dumps function to review the response data from the API call\n",
    "# Use the indent and sort_keys parameters to make the response object readable\n",
    "print(json.dumps(eth_response,indent=4,sort_keys=True))"
   ]
  },
  {
   "cell_type": "code",
   "execution_count": 6,
   "metadata": {},
   "outputs": [
    {
     "name": "stdout",
     "output_type": "stream",
     "text": [
      "{\n",
      "    \"data\": {\n",
      "        \"2\": {\n",
      "            \"circulating_supply\": 66528753,\n",
      "            \"id\": 2,\n",
      "            \"last_updated\": 1613960928,\n",
      "            \"max_supply\": 84000000,\n",
      "            \"name\": \"Litecoin\",\n",
      "            \"quotes\": {\n",
      "                \"USD\": {\n",
      "                    \"market_cap\": 14948477440,\n",
      "                    \"percent_change_1h\": 0.275809314917534,\n",
      "                    \"percent_change_24h\": -3.10997821171731,\n",
      "                    \"percent_change_7d\": 4.94541468451555,\n",
      "                    \"percentage_change_1h\": 0.275809314917534,\n",
      "                    \"percentage_change_24h\": -3.10997821171731,\n",
      "                    \"percentage_change_7d\": 4.94541468451555,\n",
      "                    \"price\": 225.65,\n",
      "                    \"volume_24h\": 8440114373\n",
      "                }\n",
      "            },\n",
      "            \"rank\": 8,\n",
      "            \"symbol\": \"LTC\",\n",
      "            \"total_supply\": 66528753,\n",
      "            \"website_slug\": \"litecoin\"\n",
      "        }\n",
      "    },\n",
      "    \"metadata\": {\n",
      "        \"error\": null,\n",
      "        \"num_cryptocurrencies\": 1361,\n",
      "        \"timestamp\": 1613960928\n",
      "    }\n",
      "}\n"
     ]
    }
   ],
   "source": [
    "# Using the Python requests library, make an API call to access the current price LTC\n",
    "ltc_response = requests.get(ltc_url).json()\n",
    "\n",
    "# Use the json.dumps function to review the response data from the API call\n",
    "# Use the indent and sort_keys parameters to make the response object readable\n",
    "print(json.dumps(ltc_response,indent=4,sort_keys=True))"
   ]
  },
  {
   "cell_type": "code",
   "execution_count": 7,
   "metadata": {},
   "outputs": [],
   "source": [
    "# Navigate the BTC response object to access the current price of BTC\n",
    "btc_price = btc_response['data']['1']['quotes']['USD']['price']"
   ]
  },
  {
   "cell_type": "code",
   "execution_count": 8,
   "metadata": {},
   "outputs": [],
   "source": [
    "# Navigate the ETH response object to access the current price of ETH\n",
    "eth_price = eth_response['data']['1027']['quotes']['USD']['price']"
   ]
  },
  {
   "cell_type": "code",
   "execution_count": 9,
   "metadata": {},
   "outputs": [],
   "source": [
    "# Navigate the LTC response object to access the current price of LTC\n",
    "ltc_price = ltc_response['data']['2']['quotes']['USD']['price']"
   ]
  },
  {
   "cell_type": "code",
   "execution_count": 10,
   "metadata": {},
   "outputs": [],
   "source": [
    "# remember to update date\n",
    "today_date = str(datetime.datetime.now()).split()[0]\n",
    "one_year_ago = str(datetime.datetime.now() - datetime.timedelta(days=1*365)).split()[0]\n",
    "three_year_ago = str(datetime.datetime.now() - datetime.timedelta(days=3*365)).split()[0]\n",
    "str(datetime.datetime.now()).split(\" \")[0]\n",
    "# Format current date as ISO format\n",
    "today = pd.Timestamp(today_date, tz=\"America/New_York\").isoformat()\n",
    "today\n",
    "# Format start and end dates as ISO format for one year period\n",
    "start = pd.Timestamp(one_year_ago, tz=\"America/New_York\").isoformat()\n",
    "end = pd.Timestamp(today_date, tz=\"America/New_York\").isoformat()\n",
    "# Included for example\n",
    "# # Get closing prices for FB and TWTR from the last year\n",
    "# df_portfolio_year = alpaca.get_barset(\n",
    "#     tickers,\n",
    "#     timeframe,\n",
    "#     start = start,\n",
    "#     end = end\n",
    "# ).df"
   ]
  },
  {
   "cell_type": "code",
   "execution_count": 11,
   "metadata": {},
   "outputs": [
    {
     "data": {
      "text/plain": [
       "str"
      ]
     },
     "metadata": {},
     "output_type": "display_data"
    },
    {
     "data": {
      "text/plain": [
       "str"
      ]
     },
     "metadata": {},
     "output_type": "display_data"
    }
   ],
   "source": [
    "# Set the variables for the Alpaca API and secret keys\n",
    "alpaca_api_key = os.getenv('ALPACA_API_KEY')\n",
    "alpaca_secret_key = os.getenv('ALPACA_SECRET_KEY')\n",
    "\n",
    "# Create the Alpaca tradeapi.REST object\n",
    "alpaca = tradeapi.REST(alpaca_api_key,alpaca_secret_key,api_version='v2')\n",
    "display(type(alpaca_api_key)) # test to make sure api key imported successfully, str indicates import successful\n",
    "display(type(alpaca_secret_key)) # test to make sure api key imported successfully, str indicates import successful"
   ]
  },
  {
   "cell_type": "code",
   "execution_count": 12,
   "metadata": {},
   "outputs": [],
   "source": [
    "# # Set the tickers to be used\n",
    "# large_company_stocks=['QQQ']\n",
    "\n",
    "# medium_company_stocks=['ARKK']\n",
    "\n",
    "# small_company_stocks=[\n",
    "# 'XSTLA',\n",
    "# 'CLF',\n",
    "# 'MSTR',\n",
    "# 'NEO',\n",
    "# 'DDD',\n",
    "# 'OMCL']\n",
    "\n",
    "# bonds = ['AGG']"
   ]
  },
  {
   "cell_type": "code",
   "execution_count": 13,
   "metadata": {},
   "outputs": [],
   "source": [
    "tickers = ['AGG','QQQ']\n",
    "\n",
    "# Set timeframe to 1D \n",
    "timeframe = '1D'\n",
    "\n",
    "# Format current date as ISO format\n",
    "# Set both the start and end date at the date of your prior weekday \n",
    "# This will give you the closing price of the previous trading day\n",
    "start_date = pd.Timestamp('2016-02-19',tz='America/New_York').isoformat() # remember to update date\n",
    "end_date = pd.Timestamp('2021-02-19',tz='America/New_York').isoformat() # remember to update date"
   ]
  },
  {
   "cell_type": "code",
   "execution_count": 14,
   "metadata": {},
   "outputs": [
    {
     "data": {
      "text/html": [
       "<div>\n",
       "<style scoped>\n",
       "    .dataframe tbody tr th:only-of-type {\n",
       "        vertical-align: middle;\n",
       "    }\n",
       "\n",
       "    .dataframe tbody tr th {\n",
       "        vertical-align: top;\n",
       "    }\n",
       "\n",
       "    .dataframe thead tr th {\n",
       "        text-align: left;\n",
       "    }\n",
       "</style>\n",
       "<table border=\"1\" class=\"dataframe\">\n",
       "  <thead>\n",
       "    <tr>\n",
       "      <th></th>\n",
       "      <th colspan=\"5\" halign=\"left\">AGG</th>\n",
       "      <th colspan=\"5\" halign=\"left\">QQQ</th>\n",
       "    </tr>\n",
       "    <tr>\n",
       "      <th></th>\n",
       "      <th>open</th>\n",
       "      <th>high</th>\n",
       "      <th>low</th>\n",
       "      <th>close</th>\n",
       "      <th>volume</th>\n",
       "      <th>open</th>\n",
       "      <th>high</th>\n",
       "      <th>low</th>\n",
       "      <th>close</th>\n",
       "      <th>volume</th>\n",
       "    </tr>\n",
       "  </thead>\n",
       "  <tbody>\n",
       "    <tr>\n",
       "      <th>2020-09-28 00:00:00-04:00</th>\n",
       "      <td>118.18</td>\n",
       "      <td>118.22</td>\n",
       "      <td>118.1100</td>\n",
       "      <td>118.20</td>\n",
       "      <td>5318716</td>\n",
       "      <td>276.615</td>\n",
       "      <td>277.0400</td>\n",
       "      <td>271.6740</td>\n",
       "      <td>277.03</td>\n",
       "      <td>51184391</td>\n",
       "    </tr>\n",
       "    <tr>\n",
       "      <th>2020-09-29 00:00:00-04:00</th>\n",
       "      <td>118.28</td>\n",
       "      <td>118.33</td>\n",
       "      <td>118.2100</td>\n",
       "      <td>118.23</td>\n",
       "      <td>3974292</td>\n",
       "      <td>276.720</td>\n",
       "      <td>277.7100</td>\n",
       "      <td>275.3719</td>\n",
       "      <td>275.86</td>\n",
       "      <td>23663696</td>\n",
       "    </tr>\n",
       "    <tr>\n",
       "      <th>2020-09-30 00:00:00-04:00</th>\n",
       "      <td>118.26</td>\n",
       "      <td>118.26</td>\n",
       "      <td>117.9516</td>\n",
       "      <td>118.07</td>\n",
       "      <td>5314447</td>\n",
       "      <td>276.090</td>\n",
       "      <td>281.0900</td>\n",
       "      <td>275.8717</td>\n",
       "      <td>278.10</td>\n",
       "      <td>44849000</td>\n",
       "    </tr>\n",
       "    <tr>\n",
       "      <th>2020-10-01 00:00:00-04:00</th>\n",
       "      <td>117.81</td>\n",
       "      <td>118.04</td>\n",
       "      <td>117.7500</td>\n",
       "      <td>117.99</td>\n",
       "      <td>9535086</td>\n",
       "      <td>281.800</td>\n",
       "      <td>282.8794</td>\n",
       "      <td>279.8400</td>\n",
       "      <td>282.26</td>\n",
       "      <td>44554843</td>\n",
       "    </tr>\n",
       "    <tr>\n",
       "      <th>2020-10-02 00:00:00-04:00</th>\n",
       "      <td>118.03</td>\n",
       "      <td>118.04</td>\n",
       "      <td>117.8100</td>\n",
       "      <td>117.92</td>\n",
       "      <td>5356203</td>\n",
       "      <td>276.010</td>\n",
       "      <td>282.2412</td>\n",
       "      <td>273.4400</td>\n",
       "      <td>274.33</td>\n",
       "      <td>66448911</td>\n",
       "    </tr>\n",
       "  </tbody>\n",
       "</table>\n",
       "</div>"
      ],
      "text/plain": [
       "                              AGG                                         QQQ  \\\n",
       "                             open    high       low   close   volume     open   \n",
       "2020-09-28 00:00:00-04:00  118.18  118.22  118.1100  118.20  5318716  276.615   \n",
       "2020-09-29 00:00:00-04:00  118.28  118.33  118.2100  118.23  3974292  276.720   \n",
       "2020-09-30 00:00:00-04:00  118.26  118.26  117.9516  118.07  5314447  276.090   \n",
       "2020-10-01 00:00:00-04:00  117.81  118.04  117.7500  117.99  9535086  281.800   \n",
       "2020-10-02 00:00:00-04:00  118.03  118.04  117.8100  117.92  5356203  276.010   \n",
       "\n",
       "                                                                 \n",
       "                               high       low   close    volume  \n",
       "2020-09-28 00:00:00-04:00  277.0400  271.6740  277.03  51184391  \n",
       "2020-09-29 00:00:00-04:00  277.7100  275.3719  275.86  23663696  \n",
       "2020-09-30 00:00:00-04:00  281.0900  275.8717  278.10  44849000  \n",
       "2020-10-01 00:00:00-04:00  282.8794  279.8400  282.26  44554843  \n",
       "2020-10-02 00:00:00-04:00  282.2412  273.4400  274.33  66448911  "
      ]
     },
     "execution_count": 14,
     "metadata": {},
     "output_type": "execute_result"
    }
   ],
   "source": [
    "# Use the Alpaca get_barset function to get current closing prices the portfolio\n",
    "# Be sure to set the `df` property after the function to format the response object as a DataFrame\n",
    "prices_df = alpaca.get_barset(tickers,timeframe,start=start_date,end=end_date).df\n",
    "\n",
    "# Review the first 5 rows of the Alpaca DataFrame\n",
    "prices_df.head()"
   ]
  },
  {
   "cell_type": "code",
   "execution_count": 15,
   "metadata": {},
   "outputs": [],
   "source": [
    "# Access the closing price for AGG from the Alpaca DataFrame\n",
    "# Converting the value to a floating point number\n",
    "# agg_close_price = prices_df['AGG']['close'].item()"
   ]
  },
  {
   "cell_type": "code",
   "execution_count": 16,
   "metadata": {},
   "outputs": [],
   "source": [
    "# Access the closing price for SPY from the Alpaca DataFrame\n",
    "# Converting the value to a floating point number\n",
    "# spy_close_price = prices_df['SPY']['close'].item()"
   ]
  },
  {
   "cell_type": "code",
   "execution_count": 17,
   "metadata": {},
   "outputs": [],
   "source": [
    "# Access the closing price for QQQ from the Alpaca DataFrame\n",
    "# Converting the value to a floating point number\n",
    "# qqq_close_price = prices_df['QQQ']['close'].item()"
   ]
  },
  {
   "cell_type": "code",
   "execution_count": 18,
   "metadata": {},
   "outputs": [],
   "source": [
    "# Access the closing price for ARKK from the Alpaca DataFrame\n",
    "# Converting the value to a floating point number\n",
    "# arkk_close_price = prices_df['ARKK']['close'].item()"
   ]
  },
  {
   "cell_type": "code",
   "execution_count": 19,
   "metadata": {},
   "outputs": [],
   "source": [
    "# Access the closing price for O from the Alpaca DataFrame\n",
    "# Converting the value to a floating point number\n",
    "# o_close_price = prices_df['O']['close'].item()"
   ]
  },
  {
   "cell_type": "code",
   "execution_count": 20,
   "metadata": {},
   "outputs": [],
   "source": [
    "# Access the closing price for VNQ from the Alpaca DataFrame\n",
    "# Converting the value to a floating point number\n",
    "# vnq_close_price = prices_df['VNQ']['close'].item()\n",
    "# print(vnq_close_price)"
   ]
  },
  {
   "cell_type": "code",
   "execution_count": 21,
   "metadata": {},
   "outputs": [],
   "source": [
    "# Get user info\n",
    "user_info = pd.read_csv(Path('data/user_info.csv'))"
   ]
  },
  {
   "cell_type": "code",
   "execution_count": 22,
   "metadata": {},
   "outputs": [
    {
     "data": {
      "text/html": [
       "<div>\n",
       "<style scoped>\n",
       "    .dataframe tbody tr th:only-of-type {\n",
       "        vertical-align: middle;\n",
       "    }\n",
       "\n",
       "    .dataframe tbody tr th {\n",
       "        vertical-align: top;\n",
       "    }\n",
       "\n",
       "    .dataframe thead th {\n",
       "        text-align: right;\n",
       "    }\n",
       "</style>\n",
       "<table border=\"1\" class=\"dataframe\">\n",
       "  <thead>\n",
       "    <tr style=\"text-align: right;\">\n",
       "      <th></th>\n",
       "      <th>current_age</th>\n",
       "      <th>yearly_retirement_income</th>\n",
       "      <th>retirement_age</th>\n",
       "      <th>current_savings</th>\n",
       "      <th>retirement_goal</th>\n",
       "      <th>portfolio_allocation</th>\n",
       "    </tr>\n",
       "  </thead>\n",
       "  <tbody>\n",
       "    <tr>\n",
       "      <th>0</th>\n",
       "      <td>23</td>\n",
       "      <td>50000</td>\n",
       "      <td>65</td>\n",
       "      <td>500000</td>\n",
       "      <td>1250000</td>\n",
       "      <td>[0.0, 0.7, 0.3]</td>\n",
       "    </tr>\n",
       "  </tbody>\n",
       "</table>\n",
       "</div>"
      ],
      "text/plain": [
       "   current_age  yearly_retirement_income  retirement_age  current_savings  \\\n",
       "0           23                     50000              65           500000   \n",
       "\n",
       "   retirement_goal portfolio_allocation  \n",
       "0          1250000      [0.0, 0.7, 0.3]  "
      ]
     },
     "execution_count": 22,
     "metadata": {},
     "output_type": "execute_result"
    }
   ],
   "source": [
    "# Start to build portfolio options\n",
    "user_info"
   ]
  },
  {
   "cell_type": "code",
   "execution_count": 23,
   "metadata": {},
   "outputs": [],
   "source": [
    "age = user_info['current_age']"
   ]
  },
  {
   "cell_type": "code",
   "execution_count": 24,
   "metadata": {},
   "outputs": [
    {
     "name": "stdout",
     "output_type": "stream",
     "text": [
      "0    [0.0, 0.7, 0.3]\n",
      "Name: portfolio_allocation, dtype: object\n"
     ]
    }
   ],
   "source": [
    "# Calculate the % of the portfolio that will be allocated to stocks based on user age if the user doesn't want crypto\n",
    "user_info.loc[:,'portfolio_allocation'] = user_info.loc[:,'portfolio_allocation'].str.replace(\"'\",\"\")\n",
    "portfolio_allocation = str(user_info['portfolio_allocation'])\n",
    "print(portfolio_allocation)"
   ]
  },
  {
   "cell_type": "code",
   "execution_count": 25,
   "metadata": {},
   "outputs": [
    {
     "name": "stdout",
     "output_type": "stream",
     "text": [
      ".0\n"
     ]
    }
   ],
   "source": [
    "# Calculate the % of the portfolio that will be allocated to stocks based on user age if the user does want crypto\n",
    "if portfolio_allocation == '0    [0.0, 0.7, 0.3]' or '0    [0.2,0.6,0.2]' or '0    [0.4,0.4,0.2]' or '0    [0.5,0.4,0.1]' or '0    [0.7,0.2,0.1]':\n",
    "    percent_bonds = portfolio_allocation[7:9]\n",
    "else:\n",
    "    percent_bonds = portfolio_allocation[6:8]\n",
    "print(percent_bonds)"
   ]
  },
  {
   "cell_type": "code",
   "execution_count": 26,
   "metadata": {},
   "outputs": [
    {
     "name": "stdout",
     "output_type": "stream",
     "text": [
      ".7\n"
     ]
    }
   ],
   "source": [
    "if portfolio_allocation == '0    [0.0, 0.7, 0.3]' or '0    [0.2,0.6,0.2]' or '0    [0.4,0.4,0.2]' or '0    [0.5,0.4,0.1]' or '0    [0.7,0.2,0.1]':\n",
    "    percent_stocks = portfolio_allocation[12:14]\n",
    "else:\n",
    "    percent_stocks = portfolio_allocation[10:12]\n",
    "print(percent_stocks)"
   ]
  },
  {
   "cell_type": "code",
   "execution_count": 27,
   "metadata": {},
   "outputs": [
    {
     "name": "stdout",
     "output_type": "stream",
     "text": [
      ".3\n"
     ]
    }
   ],
   "source": [
    "if portfolio_allocation == '0    [0.0, 0.7, 0.3]' or '0    [0.2,0.6,0.2]' or '0    [0.4,0.4,0.2]' or '0    [0.5,0.4,0.1]' or '0    [0.7,0.2,0.1]':\n",
    "    percent_crypto = portfolio_allocation[17:19]\n",
    "else:\n",
    "    percent_crypto = portfolio_allocation[14:16]\n",
    "print(percent_crypto)"
   ]
  },
  {
   "cell_type": "code",
   "execution_count": 28,
   "metadata": {},
   "outputs": [
    {
     "data": {
      "text/plain": [
       "0    350000.0\n",
       "Name: current_savings, dtype: float64"
      ]
     },
     "execution_count": 28,
     "metadata": {},
     "output_type": "execute_result"
    }
   ],
   "source": [
    "stock_amt = float(percent_stocks)*user_info['current_savings']\n",
    "stock_amt"
   ]
  },
  {
   "cell_type": "code",
   "execution_count": 29,
   "metadata": {},
   "outputs": [
    {
     "name": "stdout",
     "output_type": "stream",
     "text": [
      "0    150000.0\n",
      "Name: current_savings, dtype: float64\n"
     ]
    }
   ],
   "source": [
    "btc_amt = float(percent_crypto)*(user_info['current_savings'])\n",
    "print(btc_amt)"
   ]
  },
  {
   "cell_type": "code",
   "execution_count": 30,
   "metadata": {},
   "outputs": [
    {
     "name": "stdout",
     "output_type": "stream",
     "text": [
      "0    0.0\n",
      "Name: current_savings, dtype: float64\n"
     ]
    }
   ],
   "source": [
    "bond_amt = float(percent_bonds)*(user_info['current_savings'])\n",
    "print(bond_amt)"
   ]
  },
  {
   "cell_type": "code",
   "execution_count": 31,
   "metadata": {},
   "outputs": [
    {
     "name": "stdout",
     "output_type": "stream",
     "text": [
      "1.0\n"
     ]
    }
   ],
   "source": [
    "if float(stock_amt) > 0:\n",
    "    stock_weight = (float(stock_amt)+float(bond_amt))/float(stock_amt)\n",
    "else:\n",
    "    stock_weight = 0\n",
    "print(stock_weight)"
   ]
  },
  {
   "cell_type": "code",
   "execution_count": 32,
   "metadata": {},
   "outputs": [
    {
     "name": "stdout",
     "output_type": "stream",
     "text": [
      "0\n"
     ]
    }
   ],
   "source": [
    "if float(bond_amt) > 0:\n",
    "    bond_weight = (float(bond_amt)+float(stock_amt))/float(bond_amt)\n",
    "else:\n",
    "    bond_weight = 0\n",
    "print(bond_weight)"
   ]
  },
  {
   "cell_type": "code",
   "execution_count": 33,
   "metadata": {},
   "outputs": [
    {
     "name": "stdout",
     "output_type": "stream",
     "text": [
      "[0, 1.0]\n"
     ]
    }
   ],
   "source": [
    "portfolio_weights = [bond_weight,stock_weight]\n",
    "print(portfolio_weights)"
   ]
  },
  {
   "cell_type": "code",
   "execution_count": 35,
   "metadata": {},
   "outputs": [
    {
     "data": {
      "text/html": [
       "<div>\n",
       "<style scoped>\n",
       "    .dataframe tbody tr th:only-of-type {\n",
       "        vertical-align: middle;\n",
       "    }\n",
       "\n",
       "    .dataframe tbody tr th {\n",
       "        vertical-align: top;\n",
       "    }\n",
       "\n",
       "    .dataframe thead tr th {\n",
       "        text-align: left;\n",
       "    }\n",
       "</style>\n",
       "<table border=\"1\" class=\"dataframe\">\n",
       "  <thead>\n",
       "    <tr>\n",
       "      <th></th>\n",
       "      <th colspan=\"6\" halign=\"left\">AGG</th>\n",
       "      <th colspan=\"6\" halign=\"left\">QQQ</th>\n",
       "    </tr>\n",
       "    <tr>\n",
       "      <th></th>\n",
       "      <th>open</th>\n",
       "      <th>high</th>\n",
       "      <th>low</th>\n",
       "      <th>close</th>\n",
       "      <th>volume</th>\n",
       "      <th>daily_return</th>\n",
       "      <th>open</th>\n",
       "      <th>high</th>\n",
       "      <th>low</th>\n",
       "      <th>close</th>\n",
       "      <th>volume</th>\n",
       "      <th>daily_return</th>\n",
       "    </tr>\n",
       "  </thead>\n",
       "  <tbody>\n",
       "    <tr>\n",
       "      <th>2020-09-28 00:00:00-04:00</th>\n",
       "      <td>118.18</td>\n",
       "      <td>118.22</td>\n",
       "      <td>118.1100</td>\n",
       "      <td>118.20</td>\n",
       "      <td>5318716</td>\n",
       "      <td>NaN</td>\n",
       "      <td>276.615</td>\n",
       "      <td>277.0400</td>\n",
       "      <td>271.6740</td>\n",
       "      <td>277.03</td>\n",
       "      <td>51184391</td>\n",
       "      <td>NaN</td>\n",
       "    </tr>\n",
       "    <tr>\n",
       "      <th>2020-09-29 00:00:00-04:00</th>\n",
       "      <td>118.28</td>\n",
       "      <td>118.33</td>\n",
       "      <td>118.2100</td>\n",
       "      <td>118.23</td>\n",
       "      <td>3974292</td>\n",
       "      <td>0.000254</td>\n",
       "      <td>276.720</td>\n",
       "      <td>277.7100</td>\n",
       "      <td>275.3719</td>\n",
       "      <td>275.86</td>\n",
       "      <td>23663696</td>\n",
       "      <td>-0.004223</td>\n",
       "    </tr>\n",
       "    <tr>\n",
       "      <th>2020-09-30 00:00:00-04:00</th>\n",
       "      <td>118.26</td>\n",
       "      <td>118.26</td>\n",
       "      <td>117.9516</td>\n",
       "      <td>118.07</td>\n",
       "      <td>5314447</td>\n",
       "      <td>-0.001353</td>\n",
       "      <td>276.090</td>\n",
       "      <td>281.0900</td>\n",
       "      <td>275.8717</td>\n",
       "      <td>278.10</td>\n",
       "      <td>44849000</td>\n",
       "      <td>0.008120</td>\n",
       "    </tr>\n",
       "    <tr>\n",
       "      <th>2020-10-01 00:00:00-04:00</th>\n",
       "      <td>117.81</td>\n",
       "      <td>118.04</td>\n",
       "      <td>117.7500</td>\n",
       "      <td>117.99</td>\n",
       "      <td>9535086</td>\n",
       "      <td>-0.000678</td>\n",
       "      <td>281.800</td>\n",
       "      <td>282.8794</td>\n",
       "      <td>279.8400</td>\n",
       "      <td>282.26</td>\n",
       "      <td>44554843</td>\n",
       "      <td>0.014959</td>\n",
       "    </tr>\n",
       "    <tr>\n",
       "      <th>2020-10-02 00:00:00-04:00</th>\n",
       "      <td>118.03</td>\n",
       "      <td>118.04</td>\n",
       "      <td>117.8100</td>\n",
       "      <td>117.92</td>\n",
       "      <td>5356203</td>\n",
       "      <td>-0.000593</td>\n",
       "      <td>276.010</td>\n",
       "      <td>282.2412</td>\n",
       "      <td>273.4400</td>\n",
       "      <td>274.33</td>\n",
       "      <td>66448911</td>\n",
       "      <td>-0.028095</td>\n",
       "    </tr>\n",
       "  </tbody>\n",
       "</table>\n",
       "</div>"
      ],
      "text/plain": [
       "                              AGG                                     \\\n",
       "                             open    high       low   close   volume   \n",
       "2020-09-28 00:00:00-04:00  118.18  118.22  118.1100  118.20  5318716   \n",
       "2020-09-29 00:00:00-04:00  118.28  118.33  118.2100  118.23  3974292   \n",
       "2020-09-30 00:00:00-04:00  118.26  118.26  117.9516  118.07  5314447   \n",
       "2020-10-01 00:00:00-04:00  117.81  118.04  117.7500  117.99  9535086   \n",
       "2020-10-02 00:00:00-04:00  118.03  118.04  117.8100  117.92  5356203   \n",
       "\n",
       "                                            QQQ                              \\\n",
       "                          daily_return     open      high       low   close   \n",
       "2020-09-28 00:00:00-04:00          NaN  276.615  277.0400  271.6740  277.03   \n",
       "2020-09-29 00:00:00-04:00     0.000254  276.720  277.7100  275.3719  275.86   \n",
       "2020-09-30 00:00:00-04:00    -0.001353  276.090  281.0900  275.8717  278.10   \n",
       "2020-10-01 00:00:00-04:00    -0.000678  281.800  282.8794  279.8400  282.26   \n",
       "2020-10-02 00:00:00-04:00    -0.000593  276.010  282.2412  273.4400  274.33   \n",
       "\n",
       "                                                  \n",
       "                             volume daily_return  \n",
       "2020-09-28 00:00:00-04:00  51184391          NaN  \n",
       "2020-09-29 00:00:00-04:00  23663696    -0.004223  \n",
       "2020-09-30 00:00:00-04:00  44849000     0.008120  \n",
       "2020-10-01 00:00:00-04:00  44554843     0.014959  \n",
       "2020-10-02 00:00:00-04:00  66448911    -0.028095  "
      ]
     },
     "execution_count": 35,
     "metadata": {},
     "output_type": "execute_result"
    }
   ],
   "source": [
    "MC_sim = (MCSimulation(portfolio_data=prices_df,weights=portfolio_weights,num_simulation=500,num_trading_days=252*30))\n",
    "MC_sim.portfolio_data.head()"
   ]
  },
  {
   "cell_type": "code",
   "execution_count": 36,
   "metadata": {},
   "outputs": [
    {
     "name": "stdout",
     "output_type": "stream",
     "text": [
      "Running Monte Carlo simulation number 0.\n",
      "Running Monte Carlo simulation number 10.\n",
      "Running Monte Carlo simulation number 20.\n",
      "Running Monte Carlo simulation number 30.\n",
      "Running Monte Carlo simulation number 40.\n",
      "Running Monte Carlo simulation number 50.\n",
      "Running Monte Carlo simulation number 60.\n",
      "Running Monte Carlo simulation number 70.\n",
      "Running Monte Carlo simulation number 80.\n",
      "Running Monte Carlo simulation number 90.\n",
      "Running Monte Carlo simulation number 100.\n",
      "Running Monte Carlo simulation number 110.\n",
      "Running Monte Carlo simulation number 120.\n",
      "Running Monte Carlo simulation number 130.\n",
      "Running Monte Carlo simulation number 140.\n",
      "Running Monte Carlo simulation number 150.\n",
      "Running Monte Carlo simulation number 160.\n",
      "Running Monte Carlo simulation number 170.\n",
      "Running Monte Carlo simulation number 180.\n",
      "Running Monte Carlo simulation number 190.\n",
      "Running Monte Carlo simulation number 200.\n",
      "Running Monte Carlo simulation number 210.\n",
      "Running Monte Carlo simulation number 220.\n",
      "Running Monte Carlo simulation number 230.\n",
      "Running Monte Carlo simulation number 240.\n",
      "Running Monte Carlo simulation number 250.\n",
      "Running Monte Carlo simulation number 260.\n",
      "Running Monte Carlo simulation number 270.\n",
      "Running Monte Carlo simulation number 280.\n",
      "Running Monte Carlo simulation number 290.\n",
      "Running Monte Carlo simulation number 300.\n",
      "Running Monte Carlo simulation number 310.\n",
      "Running Monte Carlo simulation number 320.\n",
      "Running Monte Carlo simulation number 330.\n",
      "Running Monte Carlo simulation number 340.\n",
      "Running Monte Carlo simulation number 350.\n",
      "Running Monte Carlo simulation number 360.\n",
      "Running Monte Carlo simulation number 370.\n",
      "Running Monte Carlo simulation number 380.\n",
      "Running Monte Carlo simulation number 390.\n",
      "Running Monte Carlo simulation number 400.\n",
      "Running Monte Carlo simulation number 410.\n",
      "Running Monte Carlo simulation number 420.\n",
      "Running Monte Carlo simulation number 430.\n",
      "Running Monte Carlo simulation number 440.\n",
      "Running Monte Carlo simulation number 450.\n",
      "Running Monte Carlo simulation number 460.\n",
      "Running Monte Carlo simulation number 470.\n",
      "Running Monte Carlo simulation number 480.\n",
      "Running Monte Carlo simulation number 490.\n"
     ]
    },
    {
     "data": {
      "text/html": [
       "<div>\n",
       "<style scoped>\n",
       "    .dataframe tbody tr th:only-of-type {\n",
       "        vertical-align: middle;\n",
       "    }\n",
       "\n",
       "    .dataframe tbody tr th {\n",
       "        vertical-align: top;\n",
       "    }\n",
       "\n",
       "    .dataframe thead th {\n",
       "        text-align: right;\n",
       "    }\n",
       "</style>\n",
       "<table border=\"1\" class=\"dataframe\">\n",
       "  <thead>\n",
       "    <tr style=\"text-align: right;\">\n",
       "      <th></th>\n",
       "      <th>0</th>\n",
       "      <th>1</th>\n",
       "      <th>2</th>\n",
       "      <th>3</th>\n",
       "      <th>4</th>\n",
       "      <th>5</th>\n",
       "      <th>6</th>\n",
       "      <th>7</th>\n",
       "      <th>8</th>\n",
       "      <th>9</th>\n",
       "      <th>...</th>\n",
       "      <th>490</th>\n",
       "      <th>491</th>\n",
       "      <th>492</th>\n",
       "      <th>493</th>\n",
       "      <th>494</th>\n",
       "      <th>495</th>\n",
       "      <th>496</th>\n",
       "      <th>497</th>\n",
       "      <th>498</th>\n",
       "      <th>499</th>\n",
       "    </tr>\n",
       "  </thead>\n",
       "  <tbody>\n",
       "    <tr>\n",
       "      <th>0</th>\n",
       "      <td>1.000000</td>\n",
       "      <td>1.000000</td>\n",
       "      <td>1.000000</td>\n",
       "      <td>1.000000</td>\n",
       "      <td>1.000000</td>\n",
       "      <td>1.000000e+00</td>\n",
       "      <td>1.000000</td>\n",
       "      <td>1.000000</td>\n",
       "      <td>1.000000</td>\n",
       "      <td>1.000000</td>\n",
       "      <td>...</td>\n",
       "      <td>1.000000</td>\n",
       "      <td>1.000000e+00</td>\n",
       "      <td>1.000000e+00</td>\n",
       "      <td>1.000000</td>\n",
       "      <td>1.000000</td>\n",
       "      <td>1.000000</td>\n",
       "      <td>1.000000</td>\n",
       "      <td>1.000000</td>\n",
       "      <td>1.000000</td>\n",
       "      <td>1.000000</td>\n",
       "    </tr>\n",
       "    <tr>\n",
       "      <th>1</th>\n",
       "      <td>1.010755</td>\n",
       "      <td>0.996318</td>\n",
       "      <td>1.023470</td>\n",
       "      <td>1.000561</td>\n",
       "      <td>1.013595</td>\n",
       "      <td>9.866537e-01</td>\n",
       "      <td>0.995569</td>\n",
       "      <td>1.012636</td>\n",
       "      <td>0.995695</td>\n",
       "      <td>1.012943</td>\n",
       "      <td>...</td>\n",
       "      <td>0.983473</td>\n",
       "      <td>1.005885e+00</td>\n",
       "      <td>1.024285e+00</td>\n",
       "      <td>1.005564</td>\n",
       "      <td>0.985417</td>\n",
       "      <td>0.993558</td>\n",
       "      <td>0.997156</td>\n",
       "      <td>0.990099</td>\n",
       "      <td>0.998093</td>\n",
       "      <td>1.021357</td>\n",
       "    </tr>\n",
       "    <tr>\n",
       "      <th>2</th>\n",
       "      <td>1.028840</td>\n",
       "      <td>1.016650</td>\n",
       "      <td>1.029944</td>\n",
       "      <td>1.001789</td>\n",
       "      <td>1.027942</td>\n",
       "      <td>1.000540e+00</td>\n",
       "      <td>1.006684</td>\n",
       "      <td>1.004974</td>\n",
       "      <td>0.994247</td>\n",
       "      <td>1.011865</td>\n",
       "      <td>...</td>\n",
       "      <td>1.005808</td>\n",
       "      <td>1.015008e+00</td>\n",
       "      <td>1.023981e+00</td>\n",
       "      <td>0.991809</td>\n",
       "      <td>0.999237</td>\n",
       "      <td>1.015556</td>\n",
       "      <td>1.009480</td>\n",
       "      <td>1.010592</td>\n",
       "      <td>1.010263</td>\n",
       "      <td>1.039411</td>\n",
       "    </tr>\n",
       "    <tr>\n",
       "      <th>3</th>\n",
       "      <td>1.026609</td>\n",
       "      <td>1.019807</td>\n",
       "      <td>1.024924</td>\n",
       "      <td>0.980908</td>\n",
       "      <td>1.041819</td>\n",
       "      <td>1.000581e+00</td>\n",
       "      <td>0.983664</td>\n",
       "      <td>1.003976</td>\n",
       "      <td>0.981976</td>\n",
       "      <td>1.002854</td>\n",
       "      <td>...</td>\n",
       "      <td>1.016236</td>\n",
       "      <td>1.049724e+00</td>\n",
       "      <td>1.002980e+00</td>\n",
       "      <td>0.985772</td>\n",
       "      <td>0.997589</td>\n",
       "      <td>1.017033</td>\n",
       "      <td>1.016512</td>\n",
       "      <td>0.987359</td>\n",
       "      <td>1.018367</td>\n",
       "      <td>1.045900</td>\n",
       "    </tr>\n",
       "    <tr>\n",
       "      <th>4</th>\n",
       "      <td>1.035009</td>\n",
       "      <td>1.026214</td>\n",
       "      <td>1.012926</td>\n",
       "      <td>0.983388</td>\n",
       "      <td>1.013455</td>\n",
       "      <td>9.983720e-01</td>\n",
       "      <td>0.983314</td>\n",
       "      <td>0.989971</td>\n",
       "      <td>0.987688</td>\n",
       "      <td>0.989037</td>\n",
       "      <td>...</td>\n",
       "      <td>1.035763</td>\n",
       "      <td>1.054417e+00</td>\n",
       "      <td>9.951362e-01</td>\n",
       "      <td>0.987872</td>\n",
       "      <td>1.005334</td>\n",
       "      <td>1.005979</td>\n",
       "      <td>1.000960</td>\n",
       "      <td>0.978473</td>\n",
       "      <td>1.025534</td>\n",
       "      <td>1.056185</td>\n",
       "    </tr>\n",
       "    <tr>\n",
       "      <th>...</th>\n",
       "      <td>...</td>\n",
       "      <td>...</td>\n",
       "      <td>...</td>\n",
       "      <td>...</td>\n",
       "      <td>...</td>\n",
       "      <td>...</td>\n",
       "      <td>...</td>\n",
       "      <td>...</td>\n",
       "      <td>...</td>\n",
       "      <td>...</td>\n",
       "      <td>...</td>\n",
       "      <td>...</td>\n",
       "      <td>...</td>\n",
       "      <td>...</td>\n",
       "      <td>...</td>\n",
       "      <td>...</td>\n",
       "      <td>...</td>\n",
       "      <td>...</td>\n",
       "      <td>...</td>\n",
       "      <td>...</td>\n",
       "      <td>...</td>\n",
       "    </tr>\n",
       "    <tr>\n",
       "      <th>7556</th>\n",
       "      <td>204263.695676</td>\n",
       "      <td>635377.661080</td>\n",
       "      <td>167423.126856</td>\n",
       "      <td>188692.461194</td>\n",
       "      <td>494518.987051</td>\n",
       "      <td>1.073771e+06</td>\n",
       "      <td>288004.737692</td>\n",
       "      <td>445708.096932</td>\n",
       "      <td>760709.954041</td>\n",
       "      <td>198771.751390</td>\n",
       "      <td>...</td>\n",
       "      <td>752744.936257</td>\n",
       "      <td>1.374573e+06</td>\n",
       "      <td>1.769097e+06</td>\n",
       "      <td>320302.808261</td>\n",
       "      <td>143810.586721</td>\n",
       "      <td>146209.112612</td>\n",
       "      <td>298327.417611</td>\n",
       "      <td>417823.944330</td>\n",
       "      <td>300798.273686</td>\n",
       "      <td>195328.291621</td>\n",
       "    </tr>\n",
       "    <tr>\n",
       "      <th>7557</th>\n",
       "      <td>200255.196052</td>\n",
       "      <td>642854.471097</td>\n",
       "      <td>166422.611412</td>\n",
       "      <td>191229.780966</td>\n",
       "      <td>499333.107934</td>\n",
       "      <td>1.100509e+06</td>\n",
       "      <td>291884.215338</td>\n",
       "      <td>446178.337182</td>\n",
       "      <td>748969.432084</td>\n",
       "      <td>203117.743721</td>\n",
       "      <td>...</td>\n",
       "      <td>748923.847173</td>\n",
       "      <td>1.367756e+06</td>\n",
       "      <td>1.784810e+06</td>\n",
       "      <td>319210.990938</td>\n",
       "      <td>142899.120750</td>\n",
       "      <td>145883.003771</td>\n",
       "      <td>299883.553770</td>\n",
       "      <td>418729.058559</td>\n",
       "      <td>300952.966030</td>\n",
       "      <td>192419.964971</td>\n",
       "    </tr>\n",
       "    <tr>\n",
       "      <th>7558</th>\n",
       "      <td>205324.413902</td>\n",
       "      <td>645650.275990</td>\n",
       "      <td>162462.437417</td>\n",
       "      <td>193948.710011</td>\n",
       "      <td>504682.264913</td>\n",
       "      <td>1.085614e+06</td>\n",
       "      <td>289912.647570</td>\n",
       "      <td>449484.231626</td>\n",
       "      <td>757302.235770</td>\n",
       "      <td>205781.873777</td>\n",
       "      <td>...</td>\n",
       "      <td>765715.560432</td>\n",
       "      <td>1.356238e+06</td>\n",
       "      <td>1.762048e+06</td>\n",
       "      <td>317924.948737</td>\n",
       "      <td>145647.658625</td>\n",
       "      <td>143550.014242</td>\n",
       "      <td>293682.349757</td>\n",
       "      <td>414359.395477</td>\n",
       "      <td>308772.820727</td>\n",
       "      <td>195755.220843</td>\n",
       "    </tr>\n",
       "    <tr>\n",
       "      <th>7559</th>\n",
       "      <td>203676.337838</td>\n",
       "      <td>649496.819540</td>\n",
       "      <td>163197.423425</td>\n",
       "      <td>193438.598583</td>\n",
       "      <td>498467.918983</td>\n",
       "      <td>1.062730e+06</td>\n",
       "      <td>294161.321783</td>\n",
       "      <td>448036.886647</td>\n",
       "      <td>751042.467067</td>\n",
       "      <td>202193.052899</td>\n",
       "      <td>...</td>\n",
       "      <td>762239.667317</td>\n",
       "      <td>1.343303e+06</td>\n",
       "      <td>1.775071e+06</td>\n",
       "      <td>315671.324250</td>\n",
       "      <td>147061.332679</td>\n",
       "      <td>144903.907050</td>\n",
       "      <td>292720.760363</td>\n",
       "      <td>420777.932511</td>\n",
       "      <td>301955.839583</td>\n",
       "      <td>196133.671096</td>\n",
       "    </tr>\n",
       "    <tr>\n",
       "      <th>7560</th>\n",
       "      <td>203533.482201</td>\n",
       "      <td>643358.988783</td>\n",
       "      <td>166088.708520</td>\n",
       "      <td>190010.668482</td>\n",
       "      <td>499263.150830</td>\n",
       "      <td>1.071902e+06</td>\n",
       "      <td>295158.537410</td>\n",
       "      <td>443603.279745</td>\n",
       "      <td>755916.463558</td>\n",
       "      <td>199559.376871</td>\n",
       "      <td>...</td>\n",
       "      <td>783435.322789</td>\n",
       "      <td>1.356926e+06</td>\n",
       "      <td>1.782895e+06</td>\n",
       "      <td>316833.228325</td>\n",
       "      <td>144706.253262</td>\n",
       "      <td>144782.798686</td>\n",
       "      <td>291722.016524</td>\n",
       "      <td>416634.043277</td>\n",
       "      <td>297896.646527</td>\n",
       "      <td>198973.593577</td>\n",
       "    </tr>\n",
       "  </tbody>\n",
       "</table>\n",
       "<p>7561 rows × 500 columns</p>\n",
       "</div>"
      ],
      "text/plain": [
       "                0              1              2              3    \\\n",
       "0          1.000000       1.000000       1.000000       1.000000   \n",
       "1          1.010755       0.996318       1.023470       1.000561   \n",
       "2          1.028840       1.016650       1.029944       1.001789   \n",
       "3          1.026609       1.019807       1.024924       0.980908   \n",
       "4          1.035009       1.026214       1.012926       0.983388   \n",
       "...             ...            ...            ...            ...   \n",
       "7556  204263.695676  635377.661080  167423.126856  188692.461194   \n",
       "7557  200255.196052  642854.471097  166422.611412  191229.780966   \n",
       "7558  205324.413902  645650.275990  162462.437417  193948.710011   \n",
       "7559  203676.337838  649496.819540  163197.423425  193438.598583   \n",
       "7560  203533.482201  643358.988783  166088.708520  190010.668482   \n",
       "\n",
       "                4             5              6              7    \\\n",
       "0          1.000000  1.000000e+00       1.000000       1.000000   \n",
       "1          1.013595  9.866537e-01       0.995569       1.012636   \n",
       "2          1.027942  1.000540e+00       1.006684       1.004974   \n",
       "3          1.041819  1.000581e+00       0.983664       1.003976   \n",
       "4          1.013455  9.983720e-01       0.983314       0.989971   \n",
       "...             ...           ...            ...            ...   \n",
       "7556  494518.987051  1.073771e+06  288004.737692  445708.096932   \n",
       "7557  499333.107934  1.100509e+06  291884.215338  446178.337182   \n",
       "7558  504682.264913  1.085614e+06  289912.647570  449484.231626   \n",
       "7559  498467.918983  1.062730e+06  294161.321783  448036.886647   \n",
       "7560  499263.150830  1.071902e+06  295158.537410  443603.279745   \n",
       "\n",
       "                8              9    ...            490           491  \\\n",
       "0          1.000000       1.000000  ...       1.000000  1.000000e+00   \n",
       "1          0.995695       1.012943  ...       0.983473  1.005885e+00   \n",
       "2          0.994247       1.011865  ...       1.005808  1.015008e+00   \n",
       "3          0.981976       1.002854  ...       1.016236  1.049724e+00   \n",
       "4          0.987688       0.989037  ...       1.035763  1.054417e+00   \n",
       "...             ...            ...  ...            ...           ...   \n",
       "7556  760709.954041  198771.751390  ...  752744.936257  1.374573e+06   \n",
       "7557  748969.432084  203117.743721  ...  748923.847173  1.367756e+06   \n",
       "7558  757302.235770  205781.873777  ...  765715.560432  1.356238e+06   \n",
       "7559  751042.467067  202193.052899  ...  762239.667317  1.343303e+06   \n",
       "7560  755916.463558  199559.376871  ...  783435.322789  1.356926e+06   \n",
       "\n",
       "               492            493            494            495  \\\n",
       "0     1.000000e+00       1.000000       1.000000       1.000000   \n",
       "1     1.024285e+00       1.005564       0.985417       0.993558   \n",
       "2     1.023981e+00       0.991809       0.999237       1.015556   \n",
       "3     1.002980e+00       0.985772       0.997589       1.017033   \n",
       "4     9.951362e-01       0.987872       1.005334       1.005979   \n",
       "...            ...            ...            ...            ...   \n",
       "7556  1.769097e+06  320302.808261  143810.586721  146209.112612   \n",
       "7557  1.784810e+06  319210.990938  142899.120750  145883.003771   \n",
       "7558  1.762048e+06  317924.948737  145647.658625  143550.014242   \n",
       "7559  1.775071e+06  315671.324250  147061.332679  144903.907050   \n",
       "7560  1.782895e+06  316833.228325  144706.253262  144782.798686   \n",
       "\n",
       "                496            497            498            499  \n",
       "0          1.000000       1.000000       1.000000       1.000000  \n",
       "1          0.997156       0.990099       0.998093       1.021357  \n",
       "2          1.009480       1.010592       1.010263       1.039411  \n",
       "3          1.016512       0.987359       1.018367       1.045900  \n",
       "4          1.000960       0.978473       1.025534       1.056185  \n",
       "...             ...            ...            ...            ...  \n",
       "7556  298327.417611  417823.944330  300798.273686  195328.291621  \n",
       "7557  299883.553770  418729.058559  300952.966030  192419.964971  \n",
       "7558  293682.349757  414359.395477  308772.820727  195755.220843  \n",
       "7559  292720.760363  420777.932511  301955.839583  196133.671096  \n",
       "7560  291722.016524  416634.043277  297896.646527  198973.593577  \n",
       "\n",
       "[7561 rows x 500 columns]"
      ]
     },
     "execution_count": 36,
     "metadata": {},
     "output_type": "execute_result"
    }
   ],
   "source": [
    "MC_sim.calc_cumulative_return()"
   ]
  },
  {
   "cell_type": "code",
   "execution_count": 38,
   "metadata": {},
   "outputs": [
    {
     "name": "stdout",
     "output_type": "stream",
     "text": [
      "count           5.000000e+02\n",
      "mean            1.407475e+06\n",
      "std             2.001898e+06\n",
      "min             2.617743e+04\n",
      "25%             3.834546e+05\n",
      "50%             7.879145e+05\n",
      "75%             1.620729e+06\n",
      "max             2.370469e+07\n",
      "95% CI Lower    8.142562e+04\n",
      "95% CI Upper    6.499388e+06\n",
      "Name: 7560, dtype: float64\n"
     ]
    }
   ],
   "source": [
    "cumulative_returns = MC_sim.summarize_cumulative_return()\n",
    "print(cumulative_returns)"
   ]
  },
  {
   "cell_type": "code",
   "execution_count": null,
   "metadata": {},
   "outputs": [],
   "source": []
  },
  {
   "cell_type": "code",
   "execution_count": null,
   "metadata": {},
   "outputs": [],
   "source": [
    "# GOAL: finish MVP by Tuesday, full by Thursday\n",
    "# Build portfolios with each allocation\n",
    "# Run monte carlos and graphs\n",
    "# Finish CLI\n",
    "# Test for bugs\n",
    "# "
   ]
  }
 ],
 "metadata": {
  "kernelspec": {
   "display_name": "Python 3",
   "language": "python",
   "name": "python3"
  },
  "language_info": {
   "codemirror_mode": {
    "name": "ipython",
    "version": 3
   },
   "file_extension": ".py",
   "mimetype": "text/x-python",
   "name": "python",
   "nbconvert_exporter": "python",
   "pygments_lexer": "ipython3",
   "version": "3.8.3"
  }
 },
 "nbformat": 4,
 "nbformat_minor": 4
}
