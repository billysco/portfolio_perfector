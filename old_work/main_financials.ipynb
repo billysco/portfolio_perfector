{
 "cells": [
  {
   "cell_type": "code",
   "execution_count": 1,
   "metadata": {},
   "outputs": [
    {
     "ename": "ModuleNotFoundError",
     "evalue": "No module named 'MCForecastTools'",
     "output_type": "error",
     "traceback": [
      "\u001b[1;31m---------------------------------------------------------------------------\u001b[0m",
      "\u001b[1;31mModuleNotFoundError\u001b[0m                       Traceback (most recent call last)",
      "\u001b[1;32m<ipython-input-1-1f643771e1ce>\u001b[0m in \u001b[0;36m<module>\u001b[1;34m\u001b[0m\n\u001b[0;32m      6\u001b[0m \u001b[1;32mimport\u001b[0m \u001b[0msqlalchemy\u001b[0m \u001b[1;32mas\u001b[0m \u001b[0msql\u001b[0m\u001b[1;33m\u001b[0m\u001b[1;33m\u001b[0m\u001b[0m\n\u001b[0;32m      7\u001b[0m \u001b[1;32mimport\u001b[0m \u001b[0malpaca_trade_api\u001b[0m \u001b[1;32mas\u001b[0m \u001b[0mtradeapi\u001b[0m\u001b[1;33m\u001b[0m\u001b[1;33m\u001b[0m\u001b[0m\n\u001b[1;32m----> 8\u001b[1;33m \u001b[1;32mfrom\u001b[0m \u001b[0mMCForecastTools\u001b[0m \u001b[1;32mimport\u001b[0m \u001b[0mMCSimulation\u001b[0m\u001b[1;33m\u001b[0m\u001b[1;33m\u001b[0m\u001b[0m\n\u001b[0m\u001b[0;32m      9\u001b[0m \u001b[1;32mfrom\u001b[0m \u001b[0mdotenv\u001b[0m \u001b[1;32mimport\u001b[0m \u001b[0mload_dotenv\u001b[0m\u001b[1;33m\u001b[0m\u001b[1;33m\u001b[0m\u001b[0m\n\u001b[0;32m     10\u001b[0m \u001b[1;32mfrom\u001b[0m \u001b[0mpathlib\u001b[0m \u001b[1;32mimport\u001b[0m \u001b[0mPath\u001b[0m\u001b[1;33m\u001b[0m\u001b[1;33m\u001b[0m\u001b[0m\n",
      "\u001b[1;31mModuleNotFoundError\u001b[0m: No module named 'MCForecastTools'"
     ]
    }
   ],
   "source": [
    "import pandas as pd\n",
    "import json\n",
    "import os\n",
    "import numpy as np\n",
    "import requests\n",
    "import sqlalchemy as sql\n",
    "import alpaca_trade_api as tradeapi\n",
    "from MCForecastTools import MCSimulation\n",
    "from dotenv import load_dotenv\n",
    "from pathlib import Path\n",
    "import datetime\n",
    "%matplotlib inline"
   ]
  },
  {
   "cell_type": "code",
   "execution_count": null,
   "metadata": {},
   "outputs": [],
   "source": [
    "# Load the environment variables from the .env file by calling the load_dotenv function\n",
    "load_dotenv()"
   ]
  },
  {
   "cell_type": "code",
   "execution_count": null,
   "metadata": {},
   "outputs": [],
   "source": [
    "# Set response URLs\n",
    "btc_url = \"https://api.alternative.me/v2/ticker/Bitcoin/?convert=USD\"\n",
    "eth_url = \"https://api.alternative.me/v2/ticker/Ethereum/?convert=USD\"\n",
    "ltc_url = \"https://api.alternative.me/v2/ticker/Litecoin/?convert=USD\""
   ]
  },
  {
   "cell_type": "code",
   "execution_count": null,
   "metadata": {},
   "outputs": [],
   "source": [
    "large_company_stocks=[\n",
    "'AAPL',\n",
    "'MSFT',\n",
    "'AMZN',\n",
    "'FB',\n",
    "'TSLA',\n",
    "'GOOGL']\n",
    "\n",
    "medium_company_stocks=[\n",
    "'GNRC',\n",
    "'SEDG',\n",
    "'PENN',\n",
    "'CZR',\n",
    "'TECH',\n",
    "'CGNX']\n",
    "\n",
    "small_company_stocks=[\n",
    "'XSTLA',\n",
    "'CLF',\n",
    "'MSTR',\n",
    "'NEO',\n",
    "'DDD',\n",
    "'OMCL']"
   ]
  },
  {
   "cell_type": "code",
   "execution_count": null,
   "metadata": {},
   "outputs": [],
   "source": [
    "# Using the Python requests library, make an API call to access the current price of BTC\n",
    "btc_response = requests.get(btc_url).json()\n",
    "\n",
    "# Use the json.dumps function to review the response data from the API call\n",
    "# Use the indent and sort_keys parameters to make the response object readable\n",
    "print(json.dumps(btc_response,indent=4,sort_keys=True))"
   ]
  },
  {
   "cell_type": "code",
   "execution_count": null,
   "metadata": {},
   "outputs": [],
   "source": [
    "# Using the Python requests library, make an API call to access the current price ETH\n",
    "eth_response = requests.get(eth_url).json()\n",
    "\n",
    "# Use the json.dumps function to review the response data from the API call\n",
    "# Use the indent and sort_keys parameters to make the response object readable\n",
    "print(json.dumps(eth_response,indent=4,sort_keys=True))"
   ]
  },
  {
   "cell_type": "code",
   "execution_count": null,
   "metadata": {},
   "outputs": [],
   "source": [
    "# Using the Python requests library, make an API call to access the current price LTC\n",
    "ltc_response = requests.get(ltc_url).json()\n",
    "\n",
    "# Use the json.dumps function to review the response data from the API call\n",
    "# Use the indent and sort_keys parameters to make the response object readable\n",
    "print(json.dumps(ltc_response,indent=4,sort_keys=True))"
   ]
  },
  {
   "cell_type": "code",
   "execution_count": null,
   "metadata": {},
   "outputs": [],
   "source": [
    "# Navigate the BTC response object to access the current price of BTC\n",
    "btc_price = btc_response['data']['1']['quotes']['USD']['price']"
   ]
  },
  {
   "cell_type": "code",
   "execution_count": null,
   "metadata": {},
   "outputs": [],
   "source": [
    "# Navigate the ETH response object to access the current price of ETH\n",
    "eth_price = eth_response['data']['1027']['quotes']['USD']['price']"
   ]
  },
  {
   "cell_type": "code",
   "execution_count": null,
   "metadata": {},
   "outputs": [],
   "source": [
    "# Navigate the LTC response object to access the current price of LTC\n",
    "ltc_price = ltc_response['data']['2']['quotes']['USD']['price']"
   ]
  },
  {
   "cell_type": "code",
   "execution_count": null,
   "metadata": {},
   "outputs": [],
   "source": [
    "# remember to update date\n",
    "today_date = str(datetime.datetime.now()).split()[0]\n",
    "one_year_ago = str(datetime.datetime.now() - datetime.timedelta(days=1*365)).split()[0]\n",
    "three_year_ago = str(datetime.datetime.now() - datetime.timedelta(days=3*365)).split()[0]\n",
    "str(datetime.datetime.now()).split(\" \")[0]\n",
    "# Format current date as ISO format\n",
    "today = pd.Timestamp(today_date, tz=\"America/New_York\").isoformat()\n",
    "today\n",
    "# Format start and end dates as ISO format for one year period\n",
    "start = pd.Timestamp(one_year_ago, tz=\"America/New_York\").isoformat()\n",
    "end = pd.Timestamp(today_date, tz=\"America/New_York\").isoformat()\n",
    "# Included for example\n",
    "# # Get closing prices for FB and TWTR from the last year\n",
    "# df_portfolio_year = alpaca.get_barset(\n",
    "#     tickers,\n",
    "#     timeframe,\n",
    "#     start = start,\n",
    "#     end = end\n",
    "# ).df"
   ]
  },
  {
   "cell_type": "code",
   "execution_count": null,
   "metadata": {},
   "outputs": [],
   "source": [
    "# Set the variables for the Alpaca API and secret keys\n",
    "alpaca_api_key = os.getenv('ALPACA_API_KEY')\n",
    "alpaca_secret_key = os.getenv('ALPACA_SECRET_KEY')\n",
    "\n",
    "# Create the Alpaca tradeapi.REST object\n",
    "alpaca = tradeapi.REST(alpaca_api_key,alpaca_secret_key,api_version='v2')\n",
    "display(type(alpaca_api_key)) # test to make sure api key imported successfully, str indicates import successful\n",
    "display(type(alpaca_secret_key)) # test to make sure api key imported successfully, str indicates import successful"
   ]
  },
  {
   "cell_type": "code",
   "execution_count": null,
   "metadata": {},
   "outputs": [],
   "source": [
    "# Set the tickers for both the bond and stock portion of the portfolio\n",
    "tickers = ['SPY','QQQ','ARKK','AGG','O','VNQ']\n",
    "\n",
    "# Set timeframe to 1D \n",
    "timeframe = '1D'\n",
    "\n",
    "# Format current date as ISO format\n",
    "# Set both the start and end date at the date of your prior weekday \n",
    "# This will give you the closing price of the previous trading day\n",
    "start_date = pd.Timestamp(today,tz='America/New_York').isoformat() # remember to update date\n",
    "end_date = pd.Timestamp(today,tz='America/New_York').isoformat() # remember to update date"
   ]
  },
  {
   "cell_type": "code",
   "execution_count": null,
   "metadata": {},
   "outputs": [],
   "source": [
    "# Use the Alpaca get_barset function to get current closing prices the portfolio\n",
    "# Be sure to set the `df` property after the function to format the response object as a DataFrame\n",
    "prices_df = alpaca.get_barset(tickers,timeframe,start=start_date,end=end_date).df\n",
    "\n",
    "# Review the first 5 rows of the Alpaca DataFrame\n",
    "prices_df.head()"
   ]
  },
  {
   "cell_type": "code",
   "execution_count": null,
   "metadata": {},
   "outputs": [],
   "source": [
    "# Access the closing price for AGG from the Alpaca DataFrame\n",
    "# Converting the value to a floating point number\n",
    "agg_close_price = prices_df['AGG']['close'].item()"
   ]
  },
  {
   "cell_type": "code",
   "execution_count": null,
   "metadata": {},
   "outputs": [],
   "source": [
    "# Access the closing price for SPY from the Alpaca DataFrame\n",
    "# Converting the value to a floating point number\n",
    "spy_close_price = prices_df['SPY']['close'].item()"
   ]
  },
  {
   "cell_type": "code",
   "execution_count": null,
   "metadata": {},
   "outputs": [],
   "source": [
    "# Access the closing price for QQQ from the Alpaca DataFrame\n",
    "# Converting the value to a floating point number\n",
    "qqq_close_price = prices_df['QQQ']['close'].item()"
   ]
  },
  {
   "cell_type": "code",
   "execution_count": null,
   "metadata": {},
   "outputs": [],
   "source": [
    "# Access the closing price for ARKK from the Alpaca DataFrame\n",
    "# Converting the value to a floating point number\n",
    "arkk_close_price = prices_df['ARKK']['close'].item()"
   ]
  },
  {
   "cell_type": "code",
   "execution_count": null,
   "metadata": {},
   "outputs": [],
   "source": [
    "# Access the closing price for O from the Alpaca DataFrame\n",
    "# Converting the value to a floating point number\n",
    "o_close_price = prices_df['O']['close'].item()"
   ]
  },
  {
   "cell_type": "code",
   "execution_count": null,
   "metadata": {},
   "outputs": [],
   "source": [
    "# Access the closing price for VNQ from the Alpaca DataFrame\n",
    "# Converting the value to a floating point number\n",
    "vnq_close_price = prices_df['VNQ']['close'].item()\n",
    "print(vnq_close_price)"
   ]
  },
  {
   "cell_type": "code",
   "execution_count": null,
   "metadata": {},
   "outputs": [],
   "source": [
    "# Get user info\n",
    "user_info = pd.read_csv('generic_user.csv')"
   ]
  },
  {
   "cell_type": "code",
   "execution_count": null,
   "metadata": {},
   "outputs": [],
   "source": [
    "# Start to build portfolio options\n",
    "user_info"
   ]
  },
  {
   "cell_type": "code",
   "execution_count": null,
   "metadata": {},
   "outputs": [],
   "source": [
    "age = user_info['user_age']"
   ]
  },
  {
   "cell_type": "code",
   "execution_count": null,
   "metadata": {},
   "outputs": [],
   "source": [
    "# Calculate the % of the portfolio that will be allocated to stocks based on user age if the user doesn't want crypto\n",
    "portfolio_allocation_stocks_no_crypto = 100-age\n",
    "portfolio_allocation_stocks_no_crypto"
   ]
  },
  {
   "cell_type": "code",
   "execution_count": null,
   "metadata": {},
   "outputs": [],
   "source": [
    "# Calculate the % of the portfolio that will be allocated to stocks based on user age if the user does want crypto\n"
   ]
  },
  {
   "cell_type": "code",
   "execution_count": null,
   "metadata": {},
   "outputs": [],
   "source": [
    "# Create basic portfolio models if user wants less customization\n",
    "# Order is based [bonds, stocks, crypto]\n",
    "conservative_portfolio = [.7,.3,0]\n",
    "conservative_portfolio_crypto = [.7,.2,.1]\n",
    "moderate_portfolio = [.5,.5,0]\n",
    "moderate_portfolio_crypto = [.4,.4,.2]\n",
    "aggressive_portfolio = [.3,.7,0]\n",
    "aggressive_portfolio_crypto = [.2,.6,.2]\n",
    "ultra_aggressive = [0,.7,.3]"
   ]
  },
  {
   "cell_type": "code",
   "execution_count": null,
   "metadata": {},
   "outputs": [],
   "source": [
    "# GOAL: finish MVP by Tuesday, full by Thursday\n",
    "# Build portfolios with each allocation\n",
    "# Run monte carlos and graphs\n",
    "# Finish CLI\n",
    "# Test for bugs\n",
    "# "
   ]
  }
 ],
 "metadata": {
  "kernelspec": {
   "display_name": "Python 3",
   "language": "python",
   "name": "python3"
  },
  "language_info": {
   "codemirror_mode": {
    "name": "ipython",
    "version": 3
   },
   "file_extension": ".py",
   "mimetype": "text/x-python",
   "name": "python",
   "nbconvert_exporter": "python",
   "pygments_lexer": "ipython3",
   "version": "3.8.3"
  }
 },
 "nbformat": 4,
 "nbformat_minor": 4
}
