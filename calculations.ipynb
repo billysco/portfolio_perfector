{
 "cells": [
  {
   "cell_type": "markdown",
   "metadata": {},
   "source": [
    "# calculations and ratios for stocks, bonds, real estate and selected indexes template"
   ]
  },
  {
   "cell_type": "markdown",
   "metadata": {},
   "source": [
    "## reading in csv"
   ]
  },
  {
   "cell_type": "code",
   "execution_count": null,
   "metadata": {},
   "outputs": [],
   "source": [
    "pd_table = pd.read_csv(Path('____________'),\n",
    "                             index_col='date',\n",
    "                             parse_dates=True,\n",
    "                             infer_datetime_format=True)\n",
    "\n",
    "display(pd_table.head())\n",
    "display(pd_table.tail())"
   ]
  },
  {
   "cell_type": "markdown",
   "metadata": {},
   "source": [
    "## pctchange and dropping values"
   ]
  },
  {
   "cell_type": "code",
   "execution_count": null,
   "metadata": {},
   "outputs": [],
   "source": [
    "daily_returns = pd_table.pct_change().dropna()\n",
    "\n",
    "\n",
    "display(daily_returns.head())\n",
    "display(daily_returns.tail())\n"
   ]
  },
  {
   "cell_type": "markdown",
   "metadata": {},
   "source": [
    "## cumulative returns for daily returns"
   ]
  },
  {
   "cell_type": "code",
   "execution_count": null,
   "metadata": {},
   "outputs": [],
   "source": [
    "cumulative_rtns = (1 + daily_returns).cumprod()\n",
    "cumulative_rtns.tail()\n",
    "#tail shows  the most recent data if ordered by index date"
   ]
  },
  {
   "cell_type": "markdown",
   "metadata": {},
   "source": [
    "## analyzing risk section: STD"
   ]
  },
  {
   "cell_type": "code",
   "execution_count": null,
   "metadata": {},
   "outputs": [],
   "source": [
    "std = whale_daily_returns.std().sort_values()    #sort values optional\n",
    "\n",
    "std\n",
    "\n",
    "#should give std in a series"
   ]
  },
  {
   "cell_type": "markdown",
   "metadata": {},
   "source": [
    "### annualized STD "
   ]
  },
  {
   "cell_type": "code",
   "execution_count": null,
   "metadata": {},
   "outputs": [],
   "source": [
    "annualized_std = std * np.sqrt(252)   #using numpy, take sqrt of 252 trading days\n",
    "annualized_std\n",
    "#gives annualized_std in a series"
   ]
  },
  {
   "cell_type": "markdown",
   "metadata": {},
   "source": [
    "## rolling averages if needed to take from a subset range of data"
   ]
  },
  {
   "cell_type": "code",
   "execution_count": null,
   "metadata": {},
   "outputs": [],
   "source": [
    "daily_returns.rolling(window=21).mean()     #can add .plot() to chain off this function"
   ]
  },
  {
   "cell_type": "markdown",
   "metadata": {},
   "source": [
    "## sharpe ratio section"
   ]
  },
  {
   "cell_type": "code",
   "execution_count": null,
   "metadata": {},
   "outputs": [],
   "source": [
    "#can set variables for desired time frame\n",
    "year_trading_days = 252\n",
    "\n",
    "#average annual returns from taking the mean of daily returns and * by desired time frame\n",
    "avg_annualized_returns = daily_returns.mean() * year_trading_days\n",
    "avg_annualized_returns\n"
   ]
  },
  {
   "cell_type": "code",
   "execution_count": null,
   "metadata": {},
   "outputs": [],
   "source": [
    "sharpe_ratio = avg_annualized_returns / annualized_std).sort_values()     #sorting optional\n",
    "sharpe_ratio\n",
    "#should show sharpe ratio in a series\n",
    "#can plot sharpe ratios with box plots"
   ]
  },
  {
   "cell_type": "markdown",
   "metadata": {},
   "source": [
    "## variance, covariance"
   ]
  },
  {
   "cell_type": "code",
   "execution_count": null,
   "metadata": {},
   "outputs": [],
   "source": [
    "#variance\n",
    "column1_var = daily_returns['column1'].var()\n",
    "\n",
    "column1_var"
   ]
  },
  {
   "cell_type": "code",
   "execution_count": null,
   "metadata": {},
   "outputs": [],
   "source": [
    "#covariance of column2 to coluymn 1\n",
    "#can use whichever column to compare to main one used before in variance  section\n",
    "#to determine correlation\n",
    "\n",
    "column2_cov = daily_returns['column2'].cov(daily_returns['column1'])\n",
    "\n",
    "column2_cov"
   ]
  },
  {
   "cell_type": "markdown",
   "metadata": {},
   "source": [
    "## beta"
   ]
  },
  {
   "cell_type": "code",
   "execution_count": null,
   "metadata": {},
   "outputs": [],
   "source": [
    "#beta is the cov / var of the main referenced table\n",
    "column2_beta = column2_cov / column1_var\n",
    "\n",
    "column2_beta.tail()\n",
    "#returns the betas in a series"
   ]
  },
  {
   "cell_type": "markdown",
   "metadata": {},
   "source": [
    "## rolling beta"
   ]
  },
  {
   "cell_type": "code",
   "execution_count": null,
   "metadata": {},
   "outputs": [],
   "source": [
    "column2_daily_returns_mean_rollingbeta = column2_daily_returns_beta.rolling(60).mean()\n",
    "column2_daily_returns_mean_rollingbeta"
   ]
  },
  {
   "cell_type": "markdown",
   "metadata": {},
   "source": [
    "# module3 is about arbitrage but uses bitcoin dataframe\n",
    "### "
   ]
  },
  {
   "cell_type": "code",
   "execution_count": null,
   "metadata": {},
   "outputs": [],
   "source": []
  }
 ],
 "metadata": {
  "kernelspec": {
   "display_name": "Python 3",
   "language": "python",
   "name": "python3"
  },
  "language_info": {
   "codemirror_mode": {
    "name": "ipython",
    "version": 3
   },
   "file_extension": ".py",
   "mimetype": "text/x-python",
   "name": "python",
   "nbconvert_exporter": "python",
   "pygments_lexer": "ipython3",
   "version": "3.8.5"
  }
 },
 "nbformat": 4,
 "nbformat_minor": 4
}
