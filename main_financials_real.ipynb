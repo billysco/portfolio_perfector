<<<<<<< HEAD
{
 "cells": [
  {
   "cell_type": "code",
   "execution_count": 1,
   "metadata": {},
   "outputs": [],
   "source": [
    "import pandas as pd\n",
    "import json\n",
    "import os\n",
    "import numpy as np\n",
    "import requests\n",
    "import sqlalchemy as sql\n",
    "import alpaca_trade_api as tradeapi\n",
    "from MCForecastTools import MCSimulation\n",
    "from dotenv import load_dotenv\n",
    "from pathlib import Path\n",
    "import datetime\n",
    "from fastquant import backtest,get_stock_data\n",
    "import hvplot.pandas\n",
    "%matplotlib inline"
   ]
  },
  {
   "cell_type": "code",
   "execution_count": 2,
   "metadata": {},
   "outputs": [
    {
     "data": {
      "text/plain": [
       "True"
      ]
     },
     "execution_count": 2,
     "metadata": {},
     "output_type": "execute_result"
    }
   ],
   "source": [
    "# Load the environment variables from the .env file by calling the load_dotenv function\n",
    "load_dotenv()"
   ]
  },
  {
   "cell_type": "code",
   "execution_count": 3,
   "metadata": {},
   "outputs": [],
   "source": [
    "# Set response URLs\n",
    "btc_url = \"https://api.alternative.me/v2/ticker/Bitcoin/?convert=USD\"\n",
    "eth_url = \"https://api.alternative.me/v2/ticker/Ethereum/?convert=USD\"\n",
    "ltc_url = \"https://api.alternative.me/v2/ticker/Litecoin/?convert=USD\""
   ]
  },
  {
   "cell_type": "code",
   "execution_count": 4,
   "metadata": {},
   "outputs": [
    {
     "name": "stdout",
     "output_type": "stream",
     "text": [
      "{\n",
      "    \"data\": {\n",
      "        \"1\": {\n",
      "            \"circulating_supply\": 18636912,\n",
      "            \"id\": 1,\n",
      "            \"last_updated\": 1614140285,\n",
      "            \"max_supply\": 21000000,\n",
      "            \"name\": \"Bitcoin\",\n",
      "            \"quotes\": {\n",
      "                \"USD\": {\n",
      "                    \"market_cap\": 957039293283,\n",
      "                    \"percent_change_1h\": 2.10859243085013,\n",
      "                    \"percent_change_24h\": -1.18684885128326,\n",
      "                    \"percent_change_7d\": 4.68965744113529,\n",
      "                    \"percentage_change_1h\": 2.10859243085013,\n",
      "                    \"percentage_change_24h\": -1.18684885128326,\n",
      "                    \"percentage_change_7d\": 4.68965744113529,\n",
      "                    \"price\": 51547.0,\n",
      "                    \"volume_24h\": 122561082719\n",
      "                }\n",
      "            },\n",
      "            \"rank\": 1,\n",
      "            \"symbol\": \"BTC\",\n",
      "            \"total_supply\": 18636912,\n",
      "            \"website_slug\": \"bitcoin\"\n",
      "        }\n",
      "    },\n",
      "    \"metadata\": {\n",
      "        \"error\": null,\n",
      "        \"num_cryptocurrencies\": 1362,\n",
      "        \"timestamp\": 1614140285\n",
      "    }\n",
      "}\n"
     ]
    }
   ],
   "source": [
    "# Using the Python requests library, make an API call to access the current price of BTC\n",
    "btc_response = requests.get(btc_url).json()\n",
    "\n",
    "# Use the json.dumps function to review the response data from the API call\n",
    "# Use the indent and sort_keys parameters to make the response object readable\n",
    "print(json.dumps(btc_response,indent=4,sort_keys=True))"
   ]
  },
  {
   "cell_type": "code",
   "execution_count": 5,
   "metadata": {},
   "outputs": [
    {
     "name": "stdout",
     "output_type": "stream",
     "text": [
      "{\n",
      "    \"data\": {\n",
      "        \"1027\": {\n",
      "            \"circulating_supply\": 114797966,\n",
      "            \"id\": 1027,\n",
      "            \"last_updated\": 1614140282,\n",
      "            \"max_supply\": 0,\n",
      "            \"name\": \"Ethereum\",\n",
      "            \"quotes\": {\n",
      "                \"USD\": {\n",
      "                    \"market_cap\": 189731831563,\n",
      "                    \"percent_change_1h\": 1.86504041466774,\n",
      "                    \"percent_change_24h\": -2.11576168928325,\n",
      "                    \"percent_change_7d\": -6.7677129826725,\n",
      "                    \"percentage_change_1h\": 1.86504041466774,\n",
      "                    \"percentage_change_24h\": -2.11576168928325,\n",
      "                    \"percentage_change_7d\": -6.7677129826725,\n",
      "                    \"price\": 1661.94,\n",
      "                    \"volume_24h\": 66178840276\n",
      "                }\n",
      "            },\n",
      "            \"rank\": 2,\n",
      "            \"symbol\": \"ETH\",\n",
      "            \"total_supply\": 114797966,\n",
      "            \"website_slug\": \"ethereum\"\n",
      "        }\n",
      "    },\n",
      "    \"metadata\": {\n",
      "        \"error\": null,\n",
      "        \"num_cryptocurrencies\": 1362,\n",
      "        \"timestamp\": 1614140282\n",
      "    }\n",
      "}\n"
     ]
    }
   ],
   "source": [
    "# Using the Python requests library, make an API call to access the current price ETH\n",
    "eth_response = requests.get(eth_url).json()\n",
    "\n",
    "# Use the json.dumps function to review the response data from the API call\n",
    "# Use the indent and sort_keys parameters to make the response object readable\n",
    "print(json.dumps(eth_response,indent=4,sort_keys=True))"
   ]
  },
  {
   "cell_type": "code",
   "execution_count": 6,
   "metadata": {},
   "outputs": [
    {
     "name": "stdout",
     "output_type": "stream",
     "text": [
      "{\n",
      "    \"data\": {\n",
      "        \"2\": {\n",
      "            \"circulating_supply\": 66543565,\n",
      "            \"id\": 2,\n",
      "            \"last_updated\": 1614140302,\n",
      "            \"max_supply\": 84000000,\n",
      "            \"name\": \"Litecoin\",\n",
      "            \"quotes\": {\n",
      "                \"USD\": {\n",
      "                    \"market_cap\": 12396851943,\n",
      "                    \"percent_change_1h\": 1.49638891578949,\n",
      "                    \"percent_change_24h\": -5.20162286422286,\n",
      "                    \"percent_change_7d\": -11.2804280493861,\n",
      "                    \"percentage_change_1h\": 1.49638891578949,\n",
      "                    \"percentage_change_24h\": -5.20162286422286,\n",
      "                    \"percentage_change_7d\": -11.2804280493861,\n",
      "                    \"price\": 186.7,\n",
      "                    \"volume_24h\": 12700066316\n",
      "                }\n",
      "            },\n",
      "            \"rank\": 8,\n",
      "            \"symbol\": \"LTC\",\n",
      "            \"total_supply\": 66543565,\n",
      "            \"website_slug\": \"litecoin\"\n",
      "        }\n",
      "    },\n",
      "    \"metadata\": {\n",
      "        \"error\": null,\n",
      "        \"num_cryptocurrencies\": 1362,\n",
      "        \"timestamp\": 1614140302\n",
      "    }\n",
      "}\n"
     ]
    }
   ],
   "source": [
    "# Using the Python requests library, make an API call to access the current price LTC\n",
    "ltc_response = requests.get(ltc_url).json()\n",
    "\n",
    "# Use the json.dumps function to review the response data from the API call\n",
    "# Use the indent and sort_keys parameters to make the response object readable\n",
    "print(json.dumps(ltc_response,indent=4,sort_keys=True))"
   ]
  },
  {
   "cell_type": "code",
   "execution_count": 7,
   "metadata": {},
   "outputs": [],
   "source": [
    "# Navigate the BTC response object to access the current price of BTC\n",
    "btc_price = btc_response['data']['1']['quotes']['USD']['price']"
   ]
  },
  {
   "cell_type": "code",
   "execution_count": 8,
   "metadata": {},
   "outputs": [],
   "source": [
    "# Navigate the ETH response object to access the current price of ETH\n",
    "eth_price = eth_response['data']['1027']['quotes']['USD']['price']"
   ]
  },
  {
   "cell_type": "code",
   "execution_count": 9,
   "metadata": {},
   "outputs": [],
   "source": [
    "# Navigate the LTC response object to access the current price of LTC\n",
    "ltc_price = ltc_response['data']['2']['quotes']['USD']['price']"
   ]
  },
  {
   "cell_type": "code",
   "execution_count": 10,
   "metadata": {},
   "outputs": [],
   "source": [
    "# remember to update date\n",
    "today_date = str(datetime.datetime.now()).split()[0]\n",
    "one_year_ago = str(datetime.datetime.now() - datetime.timedelta(days=1*365)).split()[0]\n",
    "three_year_ago = str(datetime.datetime.now() - datetime.timedelta(days=3*365)).split()[0]\n",
    "str(datetime.datetime.now()).split(\" \")[0]\n",
    "# Format current date as ISO format\n",
    "today = pd.Timestamp(today_date, tz=\"America/New_York\").isoformat()\n",
    "today\n",
    "# Format start and end dates as ISO format for one year period\n",
    "start = pd.Timestamp(one_year_ago, tz=\"America/New_York\").isoformat()\n",
    "end = pd.Timestamp(today_date, tz=\"America/New_York\").isoformat()\n",
    "# Included for example\n",
    "# # Get closing prices for FB and TWTR from the last year\n",
    "# df_portfolio_year = alpaca.get_barset(\n",
    "#     tickers,\n",
    "#     timeframe,\n",
    "#     start = start,\n",
    "#     end = end\n",
    "# ).df"
   ]
  },
  {
   "cell_type": "code",
   "execution_count": 11,
   "metadata": {},
   "outputs": [
    {
     "data": {
      "text/plain": [
       "str"
      ]
     },
     "metadata": {},
     "output_type": "display_data"
    },
    {
     "data": {
      "text/plain": [
       "str"
      ]
     },
     "metadata": {},
     "output_type": "display_data"
    }
   ],
   "source": [
    "# Set the variables for the Alpaca API and secret keys\n",
    "alpaca_api_key = os.getenv('ALPACA_API_KEY')\n",
    "alpaca_secret_key = os.getenv('ALPACA_SECRET_KEY')\n",
    "\n",
    "# Create the Alpaca tradeapi.REST object\n",
    "alpaca = tradeapi.REST(alpaca_api_key,alpaca_secret_key,api_version='v2')\n",
    "display(type(alpaca_api_key)) # test to make sure api key imported successfully, str indicates import successful\n",
    "display(type(alpaca_secret_key)) # test to make sure api key imported successfully, str indicates import successful"
   ]
  },
  {
   "cell_type": "code",
   "execution_count": 12,
   "metadata": {},
   "outputs": [],
   "source": [
    "# # Set the tickers to be used\n",
    "# large_company_stocks=['QQQ']\n",
    "\n",
    "# medium_company_stocks=['ARKK']\n",
    "\n",
    "# small_company_stocks=[\n",
    "# 'XSTLA',\n",
    "# 'CLF',\n",
    "# 'MSTR',\n",
    "# 'NEO',\n",
    "# 'DDD',\n",
    "# 'OMCL']\n",
    "\n",
    "# bonds = ['AGG']"
   ]
  },
  {
   "cell_type": "code",
   "execution_count": 13,
   "metadata": {},
   "outputs": [],
   "source": [
    "tickers = ['AGG','QQQ']\n",
    "\n",
    "# Set timeframe to 1D \n",
    "timeframe = '1D'\n",
    "\n",
    "# Format current date as ISO format\n",
    "# Set both the start and end date at the date of your prior weekday \n",
    "# This will give you the closing price of the previous trading day\n",
    "start_date = pd.Timestamp('2016-02-19',tz='America/New_York').isoformat() # remember to update date\n",
    "end_date = pd.Timestamp('2021-02-19',tz='America/New_York').isoformat() # remember to update date"
   ]
  },
  {
   "cell_type": "code",
   "execution_count": 14,
   "metadata": {},
   "outputs": [
    {
     "data": {
      "text/html": [
       "<div>\n",
       "<style scoped>\n",
       "    .dataframe tbody tr th:only-of-type {\n",
       "        vertical-align: middle;\n",
       "    }\n",
       "\n",
       "    .dataframe tbody tr th {\n",
       "        vertical-align: top;\n",
       "    }\n",
       "\n",
       "    .dataframe thead tr th {\n",
       "        text-align: left;\n",
       "    }\n",
       "</style>\n",
       "<table border=\"1\" class=\"dataframe\">\n",
       "  <thead>\n",
       "    <tr>\n",
       "      <th></th>\n",
       "      <th colspan=\"5\" halign=\"left\">AGG</th>\n",
       "      <th colspan=\"5\" halign=\"left\">QQQ</th>\n",
       "    </tr>\n",
       "    <tr>\n",
       "      <th></th>\n",
       "      <th>open</th>\n",
       "      <th>high</th>\n",
       "      <th>low</th>\n",
       "      <th>close</th>\n",
       "      <th>volume</th>\n",
       "      <th>open</th>\n",
       "      <th>high</th>\n",
       "      <th>low</th>\n",
       "      <th>close</th>\n",
       "      <th>volume</th>\n",
       "    </tr>\n",
       "  </thead>\n",
       "  <tbody>\n",
       "    <tr>\n",
       "      <th>2020-09-28 00:00:00-04:00</th>\n",
       "      <td>118.18</td>\n",
       "      <td>118.22</td>\n",
       "      <td>118.1100</td>\n",
       "      <td>118.20</td>\n",
       "      <td>5318716</td>\n",
       "      <td>276.615</td>\n",
       "      <td>277.0400</td>\n",
       "      <td>271.6740</td>\n",
       "      <td>277.03</td>\n",
       "      <td>51184391</td>\n",
       "    </tr>\n",
       "    <tr>\n",
       "      <th>2020-09-29 00:00:00-04:00</th>\n",
       "      <td>118.28</td>\n",
       "      <td>118.33</td>\n",
       "      <td>118.2100</td>\n",
       "      <td>118.23</td>\n",
       "      <td>3982030</td>\n",
       "      <td>276.720</td>\n",
       "      <td>277.7100</td>\n",
       "      <td>275.3719</td>\n",
       "      <td>275.86</td>\n",
       "      <td>23686706</td>\n",
       "    </tr>\n",
       "    <tr>\n",
       "      <th>2020-09-30 00:00:00-04:00</th>\n",
       "      <td>118.26</td>\n",
       "      <td>118.26</td>\n",
       "      <td>117.9516</td>\n",
       "      <td>118.07</td>\n",
       "      <td>5314447</td>\n",
       "      <td>276.090</td>\n",
       "      <td>281.0900</td>\n",
       "      <td>275.8717</td>\n",
       "      <td>278.10</td>\n",
       "      <td>44849000</td>\n",
       "    </tr>\n",
       "    <tr>\n",
       "      <th>2020-10-01 00:00:00-04:00</th>\n",
       "      <td>117.81</td>\n",
       "      <td>118.04</td>\n",
       "      <td>117.7500</td>\n",
       "      <td>117.99</td>\n",
       "      <td>9555596</td>\n",
       "      <td>281.800</td>\n",
       "      <td>282.8794</td>\n",
       "      <td>279.8400</td>\n",
       "      <td>282.26</td>\n",
       "      <td>44619187</td>\n",
       "    </tr>\n",
       "    <tr>\n",
       "      <th>2020-10-02 00:00:00-04:00</th>\n",
       "      <td>118.03</td>\n",
       "      <td>118.04</td>\n",
       "      <td>117.8100</td>\n",
       "      <td>117.92</td>\n",
       "      <td>5367665</td>\n",
       "      <td>276.010</td>\n",
       "      <td>282.2412</td>\n",
       "      <td>273.4400</td>\n",
       "      <td>274.33</td>\n",
       "      <td>66549291</td>\n",
       "    </tr>\n",
       "  </tbody>\n",
       "</table>\n",
       "</div>"
      ],
      "text/plain": [
       "                              AGG                                         QQQ  \\\n",
       "                             open    high       low   close   volume     open   \n",
       "2020-09-28 00:00:00-04:00  118.18  118.22  118.1100  118.20  5318716  276.615   \n",
       "2020-09-29 00:00:00-04:00  118.28  118.33  118.2100  118.23  3982030  276.720   \n",
       "2020-09-30 00:00:00-04:00  118.26  118.26  117.9516  118.07  5314447  276.090   \n",
       "2020-10-01 00:00:00-04:00  117.81  118.04  117.7500  117.99  9555596  281.800   \n",
       "2020-10-02 00:00:00-04:00  118.03  118.04  117.8100  117.92  5367665  276.010   \n",
       "\n",
       "                                                                 \n",
       "                               high       low   close    volume  \n",
       "2020-09-28 00:00:00-04:00  277.0400  271.6740  277.03  51184391  \n",
       "2020-09-29 00:00:00-04:00  277.7100  275.3719  275.86  23686706  \n",
       "2020-09-30 00:00:00-04:00  281.0900  275.8717  278.10  44849000  \n",
       "2020-10-01 00:00:00-04:00  282.8794  279.8400  282.26  44619187  \n",
       "2020-10-02 00:00:00-04:00  282.2412  273.4400  274.33  66549291  "
      ]
     },
     "execution_count": 14,
     "metadata": {},
     "output_type": "execute_result"
    }
   ],
   "source": [
    "# Use the Alpaca get_barset function to get current closing prices the portfolio\n",
    "# Be sure to set the `df` property after the function to format the response object as a DataFrame\n",
    "prices_df = alpaca.get_barset(tickers,timeframe,start=start_date,end=end_date).df\n",
    "\n",
    "# Review the first 5 rows of the Alpaca DataFrame\n",
    "prices_df.head()"
   ]
  },
  {
   "cell_type": "code",
   "execution_count": 15,
   "metadata": {},
   "outputs": [],
   "source": [
    "# Access the closing price for AGG from the Alpaca DataFrame\n",
    "# Converting the value to a floating point number\n",
    "# agg_close_price = prices_df['AGG']['close'].item()"
   ]
  },
  {
   "cell_type": "code",
   "execution_count": 16,
   "metadata": {},
   "outputs": [],
   "source": [
    "# Access the closing price for SPY from the Alpaca DataFrame\n",
    "# Converting the value to a floating point number\n",
    "# spy_close_price = prices_df['SPY']['close'].item()"
   ]
  },
  {
   "cell_type": "code",
   "execution_count": 17,
   "metadata": {},
   "outputs": [],
   "source": [
    "# Access the closing price for QQQ from the Alpaca DataFrame\n",
    "# Converting the value to a floating point number\n",
    "# qqq_close_price = prices_df['QQQ']['close'].item()"
   ]
  },
  {
   "cell_type": "code",
   "execution_count": 18,
   "metadata": {},
   "outputs": [],
   "source": [
    "# Access the closing price for ARKK from the Alpaca DataFrame\n",
    "# Converting the value to a floating point number\n",
    "# arkk_close_price = prices_df['ARKK']['close'].item()"
   ]
  },
  {
   "cell_type": "code",
   "execution_count": 19,
   "metadata": {},
   "outputs": [],
   "source": [
    "# Access the closing price for O from the Alpaca DataFrame\n",
    "# Converting the value to a floating point number\n",
    "# o_close_price = prices_df['O']['close'].item()"
   ]
  },
  {
   "cell_type": "code",
   "execution_count": 20,
   "metadata": {},
   "outputs": [],
   "source": [
    "# Access the closing price for VNQ from the Alpaca DataFrame\n",
    "# Converting the value to a floating point number\n",
    "# vnq_close_price = prices_df['VNQ']['close'].item()\n",
    "# print(vnq_close_price)"
   ]
  },
  {
   "cell_type": "code",
   "execution_count": 21,
   "metadata": {},
   "outputs": [],
   "source": [
    "# Get user info\n",
    "user_info = pd.read_csv(Path('data/user_info.csv'))"
   ]
  },
  {
   "cell_type": "code",
   "execution_count": 22,
   "metadata": {},
   "outputs": [
    {
     "data": {
      "text/html": [
       "<div>\n",
       "<style scoped>\n",
       "    .dataframe tbody tr th:only-of-type {\n",
       "        vertical-align: middle;\n",
       "    }\n",
       "\n",
       "    .dataframe tbody tr th {\n",
       "        vertical-align: top;\n",
       "    }\n",
       "\n",
       "    .dataframe thead th {\n",
       "        text-align: right;\n",
       "    }\n",
       "</style>\n",
       "<table border=\"1\" class=\"dataframe\">\n",
       "  <thead>\n",
       "    <tr style=\"text-align: right;\">\n",
       "      <th></th>\n",
       "      <th>current_age</th>\n",
       "      <th>yearly_retirement_income</th>\n",
       "      <th>retirement_age</th>\n",
       "      <th>current_savings</th>\n",
       "      <th>retirement_goal</th>\n",
       "      <th>portfolio_allocation</th>\n",
       "    </tr>\n",
       "  </thead>\n",
       "  <tbody>\n",
       "    <tr>\n",
       "      <th>0</th>\n",
       "      <td>23</td>\n",
       "      <td>100000</td>\n",
       "      <td>60</td>\n",
       "      <td>50000</td>\n",
       "      <td>3950000</td>\n",
       "      <td>[0.0, 0.7, 0.3]</td>\n",
       "    </tr>\n",
       "  </tbody>\n",
       "</table>\n",
       "</div>"
      ],
      "text/plain": [
       "   current_age  yearly_retirement_income  retirement_age  current_savings  \\\n",
       "0           23                    100000              60            50000   \n",
       "\n",
       "   retirement_goal portfolio_allocation  \n",
       "0          3950000      [0.0, 0.7, 0.3]  "
      ]
     },
     "execution_count": 22,
     "metadata": {},
     "output_type": "execute_result"
    }
   ],
   "source": [
    "# Start to build portfolio options\n",
    "user_info"
   ]
  },
  {
   "cell_type": "code",
   "execution_count": 23,
   "metadata": {},
   "outputs": [],
   "source": [
    "age = user_info['current_age']"
   ]
  },
  {
   "cell_type": "code",
   "execution_count": 24,
   "metadata": {},
   "outputs": [
    {
     "name": "stdout",
     "output_type": "stream",
     "text": [
      "0    [0.0, 0.7, 0.3]\n",
      "Name: portfolio_allocation, dtype: object\n"
     ]
    }
   ],
   "source": [
    "# Calculate the % of the portfolio that will be allocated to stocks based on user age if the user doesn't want crypto\n",
    "user_info.loc[:,'portfolio_allocation'] = user_info.loc[:,'portfolio_allocation'].str.replace(\"'\",\"\")\n",
    "portfolio_allocation = str(user_info['portfolio_allocation'])\n",
    "print(portfolio_allocation)"
   ]
  },
  {
   "cell_type": "code",
   "execution_count": 25,
   "metadata": {},
   "outputs": [
    {
     "name": "stdout",
     "output_type": "stream",
     "text": [
      ".0\n"
     ]
    }
   ],
   "source": [
    "# Calculate the % of the portfolio that will be allocated to stocks based on user age if the user does want crypto\n",
    "if portfolio_allocation == '0    [0.0, 0.7, 0.3]' or '0    [0.2,0.6,0.2]' or '0    [0.4,0.4,0.2]' or '0    [0.5,0.4,0.1]' or '0    [0.7,0.2,0.1]':\n",
    "    percent_bonds = portfolio_allocation[7:9]\n",
    "else:\n",
    "    percent_bonds = portfolio_allocation[6:8]\n",
    "print(percent_bonds)"
   ]
  },
  {
   "cell_type": "code",
   "execution_count": 26,
   "metadata": {},
   "outputs": [
    {
     "name": "stdout",
     "output_type": "stream",
     "text": [
      ".7\n"
     ]
    }
   ],
   "source": [
    "if portfolio_allocation == '0    [0.0, 0.7, 0.3]' or '0    [0.2,0.6,0.2]' or '0    [0.4,0.4,0.2]' or '0    [0.5,0.4,0.1]' or '0    [0.7,0.2,0.1]':\n",
    "    percent_stocks = portfolio_allocation[12:14]\n",
    "else:\n",
    "    percent_stocks = portfolio_allocation[10:12]\n",
    "print(percent_stocks)"
   ]
  },
  {
   "cell_type": "code",
   "execution_count": 27,
   "metadata": {},
   "outputs": [
    {
     "name": "stdout",
     "output_type": "stream",
     "text": [
      ".3\n"
     ]
    }
   ],
   "source": [
    "if portfolio_allocation == '0    [0.0, 0.7, 0.3]' or '0    [0.2,0.6,0.2]' or '0    [0.4,0.4,0.2]' or '0    [0.5,0.4,0.1]' or '0    [0.7,0.2,0.1]':\n",
    "    percent_crypto = portfolio_allocation[17:19]\n",
    "else:\n",
    "    percent_crypto = portfolio_allocation[14:16]\n",
    "print(percent_crypto)"
   ]
  },
  {
   "cell_type": "code",
   "execution_count": 28,
   "metadata": {},
   "outputs": [
    {
     "data": {
      "text/plain": [
       "0    35000.0\n",
       "Name: current_savings, dtype: float64"
      ]
     },
     "execution_count": 28,
     "metadata": {},
     "output_type": "execute_result"
    }
   ],
   "source": [
    "stock_amt = float(percent_stocks)*user_info['current_savings']\n",
    "stock_amt"
   ]
  },
  {
   "cell_type": "code",
   "execution_count": 29,
   "metadata": {},
   "outputs": [
    {
     "name": "stdout",
     "output_type": "stream",
     "text": [
      "0    15000.0\n",
      "Name: current_savings, dtype: float64\n"
     ]
    }
   ],
   "source": [
    "btc_amt = float(percent_crypto)*(user_info['current_savings'])\n",
    "print(btc_amt)"
   ]
  },
  {
   "cell_type": "code",
   "execution_count": 30,
   "metadata": {},
   "outputs": [
    {
     "name": "stdout",
     "output_type": "stream",
     "text": [
      "0    0.0\n",
      "Name: current_savings, dtype: float64\n"
     ]
    }
   ],
   "source": [
    "bond_amt = float(percent_bonds)*(user_info['current_savings'])\n",
    "print(bond_amt)"
   ]
  },
  {
   "cell_type": "code",
   "execution_count": 31,
   "metadata": {},
   "outputs": [
    {
     "name": "stdout",
     "output_type": "stream",
     "text": [
      "1.0\n"
     ]
    }
   ],
   "source": [
    "if float(stock_amt) > 0:\n",
    "    stock_weight = (float(stock_amt)+float(bond_amt))/float(stock_amt)\n",
    "else:\n",
    "    stock_weight = 0\n",
    "print(stock_weight)"
   ]
  },
  {
   "cell_type": "code",
   "execution_count": 32,
   "metadata": {},
   "outputs": [
    {
     "name": "stdout",
     "output_type": "stream",
     "text": [
      "0\n"
     ]
    }
   ],
   "source": [
    "if float(bond_amt) > 0:\n",
    "    bond_weight = (float(bond_amt)+float(stock_amt))/float(bond_amt)\n",
    "else:\n",
    "    bond_weight = 0\n",
    "print(bond_weight)"
   ]
  },
  {
   "cell_type": "code",
   "execution_count": 33,
   "metadata": {},
   "outputs": [
    {
     "name": "stdout",
     "output_type": "stream",
     "text": [
      "[0, 1.0]\n"
     ]
    }
   ],
   "source": [
    "portfolio_weights = [bond_weight,stock_weight]\n",
    "print(portfolio_weights)"
   ]
  },
  {
   "cell_type": "code",
   "execution_count": 34,
   "metadata": {},
   "outputs": [
    {
     "data": {
      "text/html": [
       "<div>\n",
       "<style scoped>\n",
       "    .dataframe tbody tr th:only-of-type {\n",
       "        vertical-align: middle;\n",
       "    }\n",
       "\n",
       "    .dataframe tbody tr th {\n",
       "        vertical-align: top;\n",
       "    }\n",
       "\n",
       "    .dataframe thead tr th {\n",
       "        text-align: left;\n",
       "    }\n",
       "</style>\n",
       "<table border=\"1\" class=\"dataframe\">\n",
       "  <thead>\n",
       "    <tr>\n",
       "      <th></th>\n",
       "      <th colspan=\"6\" halign=\"left\">AGG</th>\n",
       "      <th colspan=\"6\" halign=\"left\">QQQ</th>\n",
       "    </tr>\n",
       "    <tr>\n",
       "      <th></th>\n",
       "      <th>open</th>\n",
       "      <th>high</th>\n",
       "      <th>low</th>\n",
       "      <th>close</th>\n",
       "      <th>volume</th>\n",
       "      <th>daily_return</th>\n",
       "      <th>open</th>\n",
       "      <th>high</th>\n",
       "      <th>low</th>\n",
       "      <th>close</th>\n",
       "      <th>volume</th>\n",
       "      <th>daily_return</th>\n",
       "    </tr>\n",
       "  </thead>\n",
       "  <tbody>\n",
       "    <tr>\n",
       "      <th>2020-09-28 00:00:00-04:00</th>\n",
       "      <td>118.18</td>\n",
       "      <td>118.22</td>\n",
       "      <td>118.1100</td>\n",
       "      <td>118.20</td>\n",
       "      <td>5318716</td>\n",
       "      <td>NaN</td>\n",
       "      <td>276.615</td>\n",
       "      <td>277.0400</td>\n",
       "      <td>271.6740</td>\n",
       "      <td>277.03</td>\n",
       "      <td>51184391</td>\n",
       "      <td>NaN</td>\n",
       "    </tr>\n",
       "    <tr>\n",
       "      <th>2020-09-29 00:00:00-04:00</th>\n",
       "      <td>118.28</td>\n",
       "      <td>118.33</td>\n",
       "      <td>118.2100</td>\n",
       "      <td>118.23</td>\n",
       "      <td>3982030</td>\n",
       "      <td>0.000254</td>\n",
       "      <td>276.720</td>\n",
       "      <td>277.7100</td>\n",
       "      <td>275.3719</td>\n",
       "      <td>275.86</td>\n",
       "      <td>23686706</td>\n",
       "      <td>-0.004223</td>\n",
       "    </tr>\n",
       "    <tr>\n",
       "      <th>2020-09-30 00:00:00-04:00</th>\n",
       "      <td>118.26</td>\n",
       "      <td>118.26</td>\n",
       "      <td>117.9516</td>\n",
       "      <td>118.07</td>\n",
       "      <td>5314447</td>\n",
       "      <td>-0.001353</td>\n",
       "      <td>276.090</td>\n",
       "      <td>281.0900</td>\n",
       "      <td>275.8717</td>\n",
       "      <td>278.10</td>\n",
       "      <td>44849000</td>\n",
       "      <td>0.008120</td>\n",
       "    </tr>\n",
       "    <tr>\n",
       "      <th>2020-10-01 00:00:00-04:00</th>\n",
       "      <td>117.81</td>\n",
       "      <td>118.04</td>\n",
       "      <td>117.7500</td>\n",
       "      <td>117.99</td>\n",
       "      <td>9555596</td>\n",
       "      <td>-0.000678</td>\n",
       "      <td>281.800</td>\n",
       "      <td>282.8794</td>\n",
       "      <td>279.8400</td>\n",
       "      <td>282.26</td>\n",
       "      <td>44619187</td>\n",
       "      <td>0.014959</td>\n",
       "    </tr>\n",
       "    <tr>\n",
       "      <th>2020-10-02 00:00:00-04:00</th>\n",
       "      <td>118.03</td>\n",
       "      <td>118.04</td>\n",
       "      <td>117.8100</td>\n",
       "      <td>117.92</td>\n",
       "      <td>5367665</td>\n",
       "      <td>-0.000593</td>\n",
       "      <td>276.010</td>\n",
       "      <td>282.2412</td>\n",
       "      <td>273.4400</td>\n",
       "      <td>274.33</td>\n",
       "      <td>66549291</td>\n",
       "      <td>-0.028095</td>\n",
       "    </tr>\n",
       "  </tbody>\n",
       "</table>\n",
       "</div>"
      ],
      "text/plain": [
       "                              AGG                                     \\\n",
       "                             open    high       low   close   volume   \n",
       "2020-09-28 00:00:00-04:00  118.18  118.22  118.1100  118.20  5318716   \n",
       "2020-09-29 00:00:00-04:00  118.28  118.33  118.2100  118.23  3982030   \n",
       "2020-09-30 00:00:00-04:00  118.26  118.26  117.9516  118.07  5314447   \n",
       "2020-10-01 00:00:00-04:00  117.81  118.04  117.7500  117.99  9555596   \n",
       "2020-10-02 00:00:00-04:00  118.03  118.04  117.8100  117.92  5367665   \n",
       "\n",
       "                                            QQQ                              \\\n",
       "                          daily_return     open      high       low   close   \n",
       "2020-09-28 00:00:00-04:00          NaN  276.615  277.0400  271.6740  277.03   \n",
       "2020-09-29 00:00:00-04:00     0.000254  276.720  277.7100  275.3719  275.86   \n",
       "2020-09-30 00:00:00-04:00    -0.001353  276.090  281.0900  275.8717  278.10   \n",
       "2020-10-01 00:00:00-04:00    -0.000678  281.800  282.8794  279.8400  282.26   \n",
       "2020-10-02 00:00:00-04:00    -0.000593  276.010  282.2412  273.4400  274.33   \n",
       "\n",
       "                                                  \n",
       "                             volume daily_return  \n",
       "2020-09-28 00:00:00-04:00  51184391          NaN  \n",
       "2020-09-29 00:00:00-04:00  23686706    -0.004223  \n",
       "2020-09-30 00:00:00-04:00  44849000     0.008120  \n",
       "2020-10-01 00:00:00-04:00  44619187     0.014959  \n",
       "2020-10-02 00:00:00-04:00  66549291    -0.028095  "
      ]
     },
     "execution_count": 34,
     "metadata": {},
     "output_type": "execute_result"
    }
   ],
   "source": [
    "MC_sim = (MCSimulation(portfolio_data=prices_df,weights=portfolio_weights,num_simulation=100,num_trading_days=252*30))\n",
    "MC_sim.portfolio_data.head()"
   ]
  },
  {
   "cell_type": "code",
   "execution_count": 35,
   "metadata": {},
   "outputs": [
    {
     "name": "stdout",
     "output_type": "stream",
     "text": [
      "Running Monte Carlo simulation number 0.\n",
      "Running Monte Carlo simulation number 10.\n",
      "Running Monte Carlo simulation number 20.\n",
      "Running Monte Carlo simulation number 30.\n",
      "Running Monte Carlo simulation number 40.\n",
      "Running Monte Carlo simulation number 50.\n",
      "Running Monte Carlo simulation number 60.\n",
      "Running Monte Carlo simulation number 70.\n",
      "Running Monte Carlo simulation number 80.\n",
      "Running Monte Carlo simulation number 90.\n"
     ]
    },
    {
     "data": {
      "text/html": [
       "<div>\n",
       "<style scoped>\n",
       "    .dataframe tbody tr th:only-of-type {\n",
       "        vertical-align: middle;\n",
       "    }\n",
       "\n",
       "    .dataframe tbody tr th {\n",
       "        vertical-align: top;\n",
       "    }\n",
       "\n",
       "    .dataframe thead th {\n",
       "        text-align: right;\n",
       "    }\n",
       "</style>\n",
       "<table border=\"1\" class=\"dataframe\">\n",
       "  <thead>\n",
       "    <tr style=\"text-align: right;\">\n",
       "      <th></th>\n",
       "      <th>0</th>\n",
       "      <th>1</th>\n",
       "      <th>2</th>\n",
       "      <th>3</th>\n",
       "      <th>4</th>\n",
       "      <th>5</th>\n",
       "      <th>6</th>\n",
       "      <th>7</th>\n",
       "      <th>8</th>\n",
       "      <th>9</th>\n",
       "      <th>...</th>\n",
       "      <th>90</th>\n",
       "      <th>91</th>\n",
       "      <th>92</th>\n",
       "      <th>93</th>\n",
       "      <th>94</th>\n",
       "      <th>95</th>\n",
       "      <th>96</th>\n",
       "      <th>97</th>\n",
       "      <th>98</th>\n",
       "      <th>99</th>\n",
       "    </tr>\n",
       "  </thead>\n",
       "  <tbody>\n",
       "    <tr>\n",
       "      <th>0</th>\n",
       "      <td>1.000000</td>\n",
       "      <td>1.000000e+00</td>\n",
       "      <td>1.000000</td>\n",
       "      <td>1.000000</td>\n",
       "      <td>1.000000e+00</td>\n",
       "      <td>1.000000e+00</td>\n",
       "      <td>1.000000</td>\n",
       "      <td>1.000000</td>\n",
       "      <td>1.000000</td>\n",
       "      <td>1.000000</td>\n",
       "      <td>...</td>\n",
       "      <td>1.000000</td>\n",
       "      <td>1.000000</td>\n",
       "      <td>1.000000</td>\n",
       "      <td>1.000000</td>\n",
       "      <td>1.000000e+00</td>\n",
       "      <td>1.000000e+00</td>\n",
       "      <td>1.000000e+00</td>\n",
       "      <td>1.000000</td>\n",
       "      <td>1.000000e+00</td>\n",
       "      <td>1.000000e+00</td>\n",
       "    </tr>\n",
       "    <tr>\n",
       "      <th>1</th>\n",
       "      <td>1.006157</td>\n",
       "      <td>9.921083e-01</td>\n",
       "      <td>1.012641</td>\n",
       "      <td>1.004294</td>\n",
       "      <td>9.856127e-01</td>\n",
       "      <td>9.843959e-01</td>\n",
       "      <td>0.975557</td>\n",
       "      <td>1.010270</td>\n",
       "      <td>0.976798</td>\n",
       "      <td>1.006071</td>\n",
       "      <td>...</td>\n",
       "      <td>1.025466</td>\n",
       "      <td>1.018999</td>\n",
       "      <td>1.006635</td>\n",
       "      <td>0.999368</td>\n",
       "      <td>1.005114e+00</td>\n",
       "      <td>1.011276e+00</td>\n",
       "      <td>9.779577e-01</td>\n",
       "      <td>1.002853</td>\n",
       "      <td>1.001923e+00</td>\n",
       "      <td>9.985313e-01</td>\n",
       "    </tr>\n",
       "    <tr>\n",
       "      <th>2</th>\n",
       "      <td>1.013556</td>\n",
       "      <td>9.767054e-01</td>\n",
       "      <td>1.025417</td>\n",
       "      <td>1.001351</td>\n",
       "      <td>9.802870e-01</td>\n",
       "      <td>9.953356e-01</td>\n",
       "      <td>0.959524</td>\n",
       "      <td>1.035293</td>\n",
       "      <td>0.974504</td>\n",
       "      <td>1.004327</td>\n",
       "      <td>...</td>\n",
       "      <td>1.019945</td>\n",
       "      <td>1.008828</td>\n",
       "      <td>1.030857</td>\n",
       "      <td>0.993279</td>\n",
       "      <td>9.994284e-01</td>\n",
       "      <td>9.858160e-01</td>\n",
       "      <td>9.684885e-01</td>\n",
       "      <td>0.979071</td>\n",
       "      <td>9.902616e-01</td>\n",
       "      <td>1.004611e+00</td>\n",
       "    </tr>\n",
       "    <tr>\n",
       "      <th>3</th>\n",
       "      <td>1.019542</td>\n",
       "      <td>9.932901e-01</td>\n",
       "      <td>1.036625</td>\n",
       "      <td>0.999423</td>\n",
       "      <td>9.801103e-01</td>\n",
       "      <td>1.020008e+00</td>\n",
       "      <td>0.958601</td>\n",
       "      <td>1.049883</td>\n",
       "      <td>0.953984</td>\n",
       "      <td>1.030053</td>\n",
       "      <td>...</td>\n",
       "      <td>1.024243</td>\n",
       "      <td>1.008640</td>\n",
       "      <td>1.036530</td>\n",
       "      <td>1.012733</td>\n",
       "      <td>1.005467e+00</td>\n",
       "      <td>9.910396e-01</td>\n",
       "      <td>9.710528e-01</td>\n",
       "      <td>0.960521</td>\n",
       "      <td>9.930460e-01</td>\n",
       "      <td>1.003103e+00</td>\n",
       "    </tr>\n",
       "    <tr>\n",
       "      <th>4</th>\n",
       "      <td>1.026282</td>\n",
       "      <td>9.879985e-01</td>\n",
       "      <td>1.037730</td>\n",
       "      <td>0.995845</td>\n",
       "      <td>9.970859e-01</td>\n",
       "      <td>1.030177e+00</td>\n",
       "      <td>0.972538</td>\n",
       "      <td>1.064990</td>\n",
       "      <td>0.953316</td>\n",
       "      <td>1.035741</td>\n",
       "      <td>...</td>\n",
       "      <td>1.013886</td>\n",
       "      <td>1.023680</td>\n",
       "      <td>1.048900</td>\n",
       "      <td>1.011933</td>\n",
       "      <td>1.004180e+00</td>\n",
       "      <td>9.814948e-01</td>\n",
       "      <td>9.718050e-01</td>\n",
       "      <td>0.956451</td>\n",
       "      <td>9.875868e-01</td>\n",
       "      <td>1.011101e+00</td>\n",
       "    </tr>\n",
       "    <tr>\n",
       "      <th>...</th>\n",
       "      <td>...</td>\n",
       "      <td>...</td>\n",
       "      <td>...</td>\n",
       "      <td>...</td>\n",
       "      <td>...</td>\n",
       "      <td>...</td>\n",
       "      <td>...</td>\n",
       "      <td>...</td>\n",
       "      <td>...</td>\n",
       "      <td>...</td>\n",
       "      <td>...</td>\n",
       "      <td>...</td>\n",
       "      <td>...</td>\n",
       "      <td>...</td>\n",
       "      <td>...</td>\n",
       "      <td>...</td>\n",
       "      <td>...</td>\n",
       "      <td>...</td>\n",
       "      <td>...</td>\n",
       "      <td>...</td>\n",
       "      <td>...</td>\n",
       "    </tr>\n",
       "    <tr>\n",
       "      <th>7556</th>\n",
       "      <td>854432.262272</td>\n",
       "      <td>1.270102e+06</td>\n",
       "      <td>366636.518992</td>\n",
       "      <td>579675.248937</td>\n",
       "      <td>3.069385e+06</td>\n",
       "      <td>1.250462e+06</td>\n",
       "      <td>710546.258314</td>\n",
       "      <td>930499.633770</td>\n",
       "      <td>546284.995881</td>\n",
       "      <td>566299.234138</td>\n",
       "      <td>...</td>\n",
       "      <td>834982.139651</td>\n",
       "      <td>65837.718305</td>\n",
       "      <td>365143.471525</td>\n",
       "      <td>94384.375292</td>\n",
       "      <td>2.248688e+06</td>\n",
       "      <td>1.371787e+06</td>\n",
       "      <td>1.633505e+06</td>\n",
       "      <td>99936.540465</td>\n",
       "      <td>1.258257e+06</td>\n",
       "      <td>1.293119e+06</td>\n",
       "    </tr>\n",
       "    <tr>\n",
       "      <th>7557</th>\n",
       "      <td>850420.826445</td>\n",
       "      <td>1.276078e+06</td>\n",
       "      <td>368988.614735</td>\n",
       "      <td>572565.770002</td>\n",
       "      <td>3.173311e+06</td>\n",
       "      <td>1.232129e+06</td>\n",
       "      <td>694495.691481</td>\n",
       "      <td>912918.005415</td>\n",
       "      <td>551087.990673</td>\n",
       "      <td>561455.732142</td>\n",
       "      <td>...</td>\n",
       "      <td>837748.656068</td>\n",
       "      <td>64810.630996</td>\n",
       "      <td>363673.828738</td>\n",
       "      <td>94810.501775</td>\n",
       "      <td>2.268574e+06</td>\n",
       "      <td>1.371945e+06</td>\n",
       "      <td>1.669115e+06</td>\n",
       "      <td>102733.083369</td>\n",
       "      <td>1.274419e+06</td>\n",
       "      <td>1.298132e+06</td>\n",
       "    </tr>\n",
       "    <tr>\n",
       "      <th>7558</th>\n",
       "      <td>854641.275242</td>\n",
       "      <td>1.281042e+06</td>\n",
       "      <td>358622.819328</td>\n",
       "      <td>575725.759495</td>\n",
       "      <td>3.176332e+06</td>\n",
       "      <td>1.243994e+06</td>\n",
       "      <td>702879.939188</td>\n",
       "      <td>905954.737959</td>\n",
       "      <td>554344.149192</td>\n",
       "      <td>569176.868575</td>\n",
       "      <td>...</td>\n",
       "      <td>830903.965120</td>\n",
       "      <td>64365.294147</td>\n",
       "      <td>361284.758098</td>\n",
       "      <td>93575.497178</td>\n",
       "      <td>2.223270e+06</td>\n",
       "      <td>1.362817e+06</td>\n",
       "      <td>1.660434e+06</td>\n",
       "      <td>103661.078187</td>\n",
       "      <td>1.283956e+06</td>\n",
       "      <td>1.276432e+06</td>\n",
       "    </tr>\n",
       "    <tr>\n",
       "      <th>7559</th>\n",
       "      <td>872687.562866</td>\n",
       "      <td>1.279577e+06</td>\n",
       "      <td>355816.411708</td>\n",
       "      <td>586389.073556</td>\n",
       "      <td>3.188309e+06</td>\n",
       "      <td>1.236913e+06</td>\n",
       "      <td>709632.660661</td>\n",
       "      <td>895056.176964</td>\n",
       "      <td>553565.331723</td>\n",
       "      <td>551327.095349</td>\n",
       "      <td>...</td>\n",
       "      <td>823357.338428</td>\n",
       "      <td>64093.721712</td>\n",
       "      <td>355952.747125</td>\n",
       "      <td>94636.625936</td>\n",
       "      <td>2.256669e+06</td>\n",
       "      <td>1.368887e+06</td>\n",
       "      <td>1.675466e+06</td>\n",
       "      <td>104649.130992</td>\n",
       "      <td>1.283872e+06</td>\n",
       "      <td>1.254734e+06</td>\n",
       "    </tr>\n",
       "    <tr>\n",
       "      <th>7560</th>\n",
       "      <td>894544.486835</td>\n",
       "      <td>1.288864e+06</td>\n",
       "      <td>350018.431984</td>\n",
       "      <td>580665.137653</td>\n",
       "      <td>3.220261e+06</td>\n",
       "      <td>1.253082e+06</td>\n",
       "      <td>719207.245958</td>\n",
       "      <td>884531.452985</td>\n",
       "      <td>559371.048142</td>\n",
       "      <td>534867.725001</td>\n",
       "      <td>...</td>\n",
       "      <td>808491.703565</td>\n",
       "      <td>63327.647274</td>\n",
       "      <td>354604.211626</td>\n",
       "      <td>97614.147951</td>\n",
       "      <td>2.235316e+06</td>\n",
       "      <td>1.365355e+06</td>\n",
       "      <td>1.703410e+06</td>\n",
       "      <td>105507.942843</td>\n",
       "      <td>1.295771e+06</td>\n",
       "      <td>1.287512e+06</td>\n",
       "    </tr>\n",
       "  </tbody>\n",
       "</table>\n",
       "<p>7561 rows × 100 columns</p>\n",
       "</div>"
      ],
      "text/plain": [
       "                 0             1              2              3             4   \\\n",
       "0          1.000000  1.000000e+00       1.000000       1.000000  1.000000e+00   \n",
       "1          1.006157  9.921083e-01       1.012641       1.004294  9.856127e-01   \n",
       "2          1.013556  9.767054e-01       1.025417       1.001351  9.802870e-01   \n",
       "3          1.019542  9.932901e-01       1.036625       0.999423  9.801103e-01   \n",
       "4          1.026282  9.879985e-01       1.037730       0.995845  9.970859e-01   \n",
       "...             ...           ...            ...            ...           ...   \n",
       "7556  854432.262272  1.270102e+06  366636.518992  579675.248937  3.069385e+06   \n",
       "7557  850420.826445  1.276078e+06  368988.614735  572565.770002  3.173311e+06   \n",
       "7558  854641.275242  1.281042e+06  358622.819328  575725.759495  3.176332e+06   \n",
       "7559  872687.562866  1.279577e+06  355816.411708  586389.073556  3.188309e+06   \n",
       "7560  894544.486835  1.288864e+06  350018.431984  580665.137653  3.220261e+06   \n",
       "\n",
       "                5              6              7              8   \\\n",
       "0     1.000000e+00       1.000000       1.000000       1.000000   \n",
       "1     9.843959e-01       0.975557       1.010270       0.976798   \n",
       "2     9.953356e-01       0.959524       1.035293       0.974504   \n",
       "3     1.020008e+00       0.958601       1.049883       0.953984   \n",
       "4     1.030177e+00       0.972538       1.064990       0.953316   \n",
       "...            ...            ...            ...            ...   \n",
       "7556  1.250462e+06  710546.258314  930499.633770  546284.995881   \n",
       "7557  1.232129e+06  694495.691481  912918.005415  551087.990673   \n",
       "7558  1.243994e+06  702879.939188  905954.737959  554344.149192   \n",
       "7559  1.236913e+06  709632.660661  895056.176964  553565.331723   \n",
       "7560  1.253082e+06  719207.245958  884531.452985  559371.048142   \n",
       "\n",
       "                 9   ...             90            91             92  \\\n",
       "0          1.000000  ...       1.000000      1.000000       1.000000   \n",
       "1          1.006071  ...       1.025466      1.018999       1.006635   \n",
       "2          1.004327  ...       1.019945      1.008828       1.030857   \n",
       "3          1.030053  ...       1.024243      1.008640       1.036530   \n",
       "4          1.035741  ...       1.013886      1.023680       1.048900   \n",
       "...             ...  ...            ...           ...            ...   \n",
       "7556  566299.234138  ...  834982.139651  65837.718305  365143.471525   \n",
       "7557  561455.732142  ...  837748.656068  64810.630996  363673.828738   \n",
       "7558  569176.868575  ...  830903.965120  64365.294147  361284.758098   \n",
       "7559  551327.095349  ...  823357.338428  64093.721712  355952.747125   \n",
       "7560  534867.725001  ...  808491.703565  63327.647274  354604.211626   \n",
       "\n",
       "                93            94            95            96             97  \\\n",
       "0         1.000000  1.000000e+00  1.000000e+00  1.000000e+00       1.000000   \n",
       "1         0.999368  1.005114e+00  1.011276e+00  9.779577e-01       1.002853   \n",
       "2         0.993279  9.994284e-01  9.858160e-01  9.684885e-01       0.979071   \n",
       "3         1.012733  1.005467e+00  9.910396e-01  9.710528e-01       0.960521   \n",
       "4         1.011933  1.004180e+00  9.814948e-01  9.718050e-01       0.956451   \n",
       "...            ...           ...           ...           ...            ...   \n",
       "7556  94384.375292  2.248688e+06  1.371787e+06  1.633505e+06   99936.540465   \n",
       "7557  94810.501775  2.268574e+06  1.371945e+06  1.669115e+06  102733.083369   \n",
       "7558  93575.497178  2.223270e+06  1.362817e+06  1.660434e+06  103661.078187   \n",
       "7559  94636.625936  2.256669e+06  1.368887e+06  1.675466e+06  104649.130992   \n",
       "7560  97614.147951  2.235316e+06  1.365355e+06  1.703410e+06  105507.942843   \n",
       "\n",
       "                98            99  \n",
       "0     1.000000e+00  1.000000e+00  \n",
       "1     1.001923e+00  9.985313e-01  \n",
       "2     9.902616e-01  1.004611e+00  \n",
       "3     9.930460e-01  1.003103e+00  \n",
       "4     9.875868e-01  1.011101e+00  \n",
       "...            ...           ...  \n",
       "7556  1.258257e+06  1.293119e+06  \n",
       "7557  1.274419e+06  1.298132e+06  \n",
       "7558  1.283956e+06  1.276432e+06  \n",
       "7559  1.283872e+06  1.254734e+06  \n",
       "7560  1.295771e+06  1.287512e+06  \n",
       "\n",
       "[7561 rows x 100 columns]"
      ]
     },
     "execution_count": 35,
     "metadata": {},
     "output_type": "execute_result"
    }
   ],
   "source": [
    "MC_sim.calc_cumulative_return()"
   ]
  },
  {
   "cell_type": "code",
   "execution_count": 36,
   "metadata": {},
   "outputs": [
    {
     "name": "stdout",
     "output_type": "stream",
     "text": [
      "count           1.000000e+02\n",
      "mean            1.300807e+06\n",
      "std             1.486724e+06\n",
      "min             3.344406e+04\n",
      "25%             3.600688e+05\n",
      "50%             9.007309e+05\n",
      "75%             1.376039e+06\n",
      "max             9.446825e+06\n",
      "95% CI Lower    6.811362e+04\n",
      "95% CI Upper    5.234236e+06\n",
      "Name: 7560, dtype: float64\n"
     ]
    }
   ],
   "source": [
    "cumulative_returns = MC_sim.summarize_cumulative_return()\n",
    "print(cumulative_returns)"
   ]
  },
  {
   "cell_type": "code",
   "execution_count": 37,
   "metadata": {},
   "outputs": [
    {
     "name": "stdout",
     "output_type": "stream",
     "text": [
      "1300807.3943408623\n"
     ]
    }
   ],
   "source": [
    "mean_return = cumulative_returns['mean']\n",
    "print(mean_return)"
   ]
  },
  {
   "cell_type": "code",
   "execution_count": 38,
   "metadata": {},
   "outputs": [
    {
     "name": "stdout",
     "output_type": "stream",
     "text": [
      "1486723.9603578954\n"
     ]
    }
   ],
   "source": [
    "std_dev = cumulative_returns['std']\n",
    "print(std_dev)"
   ]
  },
  {
   "cell_type": "code",
   "execution_count": 39,
   "metadata": {},
   "outputs": [
    {
     "data": {
      "text/html": [
       "<div>\n",
       "<style scoped>\n",
       "    .dataframe tbody tr th:only-of-type {\n",
       "        vertical-align: middle;\n",
       "    }\n",
       "\n",
       "    .dataframe tbody tr th {\n",
       "        vertical-align: top;\n",
       "    }\n",
       "\n",
       "    .dataframe thead tr th {\n",
       "        text-align: left;\n",
       "    }\n",
       "</style>\n",
       "<table border=\"1\" class=\"dataframe\">\n",
       "  <thead>\n",
       "    <tr>\n",
       "      <th></th>\n",
       "      <th colspan=\"5\" halign=\"left\">AGG</th>\n",
       "      <th colspan=\"5\" halign=\"left\">QQQ</th>\n",
       "    </tr>\n",
       "    <tr>\n",
       "      <th></th>\n",
       "      <th>open</th>\n",
       "      <th>high</th>\n",
       "      <th>low</th>\n",
       "      <th>close</th>\n",
       "      <th>volume</th>\n",
       "      <th>open</th>\n",
       "      <th>high</th>\n",
       "      <th>low</th>\n",
       "      <th>close</th>\n",
       "      <th>volume</th>\n",
       "    </tr>\n",
       "  </thead>\n",
       "  <tbody>\n",
       "    <tr>\n",
       "      <th>2020-09-28 00:00:00-04:00</th>\n",
       "      <td>118.1800</td>\n",
       "      <td>118.22</td>\n",
       "      <td>118.1100</td>\n",
       "      <td>118.20</td>\n",
       "      <td>5318716</td>\n",
       "      <td>276.615</td>\n",
       "      <td>277.0400</td>\n",
       "      <td>271.6740</td>\n",
       "      <td>277.030</td>\n",
       "      <td>51184391</td>\n",
       "    </tr>\n",
       "    <tr>\n",
       "      <th>2020-09-29 00:00:00-04:00</th>\n",
       "      <td>118.2800</td>\n",
       "      <td>118.33</td>\n",
       "      <td>118.2100</td>\n",
       "      <td>118.23</td>\n",
       "      <td>3982030</td>\n",
       "      <td>276.720</td>\n",
       "      <td>277.7100</td>\n",
       "      <td>275.3719</td>\n",
       "      <td>275.860</td>\n",
       "      <td>23686706</td>\n",
       "    </tr>\n",
       "    <tr>\n",
       "      <th>2020-09-30 00:00:00-04:00</th>\n",
       "      <td>118.2600</td>\n",
       "      <td>118.26</td>\n",
       "      <td>117.9516</td>\n",
       "      <td>118.07</td>\n",
       "      <td>5314447</td>\n",
       "      <td>276.090</td>\n",
       "      <td>281.0900</td>\n",
       "      <td>275.8717</td>\n",
       "      <td>278.100</td>\n",
       "      <td>44849000</td>\n",
       "    </tr>\n",
       "    <tr>\n",
       "      <th>2020-10-01 00:00:00-04:00</th>\n",
       "      <td>117.8100</td>\n",
       "      <td>118.04</td>\n",
       "      <td>117.7500</td>\n",
       "      <td>117.99</td>\n",
       "      <td>9555596</td>\n",
       "      <td>281.800</td>\n",
       "      <td>282.8794</td>\n",
       "      <td>279.8400</td>\n",
       "      <td>282.260</td>\n",
       "      <td>44619187</td>\n",
       "    </tr>\n",
       "    <tr>\n",
       "      <th>2020-10-02 00:00:00-04:00</th>\n",
       "      <td>118.0300</td>\n",
       "      <td>118.04</td>\n",
       "      <td>117.8100</td>\n",
       "      <td>117.92</td>\n",
       "      <td>5367665</td>\n",
       "      <td>276.010</td>\n",
       "      <td>282.2412</td>\n",
       "      <td>273.4400</td>\n",
       "      <td>274.330</td>\n",
       "      <td>66549291</td>\n",
       "    </tr>\n",
       "    <tr>\n",
       "      <th>...</th>\n",
       "      <td>...</td>\n",
       "      <td>...</td>\n",
       "      <td>...</td>\n",
       "      <td>...</td>\n",
       "      <td>...</td>\n",
       "      <td>...</td>\n",
       "      <td>...</td>\n",
       "      <td>...</td>\n",
       "      <td>...</td>\n",
       "      <td>...</td>\n",
       "    </tr>\n",
       "    <tr>\n",
       "      <th>2021-02-12 00:00:00-05:00</th>\n",
       "      <td>116.6700</td>\n",
       "      <td>116.74</td>\n",
       "      <td>116.5418</td>\n",
       "      <td>116.58</td>\n",
       "      <td>3209765</td>\n",
       "      <td>333.710</td>\n",
       "      <td>336.6200</td>\n",
       "      <td>332.6300</td>\n",
       "      <td>336.455</td>\n",
       "      <td>18450250</td>\n",
       "    </tr>\n",
       "    <tr>\n",
       "      <th>2021-02-16 00:00:00-05:00</th>\n",
       "      <td>116.2200</td>\n",
       "      <td>116.23</td>\n",
       "      <td>116.0200</td>\n",
       "      <td>116.03</td>\n",
       "      <td>5543350</td>\n",
       "      <td>337.270</td>\n",
       "      <td>338.1900</td>\n",
       "      <td>334.3400</td>\n",
       "      <td>335.510</td>\n",
       "      <td>24387052</td>\n",
       "    </tr>\n",
       "    <tr>\n",
       "      <th>2021-02-17 00:00:00-05:00</th>\n",
       "      <td>116.2200</td>\n",
       "      <td>116.29</td>\n",
       "      <td>116.1450</td>\n",
       "      <td>116.28</td>\n",
       "      <td>6038386</td>\n",
       "      <td>332.470</td>\n",
       "      <td>335.6570</td>\n",
       "      <td>330.1700</td>\n",
       "      <td>333.940</td>\n",
       "      <td>28492624</td>\n",
       "    </tr>\n",
       "    <tr>\n",
       "      <th>2021-02-18 00:00:00-05:00</th>\n",
       "      <td>116.1400</td>\n",
       "      <td>116.28</td>\n",
       "      <td>116.0300</td>\n",
       "      <td>116.20</td>\n",
       "      <td>3910324</td>\n",
       "      <td>330.230</td>\n",
       "      <td>333.8661</td>\n",
       "      <td>328.3600</td>\n",
       "      <td>332.440</td>\n",
       "      <td>28750896</td>\n",
       "    </tr>\n",
       "    <tr>\n",
       "      <th>2021-02-19 00:00:00-05:00</th>\n",
       "      <td>116.0187</td>\n",
       "      <td>116.06</td>\n",
       "      <td>115.7515</td>\n",
       "      <td>115.83</td>\n",
       "      <td>4416681</td>\n",
       "      <td>333.860</td>\n",
       "      <td>333.9900</td>\n",
       "      <td>329.9700</td>\n",
       "      <td>331.040</td>\n",
       "      <td>36173201</td>\n",
       "    </tr>\n",
       "  </tbody>\n",
       "</table>\n",
       "<p>100 rows × 10 columns</p>\n",
       "</div>"
      ],
      "text/plain": [
       "                                AGG                                     \\\n",
       "                               open    high       low   close   volume   \n",
       "2020-09-28 00:00:00-04:00  118.1800  118.22  118.1100  118.20  5318716   \n",
       "2020-09-29 00:00:00-04:00  118.2800  118.33  118.2100  118.23  3982030   \n",
       "2020-09-30 00:00:00-04:00  118.2600  118.26  117.9516  118.07  5314447   \n",
       "2020-10-01 00:00:00-04:00  117.8100  118.04  117.7500  117.99  9555596   \n",
       "2020-10-02 00:00:00-04:00  118.0300  118.04  117.8100  117.92  5367665   \n",
       "...                             ...     ...       ...     ...      ...   \n",
       "2021-02-12 00:00:00-05:00  116.6700  116.74  116.5418  116.58  3209765   \n",
       "2021-02-16 00:00:00-05:00  116.2200  116.23  116.0200  116.03  5543350   \n",
       "2021-02-17 00:00:00-05:00  116.2200  116.29  116.1450  116.28  6038386   \n",
       "2021-02-18 00:00:00-05:00  116.1400  116.28  116.0300  116.20  3910324   \n",
       "2021-02-19 00:00:00-05:00  116.0187  116.06  115.7515  115.83  4416681   \n",
       "\n",
       "                               QQQ                                         \n",
       "                              open      high       low    close    volume  \n",
       "2020-09-28 00:00:00-04:00  276.615  277.0400  271.6740  277.030  51184391  \n",
       "2020-09-29 00:00:00-04:00  276.720  277.7100  275.3719  275.860  23686706  \n",
       "2020-09-30 00:00:00-04:00  276.090  281.0900  275.8717  278.100  44849000  \n",
       "2020-10-01 00:00:00-04:00  281.800  282.8794  279.8400  282.260  44619187  \n",
       "2020-10-02 00:00:00-04:00  276.010  282.2412  273.4400  274.330  66549291  \n",
       "...                            ...       ...       ...      ...       ...  \n",
       "2021-02-12 00:00:00-05:00  333.710  336.6200  332.6300  336.455  18450250  \n",
       "2021-02-16 00:00:00-05:00  337.270  338.1900  334.3400  335.510  24387052  \n",
       "2021-02-17 00:00:00-05:00  332.470  335.6570  330.1700  333.940  28492624  \n",
       "2021-02-18 00:00:00-05:00  330.230  333.8661  328.3600  332.440  28750896  \n",
       "2021-02-19 00:00:00-05:00  333.860  333.9900  329.9700  331.040  36173201  \n",
       "\n",
       "[100 rows x 10 columns]"
      ]
     },
     "execution_count": 39,
     "metadata": {},
     "output_type": "execute_result"
    }
   ],
   "source": [
    "prices_df"
   ]
  },
  {
   "cell_type": "code",
   "execution_count": 40,
   "metadata": {},
   "outputs": [],
   "source": [
    "qqq_close = prices_df['QQQ']['close']"
   ]
  },
  {
   "cell_type": "code",
   "execution_count": 41,
   "metadata": {},
   "outputs": [],
   "source": [
    "stock_daily_returns = qqq_close.pct_change().dropna()"
   ]
  },
  {
   "cell_type": "code",
   "execution_count": 42,
   "metadata": {},
   "outputs": [],
   "source": [
    "stock_cumulative_returns = (1 + stock_daily_returns).cumprod()"
   ]
  },
  {
   "cell_type": "code",
   "execution_count": 43,
   "metadata": {},
   "outputs": [
    {
     "data": {
      "text/plain": [
       "0.06619335921500948"
      ]
     },
     "execution_count": 43,
     "metadata": {},
     "output_type": "execute_result"
    }
   ],
   "source": [
    "stock_std_dev = stock_cumulative_returns.std()\n",
    "stock_std_dev"
   ]
  },
  {
   "cell_type": "code",
   "execution_count": 44,
   "metadata": {},
   "outputs": [
    {
     "data": {
      "text/plain": [
       "1.0507870015612844"
      ]
     },
     "execution_count": 44,
     "metadata": {},
     "output_type": "execute_result"
    }
   ],
   "source": [
    "annualized_stock_std_dev = stock_std_dev * np.sqrt(252)\n",
    "annualized_stock_std_dev"
   ]
  },
  {
   "cell_type": "code",
   "execution_count": 45,
   "metadata": {},
   "outputs": [
    {
     "data": {
      "text/plain": [
       "0.475475286731655"
      ]
     },
     "execution_count": 45,
     "metadata": {},
     "output_type": "execute_result"
    }
   ],
   "source": [
    "avg_annual_stock_returns = stock_daily_returns.mean()*252\n",
    "avg_annual_stock_returns"
   ]
  },
  {
   "cell_type": "code",
   "execution_count": 46,
   "metadata": {},
   "outputs": [
    {
     "data": {
      "text/plain": [
       "0.45249445037403635"
      ]
     },
     "execution_count": 46,
     "metadata": {},
     "output_type": "execute_result"
    }
   ],
   "source": [
    "stock_sharpe_ratio = avg_annual_stock_returns/annualized_stock_std_dev\n",
    "stock_sharpe_ratio"
   ]
  },
  {
   "cell_type": "code",
   "execution_count": 47,
   "metadata": {},
   "outputs": [],
   "source": [
    "agg_close = prices_df['AGG']['close']"
   ]
  },
  {
   "cell_type": "code",
   "execution_count": 48,
   "metadata": {},
   "outputs": [],
   "source": [
    "bond_daily_returns = agg_close.pct_change().dropna()"
   ]
  },
  {
   "cell_type": "code",
   "execution_count": 49,
   "metadata": {},
   "outputs": [],
   "source": [
    "bond_cumulative_returns = (1 + bond_daily_returns).cumprod()"
   ]
  },
  {
   "cell_type": "code",
   "execution_count": 50,
   "metadata": {},
   "outputs": [
    {
     "data": {
      "text/plain": [
       "0.004332105541455871"
      ]
     },
     "execution_count": 50,
     "metadata": {},
     "output_type": "execute_result"
    }
   ],
   "source": [
    "bond_std_dev = bond_cumulative_returns.std()\n",
    "bond_std_dev"
   ]
  },
  {
   "cell_type": "code",
   "execution_count": 51,
   "metadata": {},
   "outputs": [
    {
     "data": {
      "text/plain": [
       "0.0687700434958623"
      ]
     },
     "execution_count": 51,
     "metadata": {},
     "output_type": "execute_result"
    }
   ],
   "source": [
    "annualized_bond_std_dev = bond_std_dev * np.sqrt(252)\n",
    "annualized_bond_std_dev"
   ]
  },
  {
   "cell_type": "code",
   "execution_count": 52,
   "metadata": {},
   "outputs": [
    {
     "data": {
      "text/plain": [
       "-0.05115421454294733"
      ]
     },
     "execution_count": 52,
     "metadata": {},
     "output_type": "execute_result"
    }
   ],
   "source": [
    "avg_annual_bond_returns = bond_daily_returns.mean()*252\n",
    "avg_annual_bond_returns"
   ]
  },
  {
   "cell_type": "code",
   "execution_count": 53,
   "metadata": {},
   "outputs": [
    {
     "data": {
      "text/plain": [
       "-0.7438444407269443"
      ]
     },
     "execution_count": 53,
     "metadata": {},
     "output_type": "execute_result"
    }
   ],
   "source": [
    "bond_sharpe_ratio = avg_annual_bond_returns/annualized_bond_std_dev\n",
    "bond_sharpe_ratio"
   ]
  },
  {
   "cell_type": "code",
   "execution_count": 54,
   "metadata": {},
   "outputs": [
    {
     "data": {
      "text/plain": [
       "0.45249445037403635"
      ]
     },
     "execution_count": 54,
     "metadata": {},
     "output_type": "execute_result"
    }
   ],
   "source": [
    "portfolio_sharpe_ratio = (stock_weight*stock_sharpe_ratio)+(bond_weight*bond_sharpe_ratio)\n",
    "portfolio_sharpe_ratio"
   ]
  },
  {
   "cell_type": "code",
   "execution_count": 55,
   "metadata": {},
   "outputs": [
    {
     "data": {
      "text/plain": [
       "51547.0"
      ]
     },
     "execution_count": 55,
     "metadata": {},
     "output_type": "execute_result"
    }
   ],
   "source": [
    "btc_price"
   ]
  },
  {
   "cell_type": "code",
   "execution_count": 56,
   "metadata": {},
   "outputs": [
    {
     "name": "stdout",
     "output_type": "stream",
     "text": [
      "0    3.436467\n",
      "Name: current_savings, dtype: float64\n"
     ]
    }
   ],
   "source": [
    "btc_owned = btc_price/btc_amt\n",
    "print(btc_owned)"
   ]
  },
  {
   "cell_type": "code",
   "execution_count": 57,
   "metadata": {},
   "outputs": [
    {
     "name": "stdout",
     "output_type": "stream",
     "text": [
      "[0.45249445037403635, 1300807.3943408623, 0    3.436467\n",
      "Name: current_savings, dtype: float64]\n"
     ]
    }
   ],
   "source": [
    "user_output = [portfolio_sharpe_ratio,mean_return,btc_owned]\n",
    "print(user_output)"
   ]
  },
  {
   "cell_type": "code",
   "execution_count": 58,
   "metadata": {},
   "outputs": [
    {
     "data": {
      "text/html": [
       "<div>\n",
       "<style scoped>\n",
       "    .dataframe tbody tr th:only-of-type {\n",
       "        vertical-align: middle;\n",
       "    }\n",
       "\n",
       "    .dataframe tbody tr th {\n",
       "        vertical-align: top;\n",
       "    }\n",
       "\n",
       "    .dataframe thead th {\n",
       "        text-align: right;\n",
       "    }\n",
       "</style>\n",
       "<table border=\"1\" class=\"dataframe\">\n",
       "  <thead>\n",
       "    <tr style=\"text-align: right;\">\n",
       "      <th></th>\n",
       "      <th>0</th>\n",
       "      <th>1</th>\n",
       "      <th>2</th>\n",
       "    </tr>\n",
       "  </thead>\n",
       "  <tbody>\n",
       "    <tr>\n",
       "      <th>0</th>\n",
       "      <td>0.452494</td>\n",
       "      <td>1.30081e+06</td>\n",
       "      <td>0    3.436467\n",
       "Name: current_savings, dtype: fl...</td>\n",
       "    </tr>\n",
       "  </tbody>\n",
       "</table>\n",
       "</div>"
      ],
      "text/plain": [
       "          0            1                                                  2\n",
       "0  0.452494  1.30081e+06  0    3.436467\n",
       "Name: current_savings, dtype: fl..."
      ]
     },
     "execution_count": 58,
     "metadata": {},
     "output_type": "execute_result"
    }
   ],
   "source": [
    "df = pd.DataFrame(user_output).transpose()\n",
    "df.head()"
   ]
  },
  {
   "cell_type": "code",
   "execution_count": 59,
   "metadata": {},
   "outputs": [],
   "source": [
    "df.columns = ['Sharpe Ratio','Expected Return','Number of Bitcoins Owned']"
   ]
  },
  {
   "cell_type": "code",
   "execution_count": 60,
   "metadata": {},
   "outputs": [
    {
     "data": {
      "text/html": [
       "<div>\n",
       "<style scoped>\n",
       "    .dataframe tbody tr th:only-of-type {\n",
       "        vertical-align: middle;\n",
       "    }\n",
       "\n",
       "    .dataframe tbody tr th {\n",
       "        vertical-align: top;\n",
       "    }\n",
       "\n",
       "    .dataframe thead th {\n",
       "        text-align: right;\n",
       "    }\n",
       "</style>\n",
       "<table border=\"1\" class=\"dataframe\">\n",
       "  <thead>\n",
       "    <tr style=\"text-align: right;\">\n",
       "      <th></th>\n",
       "      <th>Sharpe Ratio</th>\n",
       "      <th>Expected Return</th>\n",
       "      <th>Number of Bitcoins Owned</th>\n",
       "    </tr>\n",
       "  </thead>\n",
       "  <tbody>\n",
       "    <tr>\n",
       "      <th>0</th>\n",
       "      <td>0.452494</td>\n",
       "      <td>1.30081e+06</td>\n",
       "      <td>0    3.436467\n",
       "Name: current_savings, dtype: fl...</td>\n",
       "    </tr>\n",
       "  </tbody>\n",
       "</table>\n",
       "</div>"
      ],
      "text/plain": [
       "  Sharpe Ratio Expected Return  \\\n",
       "0     0.452494     1.30081e+06   \n",
       "\n",
       "                            Number of Bitcoins Owned  \n",
       "0  0    3.436467\n",
       "Name: current_savings, dtype: fl...  "
      ]
     },
     "execution_count": 60,
     "metadata": {},
     "output_type": "execute_result"
    }
   ],
   "source": [
    "df.head()"
   ]
  },
  {
   "cell_type": "code",
   "execution_count": 61,
   "metadata": {},
   "outputs": [],
   "source": [
    "df.to_csv('user_output.csv', sep=',')"
   ]
  },
  {
   "cell_type": "code",
   "execution_count": null,
   "metadata": {},
   "outputs": [],
   "source": []
  },
  {
   "cell_type": "code",
   "execution_count": null,
   "metadata": {},
   "outputs": [],
   "source": []
  },
  {
   "cell_type": "code",
   "execution_count": null,
   "metadata": {},
   "outputs": [],
   "source": []
  },
  {
   "cell_type": "code",
   "execution_count": null,
   "metadata": {},
   "outputs": [],
   "source": []
  },
  {
   "cell_type": "code",
   "execution_count": null,
   "metadata": {},
   "outputs": [],
   "source": []
  },
  {
   "cell_type": "code",
   "execution_count": null,
   "metadata": {},
   "outputs": [],
   "source": []
  },
  {
   "cell_type": "code",
   "execution_count": null,
   "metadata": {},
   "outputs": [],
   "source": []
  },
  {
   "cell_type": "code",
   "execution_count": null,
   "metadata": {},
   "outputs": [],
   "source": []
  },
  {
   "cell_type": "code",
   "execution_count": null,
   "metadata": {},
   "outputs": [],
   "source": []
  }
 ],
 "metadata": {
  "kernelspec": {
   "display_name": "Python 3",
   "language": "python",
   "name": "python3"
  },
  "language_info": {
   "codemirror_mode": {
    "name": "ipython",
    "version": 3
   },
   "file_extension": ".py",
   "mimetype": "text/x-python",
   "name": "python",
   "nbconvert_exporter": "python",
   "pygments_lexer": "ipython3",
   "version": "3.8.3"
  }
 },
 "nbformat": 4,
 "nbformat_minor": 4
}
=======
{
 "cells": [
  {
   "cell_type": "code",
   "execution_count": 1,
   "metadata": {},
   "outputs": [],
   "source": [
    "import pandas as pd\n",
    "import json\n",
    "import os\n",
    "import numpy as np\n",
    "import requests\n",
    "import sqlalchemy as sql\n",
    "import alpaca_trade_api as tradeapi\n",
    "from MCForecastTools import MCSimulation\n",
    "from dotenv import load_dotenv\n",
    "from pathlib import Path\n",
    "import datetime\n",
    "from fastquant import backtest,get_stock_data\n",
    "import hvplot.pandas\n",
    "%matplotlib inline"
   ]
  },
  {
   "cell_type": "code",
   "execution_count": 2,
   "metadata": {},
   "outputs": [
    {
     "data": {
      "text/plain": [
       "True"
      ]
     },
     "execution_count": 2,
     "metadata": {},
     "output_type": "execute_result"
    }
   ],
   "source": [
    "# Load the environment variables from the .env file by calling the load_dotenv function\n",
    "load_dotenv()"
   ]
  },
  {
   "cell_type": "code",
   "execution_count": 3,
   "metadata": {},
   "outputs": [],
   "source": [
    "# Set response URLs\n",
    "btc_url = \"https://api.alternative.me/v2/ticker/Bitcoin/?convert=USD\"\n",
    "eth_url = \"https://api.alternative.me/v2/ticker/Ethereum/?convert=USD\"\n",
    "ltc_url = \"https://api.alternative.me/v2/ticker/Litecoin/?convert=USD\""
   ]
  },
  {
   "cell_type": "code",
   "execution_count": 4,
   "metadata": {},
   "outputs": [
    {
     "name": "stdout",
     "output_type": "stream",
     "text": [
      "{\n",
      "    \"data\": {\n",
      "        \"1\": {\n",
      "            \"circulating_supply\": 18636912,\n",
      "            \"id\": 1,\n",
      "            \"last_updated\": 1614140285,\n",
      "            \"max_supply\": 21000000,\n",
      "            \"name\": \"Bitcoin\",\n",
      "            \"quotes\": {\n",
      "                \"USD\": {\n",
      "                    \"market_cap\": 957039293283,\n",
      "                    \"percent_change_1h\": 2.10859243085013,\n",
      "                    \"percent_change_24h\": -1.18684885128326,\n",
      "                    \"percent_change_7d\": 4.68965744113529,\n",
      "                    \"percentage_change_1h\": 2.10859243085013,\n",
      "                    \"percentage_change_24h\": -1.18684885128326,\n",
      "                    \"percentage_change_7d\": 4.68965744113529,\n",
      "                    \"price\": 51547.0,\n",
      "                    \"volume_24h\": 122561082719\n",
      "                }\n",
      "            },\n",
      "            \"rank\": 1,\n",
      "            \"symbol\": \"BTC\",\n",
      "            \"total_supply\": 18636912,\n",
      "            \"website_slug\": \"bitcoin\"\n",
      "        }\n",
      "    },\n",
      "    \"metadata\": {\n",
      "        \"error\": null,\n",
      "        \"num_cryptocurrencies\": 1362,\n",
      "        \"timestamp\": 1614140285\n",
      "    }\n",
      "}\n"
     ]
    }
   ],
   "source": [
    "# Using the Python requests library, make an API call to access the current price of BTC\n",
    "btc_response = requests.get(btc_url).json()\n",
    "\n",
    "# Use the json.dumps function to review the response data from the API call\n",
    "# Use the indent and sort_keys parameters to make the response object readable\n",
    "print(json.dumps(btc_response,indent=4,sort_keys=True))"
   ]
  },
  {
   "cell_type": "code",
   "execution_count": 5,
   "metadata": {},
   "outputs": [
    {
     "name": "stdout",
     "output_type": "stream",
     "text": [
      "{\n",
      "    \"data\": {\n",
      "        \"1027\": {\n",
      "            \"circulating_supply\": 114797966,\n",
      "            \"id\": 1027,\n",
      "            \"last_updated\": 1614140282,\n",
      "            \"max_supply\": 0,\n",
      "            \"name\": \"Ethereum\",\n",
      "            \"quotes\": {\n",
      "                \"USD\": {\n",
      "                    \"market_cap\": 189731831563,\n",
      "                    \"percent_change_1h\": 1.86504041466774,\n",
      "                    \"percent_change_24h\": -2.11576168928325,\n",
      "                    \"percent_change_7d\": -6.7677129826725,\n",
      "                    \"percentage_change_1h\": 1.86504041466774,\n",
      "                    \"percentage_change_24h\": -2.11576168928325,\n",
      "                    \"percentage_change_7d\": -6.7677129826725,\n",
      "                    \"price\": 1661.94,\n",
      "                    \"volume_24h\": 66178840276\n",
      "                }\n",
      "            },\n",
      "            \"rank\": 2,\n",
      "            \"symbol\": \"ETH\",\n",
      "            \"total_supply\": 114797966,\n",
      "            \"website_slug\": \"ethereum\"\n",
      "        }\n",
      "    },\n",
      "    \"metadata\": {\n",
      "        \"error\": null,\n",
      "        \"num_cryptocurrencies\": 1362,\n",
      "        \"timestamp\": 1614140282\n",
      "    }\n",
      "}\n"
     ]
    }
   ],
   "source": [
    "# Using the Python requests library, make an API call to access the current price ETH\n",
    "eth_response = requests.get(eth_url).json()\n",
    "\n",
    "# Use the json.dumps function to review the response data from the API call\n",
    "# Use the indent and sort_keys parameters to make the response object readable\n",
    "print(json.dumps(eth_response,indent=4,sort_keys=True))"
   ]
  },
  {
   "cell_type": "code",
   "execution_count": 6,
   "metadata": {},
   "outputs": [
    {
     "name": "stdout",
     "output_type": "stream",
     "text": [
      "{\n",
      "    \"data\": {\n",
      "        \"2\": {\n",
      "            \"circulating_supply\": 66543565,\n",
      "            \"id\": 2,\n",
      "            \"last_updated\": 1614140302,\n",
      "            \"max_supply\": 84000000,\n",
      "            \"name\": \"Litecoin\",\n",
      "            \"quotes\": {\n",
      "                \"USD\": {\n",
      "                    \"market_cap\": 12396851943,\n",
      "                    \"percent_change_1h\": 1.49638891578949,\n",
      "                    \"percent_change_24h\": -5.20162286422286,\n",
      "                    \"percent_change_7d\": -11.2804280493861,\n",
      "                    \"percentage_change_1h\": 1.49638891578949,\n",
      "                    \"percentage_change_24h\": -5.20162286422286,\n",
      "                    \"percentage_change_7d\": -11.2804280493861,\n",
      "                    \"price\": 186.7,\n",
      "                    \"volume_24h\": 12700066316\n",
      "                }\n",
      "            },\n",
      "            \"rank\": 8,\n",
      "            \"symbol\": \"LTC\",\n",
      "            \"total_supply\": 66543565,\n",
      "            \"website_slug\": \"litecoin\"\n",
      "        }\n",
      "    },\n",
      "    \"metadata\": {\n",
      "        \"error\": null,\n",
      "        \"num_cryptocurrencies\": 1362,\n",
      "        \"timestamp\": 1614140302\n",
      "    }\n",
      "}\n"
     ]
    }
   ],
   "source": [
    "# Using the Python requests library, make an API call to access the current price LTC\n",
    "ltc_response = requests.get(ltc_url).json()\n",
    "\n",
    "# Use the json.dumps function to review the response data from the API call\n",
    "# Use the indent and sort_keys parameters to make the response object readable\n",
    "print(json.dumps(ltc_response,indent=4,sort_keys=True))"
   ]
  },
  {
   "cell_type": "code",
   "execution_count": 7,
   "metadata": {},
   "outputs": [],
   "source": [
    "# Navigate the BTC response object to access the current price of BTC\n",
    "btc_price = btc_response['data']['1']['quotes']['USD']['price']"
   ]
  },
  {
   "cell_type": "code",
   "execution_count": 8,
   "metadata": {},
   "outputs": [],
   "source": [
    "# Navigate the ETH response object to access the current price of ETH\n",
    "eth_price = eth_response['data']['1027']['quotes']['USD']['price']"
   ]
  },
  {
   "cell_type": "code",
   "execution_count": 9,
   "metadata": {},
   "outputs": [],
   "source": [
    "# Navigate the LTC response object to access the current price of LTC\n",
    "ltc_price = ltc_response['data']['2']['quotes']['USD']['price']"
   ]
  },
  {
   "cell_type": "code",
   "execution_count": 10,
   "metadata": {},
   "outputs": [],
   "source": [
    "# remember to update date\n",
    "today_date = str(datetime.datetime.now()).split()[0]\n",
    "one_year_ago = str(datetime.datetime.now() - datetime.timedelta(days=1*365)).split()[0]\n",
    "three_year_ago = str(datetime.datetime.now() - datetime.timedelta(days=3*365)).split()[0]\n",
    "str(datetime.datetime.now()).split(\" \")[0]\n",
    "# Format current date as ISO format\n",
    "today = pd.Timestamp(today_date, tz=\"America/New_York\").isoformat()\n",
    "today\n",
    "# Format start and end dates as ISO format for one year period\n",
    "start = pd.Timestamp(one_year_ago, tz=\"America/New_York\").isoformat()\n",
    "end = pd.Timestamp(today_date, tz=\"America/New_York\").isoformat()\n",
    "# Included for example\n",
    "# # Get closing prices for FB and TWTR from the last year\n",
    "# df_portfolio_year = alpaca.get_barset(\n",
    "#     tickers,\n",
    "#     timeframe,\n",
    "#     start = start,\n",
    "#     end = end\n",
    "# ).df"
   ]
  },
  {
   "cell_type": "code",
   "execution_count": 11,
   "metadata": {},
   "outputs": [
    {
     "data": {
      "text/plain": [
       "str"
      ]
     },
     "metadata": {},
     "output_type": "display_data"
    },
    {
     "data": {
      "text/plain": [
       "str"
      ]
     },
     "metadata": {},
     "output_type": "display_data"
    }
   ],
   "source": [
    "# Set the variables for the Alpaca API and secret keys\n",
    "alpaca_api_key = os.getenv('ALPACA_API_KEY')\n",
    "alpaca_secret_key = os.getenv('ALPACA_SECRET_KEY')\n",
    "\n",
    "# Create the Alpaca tradeapi.REST object\n",
    "alpaca = tradeapi.REST(alpaca_api_key,alpaca_secret_key,api_version='v2')\n",
    "display(type(alpaca_api_key)) # test to make sure api key imported successfully, str indicates import successful\n",
    "display(type(alpaca_secret_key)) # test to make sure api key imported successfully, str indicates import successful"
   ]
  },
  {
   "cell_type": "code",
   "execution_count": 12,
   "metadata": {},
   "outputs": [],
   "source": [
    "# # Set the tickers to be used\n",
    "# large_company_stocks=['QQQ']\n",
    "\n",
    "# medium_company_stocks=['ARKK']\n",
    "\n",
    "# small_company_stocks=[\n",
    "# 'XSTLA',\n",
    "# 'CLF',\n",
    "# 'MSTR',\n",
    "# 'NEO',\n",
    "# 'DDD',\n",
    "# 'OMCL']\n",
    "\n",
    "# bonds = ['AGG']"
   ]
  },
  {
   "cell_type": "code",
   "execution_count": 13,
   "metadata": {},
   "outputs": [],
   "source": [
    "tickers = ['AGG','QQQ']\n",
    "\n",
    "# Set timeframe to 1D \n",
    "timeframe = '1D'\n",
    "\n",
    "# Format current date as ISO format\n",
    "# Set both the start and end date at the date of your prior weekday \n",
    "# This will give you the closing price of the previous trading day\n",
    "start_date = pd.Timestamp('2016-02-19',tz='America/New_York').isoformat() # remember to update date\n",
    "end_date = pd.Timestamp('2021-02-19',tz='America/New_York').isoformat() # remember to update date"
   ]
  },
  {
   "cell_type": "code",
   "execution_count": 14,
   "metadata": {},
   "outputs": [
    {
     "data": {
      "text/html": [
       "<div>\n",
       "<style scoped>\n",
       "    .dataframe tbody tr th:only-of-type {\n",
       "        vertical-align: middle;\n",
       "    }\n",
       "\n",
       "    .dataframe tbody tr th {\n",
       "        vertical-align: top;\n",
       "    }\n",
       "\n",
       "    .dataframe thead tr th {\n",
       "        text-align: left;\n",
       "    }\n",
       "</style>\n",
       "<table border=\"1\" class=\"dataframe\">\n",
       "  <thead>\n",
       "    <tr>\n",
       "      <th></th>\n",
       "      <th colspan=\"5\" halign=\"left\">AGG</th>\n",
       "      <th colspan=\"5\" halign=\"left\">QQQ</th>\n",
       "    </tr>\n",
       "    <tr>\n",
       "      <th></th>\n",
       "      <th>open</th>\n",
       "      <th>high</th>\n",
       "      <th>low</th>\n",
       "      <th>close</th>\n",
       "      <th>volume</th>\n",
       "      <th>open</th>\n",
       "      <th>high</th>\n",
       "      <th>low</th>\n",
       "      <th>close</th>\n",
       "      <th>volume</th>\n",
       "    </tr>\n",
       "  </thead>\n",
       "  <tbody>\n",
       "    <tr>\n",
       "      <th>2020-09-28 00:00:00-04:00</th>\n",
       "      <td>118.18</td>\n",
       "      <td>118.22</td>\n",
       "      <td>118.1100</td>\n",
       "      <td>118.20</td>\n",
       "      <td>5318716</td>\n",
       "      <td>276.615</td>\n",
       "      <td>277.0400</td>\n",
       "      <td>271.6740</td>\n",
       "      <td>277.03</td>\n",
       "      <td>51184391</td>\n",
       "    </tr>\n",
       "    <tr>\n",
       "      <th>2020-09-29 00:00:00-04:00</th>\n",
       "      <td>118.28</td>\n",
       "      <td>118.33</td>\n",
       "      <td>118.2100</td>\n",
       "      <td>118.23</td>\n",
       "      <td>3982030</td>\n",
       "      <td>276.720</td>\n",
       "      <td>277.7100</td>\n",
       "      <td>275.3719</td>\n",
       "      <td>275.86</td>\n",
       "      <td>23686706</td>\n",
       "    </tr>\n",
       "    <tr>\n",
       "      <th>2020-09-30 00:00:00-04:00</th>\n",
       "      <td>118.26</td>\n",
       "      <td>118.26</td>\n",
       "      <td>117.9516</td>\n",
       "      <td>118.07</td>\n",
       "      <td>5314447</td>\n",
       "      <td>276.090</td>\n",
       "      <td>281.0900</td>\n",
       "      <td>275.8717</td>\n",
       "      <td>278.10</td>\n",
       "      <td>44849000</td>\n",
       "    </tr>\n",
       "    <tr>\n",
       "      <th>2020-10-01 00:00:00-04:00</th>\n",
       "      <td>117.81</td>\n",
       "      <td>118.04</td>\n",
       "      <td>117.7500</td>\n",
       "      <td>117.99</td>\n",
       "      <td>9555596</td>\n",
       "      <td>281.800</td>\n",
       "      <td>282.8794</td>\n",
       "      <td>279.8400</td>\n",
       "      <td>282.26</td>\n",
       "      <td>44619187</td>\n",
       "    </tr>\n",
       "    <tr>\n",
       "      <th>2020-10-02 00:00:00-04:00</th>\n",
       "      <td>118.03</td>\n",
       "      <td>118.04</td>\n",
       "      <td>117.8100</td>\n",
       "      <td>117.92</td>\n",
       "      <td>5367665</td>\n",
       "      <td>276.010</td>\n",
       "      <td>282.2412</td>\n",
       "      <td>273.4400</td>\n",
       "      <td>274.33</td>\n",
       "      <td>66549291</td>\n",
       "    </tr>\n",
       "  </tbody>\n",
       "</table>\n",
       "</div>"
      ],
      "text/plain": [
       "                              AGG                                         QQQ  \\\n",
       "                             open    high       low   close   volume     open   \n",
       "2020-09-28 00:00:00-04:00  118.18  118.22  118.1100  118.20  5318716  276.615   \n",
       "2020-09-29 00:00:00-04:00  118.28  118.33  118.2100  118.23  3982030  276.720   \n",
       "2020-09-30 00:00:00-04:00  118.26  118.26  117.9516  118.07  5314447  276.090   \n",
       "2020-10-01 00:00:00-04:00  117.81  118.04  117.7500  117.99  9555596  281.800   \n",
       "2020-10-02 00:00:00-04:00  118.03  118.04  117.8100  117.92  5367665  276.010   \n",
       "\n",
       "                                                                 \n",
       "                               high       low   close    volume  \n",
       "2020-09-28 00:00:00-04:00  277.0400  271.6740  277.03  51184391  \n",
       "2020-09-29 00:00:00-04:00  277.7100  275.3719  275.86  23686706  \n",
       "2020-09-30 00:00:00-04:00  281.0900  275.8717  278.10  44849000  \n",
       "2020-10-01 00:00:00-04:00  282.8794  279.8400  282.26  44619187  \n",
       "2020-10-02 00:00:00-04:00  282.2412  273.4400  274.33  66549291  "
      ]
     },
     "execution_count": 14,
     "metadata": {},
     "output_type": "execute_result"
    }
   ],
   "source": [
    "# Use the Alpaca get_barset function to get current closing prices the portfolio\n",
    "# Be sure to set the `df` property after the function to format the response object as a DataFrame\n",
    "prices_df = alpaca.get_barset(tickers,timeframe,start=start_date,end=end_date).df\n",
    "\n",
    "# Review the first 5 rows of the Alpaca DataFrame\n",
    "prices_df.head()"
   ]
  },
  {
   "cell_type": "code",
   "execution_count": 15,
   "metadata": {},
   "outputs": [],
   "source": [
    "# Access the closing price for AGG from the Alpaca DataFrame\n",
    "# Converting the value to a floating point number\n",
    "# agg_close_price = prices_df['AGG']['close'].item()"
   ]
  },
  {
   "cell_type": "code",
   "execution_count": 16,
   "metadata": {},
   "outputs": [],
   "source": [
    "# Access the closing price for SPY from the Alpaca DataFrame\n",
    "# Converting the value to a floating point number\n",
    "# spy_close_price = prices_df['SPY']['close'].item()"
   ]
  },
  {
   "cell_type": "code",
   "execution_count": 17,
   "metadata": {},
   "outputs": [],
   "source": [
    "# Access the closing price for QQQ from the Alpaca DataFrame\n",
    "# Converting the value to a floating point number\n",
    "# qqq_close_price = prices_df['QQQ']['close'].item()"
   ]
  },
  {
   "cell_type": "code",
   "execution_count": 18,
   "metadata": {},
   "outputs": [],
   "source": [
    "# Access the closing price for ARKK from the Alpaca DataFrame\n",
    "# Converting the value to a floating point number\n",
    "# arkk_close_price = prices_df['ARKK']['close'].item()"
   ]
  },
  {
   "cell_type": "code",
   "execution_count": 19,
   "metadata": {},
   "outputs": [],
   "source": [
    "# Access the closing price for O from the Alpaca DataFrame\n",
    "# Converting the value to a floating point number\n",
    "# o_close_price = prices_df['O']['close'].item()"
   ]
  },
  {
   "cell_type": "code",
   "execution_count": 20,
   "metadata": {},
   "outputs": [],
   "source": [
    "# Access the closing price for VNQ from the Alpaca DataFrame\n",
    "# Converting the value to a floating point number\n",
    "# vnq_close_price = prices_df['VNQ']['close'].item()\n",
    "# print(vnq_close_price)"
   ]
  },
  {
   "cell_type": "code",
   "execution_count": 21,
   "metadata": {},
   "outputs": [],
   "source": [
    "# Get user info\n",
    "user_info = pd.read_csv(Path('data/user_info.csv'))"
   ]
  },
  {
   "cell_type": "code",
   "execution_count": 22,
   "metadata": {},
   "outputs": [
    {
     "data": {
      "text/html": [
       "<div>\n",
       "<style scoped>\n",
       "    .dataframe tbody tr th:only-of-type {\n",
       "        vertical-align: middle;\n",
       "    }\n",
       "\n",
       "    .dataframe tbody tr th {\n",
       "        vertical-align: top;\n",
       "    }\n",
       "\n",
       "    .dataframe thead th {\n",
       "        text-align: right;\n",
       "    }\n",
       "</style>\n",
       "<table border=\"1\" class=\"dataframe\">\n",
       "  <thead>\n",
       "    <tr style=\"text-align: right;\">\n",
       "      <th></th>\n",
       "      <th>current_age</th>\n",
       "      <th>yearly_retirement_income</th>\n",
       "      <th>retirement_age</th>\n",
       "      <th>current_savings</th>\n",
       "      <th>retirement_goal</th>\n",
       "      <th>portfolio_allocation</th>\n",
       "    </tr>\n",
       "  </thead>\n",
       "  <tbody>\n",
       "    <tr>\n",
       "      <th>0</th>\n",
       "      <td>23</td>\n",
       "      <td>100000</td>\n",
       "      <td>60</td>\n",
       "      <td>50000</td>\n",
       "      <td>3950000</td>\n",
       "      <td>[0.0, 0.7, 0.3]</td>\n",
       "    </tr>\n",
       "  </tbody>\n",
       "</table>\n",
       "</div>"
      ],
      "text/plain": [
       "   current_age  yearly_retirement_income  retirement_age  current_savings  \\\n",
       "0           23                    100000              60            50000   \n",
       "\n",
       "   retirement_goal portfolio_allocation  \n",
       "0          3950000      [0.0, 0.7, 0.3]  "
      ]
     },
     "execution_count": 22,
     "metadata": {},
     "output_type": "execute_result"
    }
   ],
   "source": [
    "# Start to build portfolio options\n",
    "user_info"
   ]
  },
  {
   "cell_type": "code",
   "execution_count": 23,
   "metadata": {},
   "outputs": [],
   "source": [
    "age = user_info['current_age']"
   ]
  },
  {
   "cell_type": "code",
   "execution_count": 24,
   "metadata": {},
   "outputs": [
    {
     "name": "stdout",
     "output_type": "stream",
     "text": [
      "0    [0.0, 0.7, 0.3]\n",
      "Name: portfolio_allocation, dtype: object\n"
     ]
    }
   ],
   "source": [
    "# Calculate the % of the portfolio that will be allocated to stocks based on user age if the user doesn't want crypto\n",
    "user_info.loc[:,'portfolio_allocation'] = user_info.loc[:,'portfolio_allocation'].str.replace(\"'\",\"\")\n",
    "portfolio_allocation = str(user_info['portfolio_allocation'])\n",
    "print(portfolio_allocation)"
   ]
  },
  {
   "cell_type": "code",
   "execution_count": 25,
   "metadata": {},
   "outputs": [
    {
     "name": "stdout",
     "output_type": "stream",
     "text": [
      ".0\n"
     ]
    }
   ],
   "source": [
    "# Calculate the % of the portfolio that will be allocated to stocks based on user age if the user does want crypto\n",
    "if portfolio_allocation == '0    [0.0, 0.7, 0.3]' or '0    [0.2,0.6,0.2]' or '0    [0.4,0.4,0.2]' or '0    [0.5,0.4,0.1]' or '0    [0.7,0.2,0.1]':\n",
    "    percent_bonds = portfolio_allocation[7:9]\n",
    "else:\n",
    "    percent_bonds = portfolio_allocation[6:8]\n",
    "print(percent_bonds)"
   ]
  },
  {
   "cell_type": "code",
   "execution_count": 26,
   "metadata": {},
   "outputs": [
    {
     "name": "stdout",
     "output_type": "stream",
     "text": [
      ".7\n"
     ]
    }
   ],
   "source": [
    "if portfolio_allocation == '0    [0.0, 0.7, 0.3]' or '0    [0.2,0.6,0.2]' or '0    [0.4,0.4,0.2]' or '0    [0.5,0.4,0.1]' or '0    [0.7,0.2,0.1]':\n",
    "    percent_stocks = portfolio_allocation[12:14]\n",
    "else:\n",
    "    percent_stocks = portfolio_allocation[10:12]\n",
    "print(percent_stocks)"
   ]
  },
  {
   "cell_type": "code",
   "execution_count": 27,
   "metadata": {},
   "outputs": [
    {
     "name": "stdout",
     "output_type": "stream",
     "text": [
      ".3\n"
     ]
    }
   ],
   "source": [
    "if portfolio_allocation == '0    [0.0, 0.7, 0.3]' or '0    [0.2,0.6,0.2]' or '0    [0.4,0.4,0.2]' or '0    [0.5,0.4,0.1]' or '0    [0.7,0.2,0.1]':\n",
    "    percent_crypto = portfolio_allocation[17:19]\n",
    "else:\n",
    "    percent_crypto = portfolio_allocation[14:16]\n",
    "print(percent_crypto)"
   ]
  },
  {
   "cell_type": "code",
   "execution_count": 28,
   "metadata": {},
   "outputs": [
    {
     "data": {
      "text/plain": [
       "0    35000.0\n",
       "Name: current_savings, dtype: float64"
      ]
     },
     "execution_count": 28,
     "metadata": {},
     "output_type": "execute_result"
    }
   ],
   "source": [
    "stock_amt = float(percent_stocks)*user_info['current_savings']\n",
    "stock_amt"
   ]
  },
  {
   "cell_type": "code",
   "execution_count": 29,
   "metadata": {},
   "outputs": [
    {
     "name": "stdout",
     "output_type": "stream",
     "text": [
      "0    15000.0\n",
      "Name: current_savings, dtype: float64\n"
     ]
    }
   ],
   "source": [
    "btc_amt = float(percent_crypto)*(user_info['current_savings'])\n",
    "print(btc_amt)"
   ]
  },
  {
   "cell_type": "code",
   "execution_count": 30,
   "metadata": {},
   "outputs": [
    {
     "name": "stdout",
     "output_type": "stream",
     "text": [
      "0    0.0\n",
      "Name: current_savings, dtype: float64\n"
     ]
    }
   ],
   "source": [
    "bond_amt = float(percent_bonds)*(user_info['current_savings'])\n",
    "print(bond_amt)"
   ]
  },
  {
   "cell_type": "code",
   "execution_count": 31,
   "metadata": {},
   "outputs": [
    {
     "name": "stdout",
     "output_type": "stream",
     "text": [
      "1.0\n"
     ]
    }
   ],
   "source": [
    "if float(stock_amt) > 0:\n",
    "    stock_weight = (float(stock_amt)+float(bond_amt))/float(stock_amt)\n",
    "else:\n",
    "    stock_weight = 0\n",
    "print(stock_weight)"
   ]
  },
  {
   "cell_type": "code",
   "execution_count": 32,
   "metadata": {},
   "outputs": [
    {
     "name": "stdout",
     "output_type": "stream",
     "text": [
      "0\n"
     ]
    }
   ],
   "source": [
    "if float(bond_amt) > 0:\n",
    "    bond_weight = (float(bond_amt)+float(stock_amt))/float(bond_amt)\n",
    "else:\n",
    "    bond_weight = 0\n",
    "print(bond_weight)"
   ]
  },
  {
   "cell_type": "code",
   "execution_count": 33,
   "metadata": {},
   "outputs": [
    {
     "name": "stdout",
     "output_type": "stream",
     "text": [
      "[0, 1.0]\n"
     ]
    }
   ],
   "source": [
    "portfolio_weights = [bond_weight,stock_weight]\n",
    "print(portfolio_weights)"
   ]
  },
  {
   "cell_type": "code",
   "execution_count": 34,
   "metadata": {},
   "outputs": [
    {
     "data": {
      "text/html": [
       "<div>\n",
       "<style scoped>\n",
       "    .dataframe tbody tr th:only-of-type {\n",
       "        vertical-align: middle;\n",
       "    }\n",
       "\n",
       "    .dataframe tbody tr th {\n",
       "        vertical-align: top;\n",
       "    }\n",
       "\n",
       "    .dataframe thead tr th {\n",
       "        text-align: left;\n",
       "    }\n",
       "</style>\n",
       "<table border=\"1\" class=\"dataframe\">\n",
       "  <thead>\n",
       "    <tr>\n",
       "      <th></th>\n",
       "      <th colspan=\"6\" halign=\"left\">AGG</th>\n",
       "      <th colspan=\"6\" halign=\"left\">QQQ</th>\n",
       "    </tr>\n",
       "    <tr>\n",
       "      <th></th>\n",
       "      <th>open</th>\n",
       "      <th>high</th>\n",
       "      <th>low</th>\n",
       "      <th>close</th>\n",
       "      <th>volume</th>\n",
       "      <th>daily_return</th>\n",
       "      <th>open</th>\n",
       "      <th>high</th>\n",
       "      <th>low</th>\n",
       "      <th>close</th>\n",
       "      <th>volume</th>\n",
       "      <th>daily_return</th>\n",
       "    </tr>\n",
       "  </thead>\n",
       "  <tbody>\n",
       "    <tr>\n",
       "      <th>2020-09-28 00:00:00-04:00</th>\n",
       "      <td>118.18</td>\n",
       "      <td>118.22</td>\n",
       "      <td>118.1100</td>\n",
       "      <td>118.20</td>\n",
       "      <td>5318716</td>\n",
       "      <td>NaN</td>\n",
       "      <td>276.615</td>\n",
       "      <td>277.0400</td>\n",
       "      <td>271.6740</td>\n",
       "      <td>277.03</td>\n",
       "      <td>51184391</td>\n",
       "      <td>NaN</td>\n",
       "    </tr>\n",
       "    <tr>\n",
       "      <th>2020-09-29 00:00:00-04:00</th>\n",
       "      <td>118.28</td>\n",
       "      <td>118.33</td>\n",
       "      <td>118.2100</td>\n",
       "      <td>118.23</td>\n",
       "      <td>3982030</td>\n",
       "      <td>0.000254</td>\n",
       "      <td>276.720</td>\n",
       "      <td>277.7100</td>\n",
       "      <td>275.3719</td>\n",
       "      <td>275.86</td>\n",
       "      <td>23686706</td>\n",
       "      <td>-0.004223</td>\n",
       "    </tr>\n",
       "    <tr>\n",
       "      <th>2020-09-30 00:00:00-04:00</th>\n",
       "      <td>118.26</td>\n",
       "      <td>118.26</td>\n",
       "      <td>117.9516</td>\n",
       "      <td>118.07</td>\n",
       "      <td>5314447</td>\n",
       "      <td>-0.001353</td>\n",
       "      <td>276.090</td>\n",
       "      <td>281.0900</td>\n",
       "      <td>275.8717</td>\n",
       "      <td>278.10</td>\n",
       "      <td>44849000</td>\n",
       "      <td>0.008120</td>\n",
       "    </tr>\n",
       "    <tr>\n",
       "      <th>2020-10-01 00:00:00-04:00</th>\n",
       "      <td>117.81</td>\n",
       "      <td>118.04</td>\n",
       "      <td>117.7500</td>\n",
       "      <td>117.99</td>\n",
       "      <td>9555596</td>\n",
       "      <td>-0.000678</td>\n",
       "      <td>281.800</td>\n",
       "      <td>282.8794</td>\n",
       "      <td>279.8400</td>\n",
       "      <td>282.26</td>\n",
       "      <td>44619187</td>\n",
       "      <td>0.014959</td>\n",
       "    </tr>\n",
       "    <tr>\n",
       "      <th>2020-10-02 00:00:00-04:00</th>\n",
       "      <td>118.03</td>\n",
       "      <td>118.04</td>\n",
       "      <td>117.8100</td>\n",
       "      <td>117.92</td>\n",
       "      <td>5367665</td>\n",
       "      <td>-0.000593</td>\n",
       "      <td>276.010</td>\n",
       "      <td>282.2412</td>\n",
       "      <td>273.4400</td>\n",
       "      <td>274.33</td>\n",
       "      <td>66549291</td>\n",
       "      <td>-0.028095</td>\n",
       "    </tr>\n",
       "  </tbody>\n",
       "</table>\n",
       "</div>"
      ],
      "text/plain": [
       "                              AGG                                     \\\n",
       "                             open    high       low   close   volume   \n",
       "2020-09-28 00:00:00-04:00  118.18  118.22  118.1100  118.20  5318716   \n",
       "2020-09-29 00:00:00-04:00  118.28  118.33  118.2100  118.23  3982030   \n",
       "2020-09-30 00:00:00-04:00  118.26  118.26  117.9516  118.07  5314447   \n",
       "2020-10-01 00:00:00-04:00  117.81  118.04  117.7500  117.99  9555596   \n",
       "2020-10-02 00:00:00-04:00  118.03  118.04  117.8100  117.92  5367665   \n",
       "\n",
       "                                            QQQ                              \\\n",
       "                          daily_return     open      high       low   close   \n",
       "2020-09-28 00:00:00-04:00          NaN  276.615  277.0400  271.6740  277.03   \n",
       "2020-09-29 00:00:00-04:00     0.000254  276.720  277.7100  275.3719  275.86   \n",
       "2020-09-30 00:00:00-04:00    -0.001353  276.090  281.0900  275.8717  278.10   \n",
       "2020-10-01 00:00:00-04:00    -0.000678  281.800  282.8794  279.8400  282.26   \n",
       "2020-10-02 00:00:00-04:00    -0.000593  276.010  282.2412  273.4400  274.33   \n",
       "\n",
       "                                                  \n",
       "                             volume daily_return  \n",
       "2020-09-28 00:00:00-04:00  51184391          NaN  \n",
       "2020-09-29 00:00:00-04:00  23686706    -0.004223  \n",
       "2020-09-30 00:00:00-04:00  44849000     0.008120  \n",
       "2020-10-01 00:00:00-04:00  44619187     0.014959  \n",
       "2020-10-02 00:00:00-04:00  66549291    -0.028095  "
      ]
     },
     "execution_count": 34,
     "metadata": {},
     "output_type": "execute_result"
    }
   ],
   "source": [
    "MC_sim = (MCSimulation(portfolio_data=prices_df,weights=portfolio_weights,num_simulation=100,num_trading_days=252*30))\n",
    "MC_sim.portfolio_data.head()"
   ]
  },
  {
   "cell_type": "code",
   "execution_count": 35,
   "metadata": {},
   "outputs": [
    {
     "name": "stdout",
     "output_type": "stream",
     "text": [
      "Running Monte Carlo simulation number 0.\n",
      "Running Monte Carlo simulation number 10.\n",
      "Running Monte Carlo simulation number 20.\n",
      "Running Monte Carlo simulation number 30.\n",
      "Running Monte Carlo simulation number 40.\n",
      "Running Monte Carlo simulation number 50.\n",
      "Running Monte Carlo simulation number 60.\n",
      "Running Monte Carlo simulation number 70.\n",
      "Running Monte Carlo simulation number 80.\n",
      "Running Monte Carlo simulation number 90.\n"
     ]
    },
    {
     "data": {
      "text/html": [
       "<div>\n",
       "<style scoped>\n",
       "    .dataframe tbody tr th:only-of-type {\n",
       "        vertical-align: middle;\n",
       "    }\n",
       "\n",
       "    .dataframe tbody tr th {\n",
       "        vertical-align: top;\n",
       "    }\n",
       "\n",
       "    .dataframe thead th {\n",
       "        text-align: right;\n",
       "    }\n",
       "</style>\n",
       "<table border=\"1\" class=\"dataframe\">\n",
       "  <thead>\n",
       "    <tr style=\"text-align: right;\">\n",
       "      <th></th>\n",
       "      <th>0</th>\n",
       "      <th>1</th>\n",
       "      <th>2</th>\n",
       "      <th>3</th>\n",
       "      <th>4</th>\n",
       "      <th>5</th>\n",
       "      <th>6</th>\n",
       "      <th>7</th>\n",
       "      <th>8</th>\n",
       "      <th>9</th>\n",
       "      <th>...</th>\n",
       "      <th>90</th>\n",
       "      <th>91</th>\n",
       "      <th>92</th>\n",
       "      <th>93</th>\n",
       "      <th>94</th>\n",
       "      <th>95</th>\n",
       "      <th>96</th>\n",
       "      <th>97</th>\n",
       "      <th>98</th>\n",
       "      <th>99</th>\n",
       "    </tr>\n",
       "  </thead>\n",
       "  <tbody>\n",
       "    <tr>\n",
       "      <th>0</th>\n",
       "      <td>1.000000</td>\n",
       "      <td>1.000000e+00</td>\n",
       "      <td>1.000000</td>\n",
       "      <td>1.000000</td>\n",
       "      <td>1.000000e+00</td>\n",
       "      <td>1.000000e+00</td>\n",
       "      <td>1.000000</td>\n",
       "      <td>1.000000</td>\n",
       "      <td>1.000000</td>\n",
       "      <td>1.000000</td>\n",
       "      <td>...</td>\n",
       "      <td>1.000000</td>\n",
       "      <td>1.000000</td>\n",
       "      <td>1.000000</td>\n",
       "      <td>1.000000</td>\n",
       "      <td>1.000000e+00</td>\n",
       "      <td>1.000000e+00</td>\n",
       "      <td>1.000000e+00</td>\n",
       "      <td>1.000000</td>\n",
       "      <td>1.000000e+00</td>\n",
       "      <td>1.000000e+00</td>\n",
       "    </tr>\n",
       "    <tr>\n",
       "      <th>1</th>\n",
       "      <td>1.006157</td>\n",
       "      <td>9.921083e-01</td>\n",
       "      <td>1.012641</td>\n",
       "      <td>1.004294</td>\n",
       "      <td>9.856127e-01</td>\n",
       "      <td>9.843959e-01</td>\n",
       "      <td>0.975557</td>\n",
       "      <td>1.010270</td>\n",
       "      <td>0.976798</td>\n",
       "      <td>1.006071</td>\n",
       "      <td>...</td>\n",
       "      <td>1.025466</td>\n",
       "      <td>1.018999</td>\n",
       "      <td>1.006635</td>\n",
       "      <td>0.999368</td>\n",
       "      <td>1.005114e+00</td>\n",
       "      <td>1.011276e+00</td>\n",
       "      <td>9.779577e-01</td>\n",
       "      <td>1.002853</td>\n",
       "      <td>1.001923e+00</td>\n",
       "      <td>9.985313e-01</td>\n",
       "    </tr>\n",
       "    <tr>\n",
       "      <th>2</th>\n",
       "      <td>1.013556</td>\n",
       "      <td>9.767054e-01</td>\n",
       "      <td>1.025417</td>\n",
       "      <td>1.001351</td>\n",
       "      <td>9.802870e-01</td>\n",
       "      <td>9.953356e-01</td>\n",
       "      <td>0.959524</td>\n",
       "      <td>1.035293</td>\n",
       "      <td>0.974504</td>\n",
       "      <td>1.004327</td>\n",
       "      <td>...</td>\n",
       "      <td>1.019945</td>\n",
       "      <td>1.008828</td>\n",
       "      <td>1.030857</td>\n",
       "      <td>0.993279</td>\n",
       "      <td>9.994284e-01</td>\n",
       "      <td>9.858160e-01</td>\n",
       "      <td>9.684885e-01</td>\n",
       "      <td>0.979071</td>\n",
       "      <td>9.902616e-01</td>\n",
       "      <td>1.004611e+00</td>\n",
       "    </tr>\n",
       "    <tr>\n",
       "      <th>3</th>\n",
       "      <td>1.019542</td>\n",
       "      <td>9.932901e-01</td>\n",
       "      <td>1.036625</td>\n",
       "      <td>0.999423</td>\n",
       "      <td>9.801103e-01</td>\n",
       "      <td>1.020008e+00</td>\n",
       "      <td>0.958601</td>\n",
       "      <td>1.049883</td>\n",
       "      <td>0.953984</td>\n",
       "      <td>1.030053</td>\n",
       "      <td>...</td>\n",
       "      <td>1.024243</td>\n",
       "      <td>1.008640</td>\n",
       "      <td>1.036530</td>\n",
       "      <td>1.012733</td>\n",
       "      <td>1.005467e+00</td>\n",
       "      <td>9.910396e-01</td>\n",
       "      <td>9.710528e-01</td>\n",
       "      <td>0.960521</td>\n",
       "      <td>9.930460e-01</td>\n",
       "      <td>1.003103e+00</td>\n",
       "    </tr>\n",
       "    <tr>\n",
       "      <th>4</th>\n",
       "      <td>1.026282</td>\n",
       "      <td>9.879985e-01</td>\n",
       "      <td>1.037730</td>\n",
       "      <td>0.995845</td>\n",
       "      <td>9.970859e-01</td>\n",
       "      <td>1.030177e+00</td>\n",
       "      <td>0.972538</td>\n",
       "      <td>1.064990</td>\n",
       "      <td>0.953316</td>\n",
       "      <td>1.035741</td>\n",
       "      <td>...</td>\n",
       "      <td>1.013886</td>\n",
       "      <td>1.023680</td>\n",
       "      <td>1.048900</td>\n",
       "      <td>1.011933</td>\n",
       "      <td>1.004180e+00</td>\n",
       "      <td>9.814948e-01</td>\n",
       "      <td>9.718050e-01</td>\n",
       "      <td>0.956451</td>\n",
       "      <td>9.875868e-01</td>\n",
       "      <td>1.011101e+00</td>\n",
       "    </tr>\n",
       "    <tr>\n",
       "      <th>...</th>\n",
       "      <td>...</td>\n",
       "      <td>...</td>\n",
       "      <td>...</td>\n",
       "      <td>...</td>\n",
       "      <td>...</td>\n",
       "      <td>...</td>\n",
       "      <td>...</td>\n",
       "      <td>...</td>\n",
       "      <td>...</td>\n",
       "      <td>...</td>\n",
       "      <td>...</td>\n",
       "      <td>...</td>\n",
       "      <td>...</td>\n",
       "      <td>...</td>\n",
       "      <td>...</td>\n",
       "      <td>...</td>\n",
       "      <td>...</td>\n",
       "      <td>...</td>\n",
       "      <td>...</td>\n",
       "      <td>...</td>\n",
       "      <td>...</td>\n",
       "    </tr>\n",
       "    <tr>\n",
       "      <th>7556</th>\n",
       "      <td>854432.262272</td>\n",
       "      <td>1.270102e+06</td>\n",
       "      <td>366636.518992</td>\n",
       "      <td>579675.248937</td>\n",
       "      <td>3.069385e+06</td>\n",
       "      <td>1.250462e+06</td>\n",
       "      <td>710546.258314</td>\n",
       "      <td>930499.633770</td>\n",
       "      <td>546284.995881</td>\n",
       "      <td>566299.234138</td>\n",
       "      <td>...</td>\n",
       "      <td>834982.139651</td>\n",
       "      <td>65837.718305</td>\n",
       "      <td>365143.471525</td>\n",
       "      <td>94384.375292</td>\n",
       "      <td>2.248688e+06</td>\n",
       "      <td>1.371787e+06</td>\n",
       "      <td>1.633505e+06</td>\n",
       "      <td>99936.540465</td>\n",
       "      <td>1.258257e+06</td>\n",
       "      <td>1.293119e+06</td>\n",
       "    </tr>\n",
       "    <tr>\n",
       "      <th>7557</th>\n",
       "      <td>850420.826445</td>\n",
       "      <td>1.276078e+06</td>\n",
       "      <td>368988.614735</td>\n",
       "      <td>572565.770002</td>\n",
       "      <td>3.173311e+06</td>\n",
       "      <td>1.232129e+06</td>\n",
       "      <td>694495.691481</td>\n",
       "      <td>912918.005415</td>\n",
       "      <td>551087.990673</td>\n",
       "      <td>561455.732142</td>\n",
       "      <td>...</td>\n",
       "      <td>837748.656068</td>\n",
       "      <td>64810.630996</td>\n",
       "      <td>363673.828738</td>\n",
       "      <td>94810.501775</td>\n",
       "      <td>2.268574e+06</td>\n",
       "      <td>1.371945e+06</td>\n",
       "      <td>1.669115e+06</td>\n",
       "      <td>102733.083369</td>\n",
       "      <td>1.274419e+06</td>\n",
       "      <td>1.298132e+06</td>\n",
       "    </tr>\n",
       "    <tr>\n",
       "      <th>7558</th>\n",
       "      <td>854641.275242</td>\n",
       "      <td>1.281042e+06</td>\n",
       "      <td>358622.819328</td>\n",
       "      <td>575725.759495</td>\n",
       "      <td>3.176332e+06</td>\n",
       "      <td>1.243994e+06</td>\n",
       "      <td>702879.939188</td>\n",
       "      <td>905954.737959</td>\n",
       "      <td>554344.149192</td>\n",
       "      <td>569176.868575</td>\n",
       "      <td>...</td>\n",
       "      <td>830903.965120</td>\n",
       "      <td>64365.294147</td>\n",
       "      <td>361284.758098</td>\n",
       "      <td>93575.497178</td>\n",
       "      <td>2.223270e+06</td>\n",
       "      <td>1.362817e+06</td>\n",
       "      <td>1.660434e+06</td>\n",
       "      <td>103661.078187</td>\n",
       "      <td>1.283956e+06</td>\n",
       "      <td>1.276432e+06</td>\n",
       "    </tr>\n",
       "    <tr>\n",
       "      <th>7559</th>\n",
       "      <td>872687.562866</td>\n",
       "      <td>1.279577e+06</td>\n",
       "      <td>355816.411708</td>\n",
       "      <td>586389.073556</td>\n",
       "      <td>3.188309e+06</td>\n",
       "      <td>1.236913e+06</td>\n",
       "      <td>709632.660661</td>\n",
       "      <td>895056.176964</td>\n",
       "      <td>553565.331723</td>\n",
       "      <td>551327.095349</td>\n",
       "      <td>...</td>\n",
       "      <td>823357.338428</td>\n",
       "      <td>64093.721712</td>\n",
       "      <td>355952.747125</td>\n",
       "      <td>94636.625936</td>\n",
       "      <td>2.256669e+06</td>\n",
       "      <td>1.368887e+06</td>\n",
       "      <td>1.675466e+06</td>\n",
       "      <td>104649.130992</td>\n",
       "      <td>1.283872e+06</td>\n",
       "      <td>1.254734e+06</td>\n",
       "    </tr>\n",
       "    <tr>\n",
       "      <th>7560</th>\n",
       "      <td>894544.486835</td>\n",
       "      <td>1.288864e+06</td>\n",
       "      <td>350018.431984</td>\n",
       "      <td>580665.137653</td>\n",
       "      <td>3.220261e+06</td>\n",
       "      <td>1.253082e+06</td>\n",
       "      <td>719207.245958</td>\n",
       "      <td>884531.452985</td>\n",
       "      <td>559371.048142</td>\n",
       "      <td>534867.725001</td>\n",
       "      <td>...</td>\n",
       "      <td>808491.703565</td>\n",
       "      <td>63327.647274</td>\n",
       "      <td>354604.211626</td>\n",
       "      <td>97614.147951</td>\n",
       "      <td>2.235316e+06</td>\n",
       "      <td>1.365355e+06</td>\n",
       "      <td>1.703410e+06</td>\n",
       "      <td>105507.942843</td>\n",
       "      <td>1.295771e+06</td>\n",
       "      <td>1.287512e+06</td>\n",
       "    </tr>\n",
       "  </tbody>\n",
       "</table>\n",
       "<p>7561 rows × 100 columns</p>\n",
       "</div>"
      ],
      "text/plain": [
       "                 0             1              2              3             4   \\\n",
       "0          1.000000  1.000000e+00       1.000000       1.000000  1.000000e+00   \n",
       "1          1.006157  9.921083e-01       1.012641       1.004294  9.856127e-01   \n",
       "2          1.013556  9.767054e-01       1.025417       1.001351  9.802870e-01   \n",
       "3          1.019542  9.932901e-01       1.036625       0.999423  9.801103e-01   \n",
       "4          1.026282  9.879985e-01       1.037730       0.995845  9.970859e-01   \n",
       "...             ...           ...            ...            ...           ...   \n",
       "7556  854432.262272  1.270102e+06  366636.518992  579675.248937  3.069385e+06   \n",
       "7557  850420.826445  1.276078e+06  368988.614735  572565.770002  3.173311e+06   \n",
       "7558  854641.275242  1.281042e+06  358622.819328  575725.759495  3.176332e+06   \n",
       "7559  872687.562866  1.279577e+06  355816.411708  586389.073556  3.188309e+06   \n",
       "7560  894544.486835  1.288864e+06  350018.431984  580665.137653  3.220261e+06   \n",
       "\n",
       "                5              6              7              8   \\\n",
       "0     1.000000e+00       1.000000       1.000000       1.000000   \n",
       "1     9.843959e-01       0.975557       1.010270       0.976798   \n",
       "2     9.953356e-01       0.959524       1.035293       0.974504   \n",
       "3     1.020008e+00       0.958601       1.049883       0.953984   \n",
       "4     1.030177e+00       0.972538       1.064990       0.953316   \n",
       "...            ...            ...            ...            ...   \n",
       "7556  1.250462e+06  710546.258314  930499.633770  546284.995881   \n",
       "7557  1.232129e+06  694495.691481  912918.005415  551087.990673   \n",
       "7558  1.243994e+06  702879.939188  905954.737959  554344.149192   \n",
       "7559  1.236913e+06  709632.660661  895056.176964  553565.331723   \n",
       "7560  1.253082e+06  719207.245958  884531.452985  559371.048142   \n",
       "\n",
       "                 9   ...             90            91             92  \\\n",
       "0          1.000000  ...       1.000000      1.000000       1.000000   \n",
       "1          1.006071  ...       1.025466      1.018999       1.006635   \n",
       "2          1.004327  ...       1.019945      1.008828       1.030857   \n",
       "3          1.030053  ...       1.024243      1.008640       1.036530   \n",
       "4          1.035741  ...       1.013886      1.023680       1.048900   \n",
       "...             ...  ...            ...           ...            ...   \n",
       "7556  566299.234138  ...  834982.139651  65837.718305  365143.471525   \n",
       "7557  561455.732142  ...  837748.656068  64810.630996  363673.828738   \n",
       "7558  569176.868575  ...  830903.965120  64365.294147  361284.758098   \n",
       "7559  551327.095349  ...  823357.338428  64093.721712  355952.747125   \n",
       "7560  534867.725001  ...  808491.703565  63327.647274  354604.211626   \n",
       "\n",
       "                93            94            95            96             97  \\\n",
       "0         1.000000  1.000000e+00  1.000000e+00  1.000000e+00       1.000000   \n",
       "1         0.999368  1.005114e+00  1.011276e+00  9.779577e-01       1.002853   \n",
       "2         0.993279  9.994284e-01  9.858160e-01  9.684885e-01       0.979071   \n",
       "3         1.012733  1.005467e+00  9.910396e-01  9.710528e-01       0.960521   \n",
       "4         1.011933  1.004180e+00  9.814948e-01  9.718050e-01       0.956451   \n",
       "...            ...           ...           ...           ...            ...   \n",
       "7556  94384.375292  2.248688e+06  1.371787e+06  1.633505e+06   99936.540465   \n",
       "7557  94810.501775  2.268574e+06  1.371945e+06  1.669115e+06  102733.083369   \n",
       "7558  93575.497178  2.223270e+06  1.362817e+06  1.660434e+06  103661.078187   \n",
       "7559  94636.625936  2.256669e+06  1.368887e+06  1.675466e+06  104649.130992   \n",
       "7560  97614.147951  2.235316e+06  1.365355e+06  1.703410e+06  105507.942843   \n",
       "\n",
       "                98            99  \n",
       "0     1.000000e+00  1.000000e+00  \n",
       "1     1.001923e+00  9.985313e-01  \n",
       "2     9.902616e-01  1.004611e+00  \n",
       "3     9.930460e-01  1.003103e+00  \n",
       "4     9.875868e-01  1.011101e+00  \n",
       "...            ...           ...  \n",
       "7556  1.258257e+06  1.293119e+06  \n",
       "7557  1.274419e+06  1.298132e+06  \n",
       "7558  1.283956e+06  1.276432e+06  \n",
       "7559  1.283872e+06  1.254734e+06  \n",
       "7560  1.295771e+06  1.287512e+06  \n",
       "\n",
       "[7561 rows x 100 columns]"
      ]
     },
     "execution_count": 35,
     "metadata": {},
     "output_type": "execute_result"
    }
   ],
   "source": [
    "MC_sim.calc_cumulative_return()"
   ]
  },
  {
   "cell_type": "code",
   "execution_count": 36,
   "metadata": {},
   "outputs": [
    {
     "name": "stdout",
     "output_type": "stream",
     "text": [
      "count           1.000000e+02\n",
      "mean            1.300807e+06\n",
      "std             1.486724e+06\n",
      "min             3.344406e+04\n",
      "25%             3.600688e+05\n",
      "50%             9.007309e+05\n",
      "75%             1.376039e+06\n",
      "max             9.446825e+06\n",
      "95% CI Lower    6.811362e+04\n",
      "95% CI Upper    5.234236e+06\n",
      "Name: 7560, dtype: float64\n"
     ]
    }
   ],
   "source": [
    "cumulative_returns = MC_sim.summarize_cumulative_return()\n",
    "print(cumulative_returns)"
   ]
  },
  {
   "cell_type": "code",
   "execution_count": 37,
   "metadata": {},
   "outputs": [
    {
     "name": "stdout",
     "output_type": "stream",
     "text": [
      "1300807.3943408623\n"
     ]
    }
   ],
   "source": [
    "mean_return = cumulative_returns['mean']\n",
    "print(mean_return)"
   ]
  },
  {
   "cell_type": "code",
   "execution_count": 38,
   "metadata": {},
   "outputs": [
    {
     "name": "stdout",
     "output_type": "stream",
     "text": [
      "1486723.9603578954\n"
     ]
    }
   ],
   "source": [
    "std_dev = cumulative_returns['std']\n",
    "print(std_dev)"
   ]
  },
  {
   "cell_type": "code",
   "execution_count": 39,
   "metadata": {},
   "outputs": [
    {
     "data": {
      "text/html": [
       "<div>\n",
       "<style scoped>\n",
       "    .dataframe tbody tr th:only-of-type {\n",
       "        vertical-align: middle;\n",
       "    }\n",
       "\n",
       "    .dataframe tbody tr th {\n",
       "        vertical-align: top;\n",
       "    }\n",
       "\n",
       "    .dataframe thead tr th {\n",
       "        text-align: left;\n",
       "    }\n",
       "</style>\n",
       "<table border=\"1\" class=\"dataframe\">\n",
       "  <thead>\n",
       "    <tr>\n",
       "      <th></th>\n",
       "      <th colspan=\"5\" halign=\"left\">AGG</th>\n",
       "      <th colspan=\"5\" halign=\"left\">QQQ</th>\n",
       "    </tr>\n",
       "    <tr>\n",
       "      <th></th>\n",
       "      <th>open</th>\n",
       "      <th>high</th>\n",
       "      <th>low</th>\n",
       "      <th>close</th>\n",
       "      <th>volume</th>\n",
       "      <th>open</th>\n",
       "      <th>high</th>\n",
       "      <th>low</th>\n",
       "      <th>close</th>\n",
       "      <th>volume</th>\n",
       "    </tr>\n",
       "  </thead>\n",
       "  <tbody>\n",
       "    <tr>\n",
       "      <th>2020-09-28 00:00:00-04:00</th>\n",
       "      <td>118.1800</td>\n",
       "      <td>118.22</td>\n",
       "      <td>118.1100</td>\n",
       "      <td>118.20</td>\n",
       "      <td>5318716</td>\n",
       "      <td>276.615</td>\n",
       "      <td>277.0400</td>\n",
       "      <td>271.6740</td>\n",
       "      <td>277.030</td>\n",
       "      <td>51184391</td>\n",
       "    </tr>\n",
       "    <tr>\n",
       "      <th>2020-09-29 00:00:00-04:00</th>\n",
       "      <td>118.2800</td>\n",
       "      <td>118.33</td>\n",
       "      <td>118.2100</td>\n",
       "      <td>118.23</td>\n",
       "      <td>3982030</td>\n",
       "      <td>276.720</td>\n",
       "      <td>277.7100</td>\n",
       "      <td>275.3719</td>\n",
       "      <td>275.860</td>\n",
       "      <td>23686706</td>\n",
       "    </tr>\n",
       "    <tr>\n",
       "      <th>2020-09-30 00:00:00-04:00</th>\n",
       "      <td>118.2600</td>\n",
       "      <td>118.26</td>\n",
       "      <td>117.9516</td>\n",
       "      <td>118.07</td>\n",
       "      <td>5314447</td>\n",
       "      <td>276.090</td>\n",
       "      <td>281.0900</td>\n",
       "      <td>275.8717</td>\n",
       "      <td>278.100</td>\n",
       "      <td>44849000</td>\n",
       "    </tr>\n",
       "    <tr>\n",
       "      <th>2020-10-01 00:00:00-04:00</th>\n",
       "      <td>117.8100</td>\n",
       "      <td>118.04</td>\n",
       "      <td>117.7500</td>\n",
       "      <td>117.99</td>\n",
       "      <td>9555596</td>\n",
       "      <td>281.800</td>\n",
       "      <td>282.8794</td>\n",
       "      <td>279.8400</td>\n",
       "      <td>282.260</td>\n",
       "      <td>44619187</td>\n",
       "    </tr>\n",
       "    <tr>\n",
       "      <th>2020-10-02 00:00:00-04:00</th>\n",
       "      <td>118.0300</td>\n",
       "      <td>118.04</td>\n",
       "      <td>117.8100</td>\n",
       "      <td>117.92</td>\n",
       "      <td>5367665</td>\n",
       "      <td>276.010</td>\n",
       "      <td>282.2412</td>\n",
       "      <td>273.4400</td>\n",
       "      <td>274.330</td>\n",
       "      <td>66549291</td>\n",
       "    </tr>\n",
       "    <tr>\n",
       "      <th>...</th>\n",
       "      <td>...</td>\n",
       "      <td>...</td>\n",
       "      <td>...</td>\n",
       "      <td>...</td>\n",
       "      <td>...</td>\n",
       "      <td>...</td>\n",
       "      <td>...</td>\n",
       "      <td>...</td>\n",
       "      <td>...</td>\n",
       "      <td>...</td>\n",
       "    </tr>\n",
       "    <tr>\n",
       "      <th>2021-02-12 00:00:00-05:00</th>\n",
       "      <td>116.6700</td>\n",
       "      <td>116.74</td>\n",
       "      <td>116.5418</td>\n",
       "      <td>116.58</td>\n",
       "      <td>3209765</td>\n",
       "      <td>333.710</td>\n",
       "      <td>336.6200</td>\n",
       "      <td>332.6300</td>\n",
       "      <td>336.455</td>\n",
       "      <td>18450250</td>\n",
       "    </tr>\n",
       "    <tr>\n",
       "      <th>2021-02-16 00:00:00-05:00</th>\n",
       "      <td>116.2200</td>\n",
       "      <td>116.23</td>\n",
       "      <td>116.0200</td>\n",
       "      <td>116.03</td>\n",
       "      <td>5543350</td>\n",
       "      <td>337.270</td>\n",
       "      <td>338.1900</td>\n",
       "      <td>334.3400</td>\n",
       "      <td>335.510</td>\n",
       "      <td>24387052</td>\n",
       "    </tr>\n",
       "    <tr>\n",
       "      <th>2021-02-17 00:00:00-05:00</th>\n",
       "      <td>116.2200</td>\n",
       "      <td>116.29</td>\n",
       "      <td>116.1450</td>\n",
       "      <td>116.28</td>\n",
       "      <td>6038386</td>\n",
       "      <td>332.470</td>\n",
       "      <td>335.6570</td>\n",
       "      <td>330.1700</td>\n",
       "      <td>333.940</td>\n",
       "      <td>28492624</td>\n",
       "    </tr>\n",
       "    <tr>\n",
       "      <th>2021-02-18 00:00:00-05:00</th>\n",
       "      <td>116.1400</td>\n",
       "      <td>116.28</td>\n",
       "      <td>116.0300</td>\n",
       "      <td>116.20</td>\n",
       "      <td>3910324</td>\n",
       "      <td>330.230</td>\n",
       "      <td>333.8661</td>\n",
       "      <td>328.3600</td>\n",
       "      <td>332.440</td>\n",
       "      <td>28750896</td>\n",
       "    </tr>\n",
       "    <tr>\n",
       "      <th>2021-02-19 00:00:00-05:00</th>\n",
       "      <td>116.0187</td>\n",
       "      <td>116.06</td>\n",
       "      <td>115.7515</td>\n",
       "      <td>115.83</td>\n",
       "      <td>4416681</td>\n",
       "      <td>333.860</td>\n",
       "      <td>333.9900</td>\n",
       "      <td>329.9700</td>\n",
       "      <td>331.040</td>\n",
       "      <td>36173201</td>\n",
       "    </tr>\n",
       "  </tbody>\n",
       "</table>\n",
       "<p>100 rows × 10 columns</p>\n",
       "</div>"
      ],
      "text/plain": [
       "                                AGG                                     \\\n",
       "                               open    high       low   close   volume   \n",
       "2020-09-28 00:00:00-04:00  118.1800  118.22  118.1100  118.20  5318716   \n",
       "2020-09-29 00:00:00-04:00  118.2800  118.33  118.2100  118.23  3982030   \n",
       "2020-09-30 00:00:00-04:00  118.2600  118.26  117.9516  118.07  5314447   \n",
       "2020-10-01 00:00:00-04:00  117.8100  118.04  117.7500  117.99  9555596   \n",
       "2020-10-02 00:00:00-04:00  118.0300  118.04  117.8100  117.92  5367665   \n",
       "...                             ...     ...       ...     ...      ...   \n",
       "2021-02-12 00:00:00-05:00  116.6700  116.74  116.5418  116.58  3209765   \n",
       "2021-02-16 00:00:00-05:00  116.2200  116.23  116.0200  116.03  5543350   \n",
       "2021-02-17 00:00:00-05:00  116.2200  116.29  116.1450  116.28  6038386   \n",
       "2021-02-18 00:00:00-05:00  116.1400  116.28  116.0300  116.20  3910324   \n",
       "2021-02-19 00:00:00-05:00  116.0187  116.06  115.7515  115.83  4416681   \n",
       "\n",
       "                               QQQ                                         \n",
       "                              open      high       low    close    volume  \n",
       "2020-09-28 00:00:00-04:00  276.615  277.0400  271.6740  277.030  51184391  \n",
       "2020-09-29 00:00:00-04:00  276.720  277.7100  275.3719  275.860  23686706  \n",
       "2020-09-30 00:00:00-04:00  276.090  281.0900  275.8717  278.100  44849000  \n",
       "2020-10-01 00:00:00-04:00  281.800  282.8794  279.8400  282.260  44619187  \n",
       "2020-10-02 00:00:00-04:00  276.010  282.2412  273.4400  274.330  66549291  \n",
       "...                            ...       ...       ...      ...       ...  \n",
       "2021-02-12 00:00:00-05:00  333.710  336.6200  332.6300  336.455  18450250  \n",
       "2021-02-16 00:00:00-05:00  337.270  338.1900  334.3400  335.510  24387052  \n",
       "2021-02-17 00:00:00-05:00  332.470  335.6570  330.1700  333.940  28492624  \n",
       "2021-02-18 00:00:00-05:00  330.230  333.8661  328.3600  332.440  28750896  \n",
       "2021-02-19 00:00:00-05:00  333.860  333.9900  329.9700  331.040  36173201  \n",
       "\n",
       "[100 rows x 10 columns]"
      ]
     },
     "execution_count": 39,
     "metadata": {},
     "output_type": "execute_result"
    }
   ],
   "source": [
    "prices_df"
   ]
  },
  {
   "cell_type": "code",
   "execution_count": 40,
   "metadata": {},
   "outputs": [],
   "source": [
    "qqq_close = prices_df['QQQ']['close']"
   ]
  },
  {
   "cell_type": "code",
   "execution_count": 41,
   "metadata": {},
   "outputs": [],
   "source": [
    "stock_daily_returns = qqq_close.pct_change().dropna()"
   ]
  },
  {
   "cell_type": "code",
   "execution_count": 42,
   "metadata": {},
   "outputs": [],
   "source": [
    "stock_cumulative_returns = (1 + stock_daily_returns).cumprod()"
   ]
  },
  {
   "cell_type": "code",
   "execution_count": 43,
   "metadata": {},
   "outputs": [
    {
     "data": {
      "text/plain": [
       "0.06619335921500948"
      ]
     },
     "execution_count": 43,
     "metadata": {},
     "output_type": "execute_result"
    }
   ],
   "source": [
    "stock_std_dev = stock_cumulative_returns.std()\n",
    "stock_std_dev"
   ]
  },
  {
   "cell_type": "code",
   "execution_count": 44,
   "metadata": {},
   "outputs": [
    {
     "data": {
      "text/plain": [
       "1.0507870015612844"
      ]
     },
     "execution_count": 44,
     "metadata": {},
     "output_type": "execute_result"
    }
   ],
   "source": [
    "annualized_stock_std_dev = stock_std_dev * np.sqrt(252)\n",
    "annualized_stock_std_dev"
   ]
  },
  {
   "cell_type": "code",
   "execution_count": 45,
   "metadata": {},
   "outputs": [
    {
     "data": {
      "text/plain": [
       "0.475475286731655"
      ]
     },
     "execution_count": 45,
     "metadata": {},
     "output_type": "execute_result"
    }
   ],
   "source": [
    "avg_annual_stock_returns = stock_daily_returns.mean()*252\n",
    "avg_annual_stock_returns"
   ]
  },
  {
   "cell_type": "code",
   "execution_count": 46,
   "metadata": {},
   "outputs": [
    {
     "data": {
      "text/plain": [
       "0.45249445037403635"
      ]
     },
     "execution_count": 46,
     "metadata": {},
     "output_type": "execute_result"
    }
   ],
   "source": [
    "stock_sharpe_ratio = avg_annual_stock_returns/annualized_stock_std_dev\n",
    "stock_sharpe_ratio"
   ]
  },
  {
   "cell_type": "code",
   "execution_count": 47,
   "metadata": {},
   "outputs": [],
   "source": [
    "agg_close = prices_df['AGG']['close']"
   ]
  },
  {
   "cell_type": "code",
   "execution_count": 48,
   "metadata": {},
   "outputs": [],
   "source": [
    "bond_daily_returns = agg_close.pct_change().dropna()"
   ]
  },
  {
   "cell_type": "code",
   "execution_count": 49,
   "metadata": {},
   "outputs": [],
   "source": [
    "bond_cumulative_returns = (1 + bond_daily_returns).cumprod()"
   ]
  },
  {
   "cell_type": "code",
   "execution_count": 50,
   "metadata": {},
   "outputs": [
    {
     "data": {
      "text/plain": [
       "0.004332105541455871"
      ]
     },
     "execution_count": 50,
     "metadata": {},
     "output_type": "execute_result"
    }
   ],
   "source": [
    "bond_std_dev = bond_cumulative_returns.std()\n",
    "bond_std_dev"
   ]
  },
  {
   "cell_type": "code",
   "execution_count": 51,
   "metadata": {},
   "outputs": [
    {
     "data": {
      "text/plain": [
       "0.0687700434958623"
      ]
     },
     "execution_count": 51,
     "metadata": {},
     "output_type": "execute_result"
    }
   ],
   "source": [
    "annualized_bond_std_dev = bond_std_dev * np.sqrt(252)\n",
    "annualized_bond_std_dev"
   ]
  },
  {
   "cell_type": "code",
   "execution_count": 52,
   "metadata": {},
   "outputs": [
    {
     "data": {
      "text/plain": [
       "-0.05115421454294733"
      ]
     },
     "execution_count": 52,
     "metadata": {},
     "output_type": "execute_result"
    }
   ],
   "source": [
    "avg_annual_bond_returns = bond_daily_returns.mean()*252\n",
    "avg_annual_bond_returns"
   ]
  },
  {
   "cell_type": "code",
   "execution_count": 53,
   "metadata": {},
   "outputs": [
    {
     "data": {
      "text/plain": [
       "-0.7438444407269443"
      ]
     },
     "execution_count": 53,
     "metadata": {},
     "output_type": "execute_result"
    }
   ],
   "source": [
    "bond_sharpe_ratio = avg_annual_bond_returns/annualized_bond_std_dev\n",
    "bond_sharpe_ratio"
   ]
  },
  {
   "cell_type": "code",
   "execution_count": 54,
   "metadata": {},
   "outputs": [
    {
     "data": {
      "text/plain": [
       "0.45249445037403635"
      ]
     },
     "execution_count": 54,
     "metadata": {},
     "output_type": "execute_result"
    }
   ],
   "source": [
    "portfolio_sharpe_ratio = (stock_weight*stock_sharpe_ratio)+(bond_weight*bond_sharpe_ratio)\n",
    "portfolio_sharpe_ratio"
   ]
  },
  {
   "cell_type": "code",
   "execution_count": 55,
   "metadata": {},
   "outputs": [
    {
     "data": {
      "text/plain": [
       "51547.0"
      ]
     },
     "execution_count": 55,
     "metadata": {},
     "output_type": "execute_result"
    }
   ],
   "source": [
    "btc_price"
   ]
  },
  {
   "cell_type": "code",
   "execution_count": 56,
   "metadata": {},
   "outputs": [
    {
     "name": "stdout",
     "output_type": "stream",
     "text": [
      "0    3.436467\n",
      "Name: current_savings, dtype: float64\n"
     ]
    }
   ],
   "source": [
    "btc_owned = btc_price/btc_amt\n",
    "print(btc_owned)"
   ]
  },
  {
   "cell_type": "code",
   "execution_count": 57,
   "metadata": {},
   "outputs": [
    {
     "name": "stdout",
     "output_type": "stream",
     "text": [
      "[0.45249445037403635, 1300807.3943408623, 0    3.436467\n",
      "Name: current_savings, dtype: float64]\n"
     ]
    }
   ],
   "source": [
    "user_output = [portfolio_sharpe_ratio,mean_return,btc_owned]\n",
    "print(user_output)"
   ]
  },
  {
   "cell_type": "code",
   "execution_count": 58,
   "metadata": {},
   "outputs": [
    {
     "data": {
      "text/html": [
       "<div>\n",
       "<style scoped>\n",
       "    .dataframe tbody tr th:only-of-type {\n",
       "        vertical-align: middle;\n",
       "    }\n",
       "\n",
       "    .dataframe tbody tr th {\n",
       "        vertical-align: top;\n",
       "    }\n",
       "\n",
       "    .dataframe thead th {\n",
       "        text-align: right;\n",
       "    }\n",
       "</style>\n",
       "<table border=\"1\" class=\"dataframe\">\n",
       "  <thead>\n",
       "    <tr style=\"text-align: right;\">\n",
       "      <th></th>\n",
       "      <th>0</th>\n",
       "      <th>1</th>\n",
       "      <th>2</th>\n",
       "    </tr>\n",
       "  </thead>\n",
       "  <tbody>\n",
       "    <tr>\n",
       "      <th>0</th>\n",
       "      <td>0.452494</td>\n",
       "      <td>1.30081e+06</td>\n",
       "      <td>0    3.436467\n",
       "Name: current_savings, dtype: fl...</td>\n",
       "    </tr>\n",
       "  </tbody>\n",
       "</table>\n",
       "</div>"
      ],
      "text/plain": [
       "          0            1                                                  2\n",
       "0  0.452494  1.30081e+06  0    3.436467\n",
       "Name: current_savings, dtype: fl..."
      ]
     },
     "execution_count": 58,
     "metadata": {},
     "output_type": "execute_result"
    }
   ],
   "source": [
    "df = pd.DataFrame(user_output).transpose()\n",
    "df.head()"
   ]
  },
  {
   "cell_type": "code",
   "execution_count": 59,
   "metadata": {},
   "outputs": [],
   "source": [
    "df.columns = ['Sharpe Ratio','Expected Return','Number of Bitcoins Owned']"
   ]
  },
  {
   "cell_type": "code",
   "execution_count": 60,
   "metadata": {},
   "outputs": [
    {
     "data": {
      "text/html": [
       "<div>\n",
       "<style scoped>\n",
       "    .dataframe tbody tr th:only-of-type {\n",
       "        vertical-align: middle;\n",
       "    }\n",
       "\n",
       "    .dataframe tbody tr th {\n",
       "        vertical-align: top;\n",
       "    }\n",
       "\n",
       "    .dataframe thead th {\n",
       "        text-align: right;\n",
       "    }\n",
       "</style>\n",
       "<table border=\"1\" class=\"dataframe\">\n",
       "  <thead>\n",
       "    <tr style=\"text-align: right;\">\n",
       "      <th></th>\n",
       "      <th>Sharpe Ratio</th>\n",
       "      <th>Expected Return</th>\n",
       "      <th>Number of Bitcoins Owned</th>\n",
       "    </tr>\n",
       "  </thead>\n",
       "  <tbody>\n",
       "    <tr>\n",
       "      <th>0</th>\n",
       "      <td>0.452494</td>\n",
       "      <td>1.30081e+06</td>\n",
       "      <td>0    3.436467\n",
       "Name: current_savings, dtype: fl...</td>\n",
       "    </tr>\n",
       "  </tbody>\n",
       "</table>\n",
       "</div>"
      ],
      "text/plain": [
       "  Sharpe Ratio Expected Return  \\\n",
       "0     0.452494     1.30081e+06   \n",
       "\n",
       "                            Number of Bitcoins Owned  \n",
       "0  0    3.436467\n",
       "Name: current_savings, dtype: fl...  "
      ]
     },
     "execution_count": 60,
     "metadata": {},
     "output_type": "execute_result"
    }
   ],
   "source": [
    "df.head()"
   ]
  },
  {
   "cell_type": "code",
   "execution_count": 61,
   "metadata": {},
   "outputs": [],
   "source": [
    "df.to_csv('user_output.csv', sep=',')"
   ]
  },
  {
   "cell_type": "code",
   "execution_count": null,
   "metadata": {},
   "outputs": [],
   "source": []
  },
  {
   "cell_type": "code",
   "execution_count": null,
   "metadata": {},
   "outputs": [],
   "source": []
  },
  {
   "cell_type": "code",
   "execution_count": null,
   "metadata": {},
   "outputs": [],
   "source": []
  },
  {
   "cell_type": "code",
   "execution_count": null,
   "metadata": {},
   "outputs": [],
   "source": []
  },
  {
   "cell_type": "code",
   "execution_count": null,
   "metadata": {},
   "outputs": [],
   "source": []
  },
  {
   "cell_type": "code",
   "execution_count": null,
   "metadata": {},
   "outputs": [],
   "source": []
  },
  {
   "cell_type": "code",
   "execution_count": null,
   "metadata": {},
   "outputs": [],
   "source": []
  },
  {
   "cell_type": "code",
   "execution_count": null,
   "metadata": {},
   "outputs": [],
   "source": []
  },
  {
   "cell_type": "code",
   "execution_count": null,
   "metadata": {},
   "outputs": [],
   "source": []
  }
 ],
 "metadata": {
  "kernelspec": {
   "display_name": "Python 3",
   "language": "python",
   "name": "python3"
  },
  "language_info": {
   "codemirror_mode": {
    "name": "ipython",
    "version": 3
   },
   "file_extension": ".py",
   "mimetype": "text/x-python",
   "name": "python",
   "nbconvert_exporter": "python",
   "pygments_lexer": "ipython3",
   "version": "3.8.3"
  }
 },
 "nbformat": 4,
 "nbformat_minor": 4
}
>>>>>>> 02ed7a2eeff771ac2a624eaf5246f242d81bac11
